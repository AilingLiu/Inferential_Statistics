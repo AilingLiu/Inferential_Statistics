{
  "nbformat": 4,
  "nbformat_minor": 0,
  "metadata": {
    "colab": {
      "provenance": [],
      "toc_visible": true,
      "authorship_tag": "ABX9TyOv4NN4Mei8pnqbYQ7UpySP",
      "include_colab_link": true
    },
    "kernelspec": {
      "name": "python3",
      "display_name": "Python 3"
    },
    "language_info": {
      "name": "python"
    }
  },
  "cells": [
    {
      "cell_type": "markdown",
      "metadata": {
        "id": "view-in-github",
        "colab_type": "text"
      },
      "source": [
        "<a href=\"https://colab.research.google.com/github/AilingLiu/Inferential_Statistics/blob/master/Experiment_Design.ipynb\" target=\"_parent\"><img src=\"https://colab.research.google.com/assets/colab-badge.svg\" alt=\"Open In Colab\"/></a>"
      ]
    },
    {
      "cell_type": "markdown",
      "source": [
        "#To Start"
      ],
      "metadata": {
        "id": "RNoZEI2RQR_D"
      }
    },
    {
      "cell_type": "code",
      "execution_count": 13,
      "metadata": {
        "id": "_CvnVdVpL2Zo"
      },
      "outputs": [],
      "source": [
        "import pandas as pd\n",
        "import numpy as np\n",
        "import matplotlib.pyplot as plt\n",
        "import seaborn as sns\n",
        "from statsmodels.graphics.gofplots import qqplot\n",
        "from scipy.stats.distributions import norm\n",
        "from scipy.stats import shapiro\n",
        "from scipy import stats"
      ]
    },
    {
      "cell_type": "markdown",
      "source": [
        "# Tests for normality\n",
        "\n",
        "After plotting the data distribution using tools such as `sns.displot` and `qqplot`, we can conduct one of the below tests for normaltiy check whether it's significant.\n",
        "\n",
        "$H_0$: Data is drawn from a Normal Distribution\n",
        "\n",
        "- Shapiro-Wilk (good for smaller datasets) `scipy.stats.shapiro`\n",
        "- D'Agostino K (uses kurtosis and skewness)\n",
        "- Anderson-Darling (returns list of values)\n",
        "\n"
      ],
      "metadata": {
        "id": "FvyvMxiQMLIv"
      }
    },
    {
      "cell_type": "code",
      "source": [
        "penguins = sns.load_dataset('penguins')"
      ],
      "metadata": {
        "id": "bZ7pbJVwMIf8"
      },
      "execution_count": 3,
      "outputs": []
    },
    {
      "cell_type": "code",
      "source": [
        "penguins=penguins.dropna()\n",
        "penguins.describe()"
      ],
      "metadata": {
        "colab": {
          "base_uri": "https://localhost:8080/",
          "height": 300
        },
        "id": "FJxE9XOiNlnA",
        "outputId": "5bbfc04d-7d83-4615-9776-25f022470cf7"
      },
      "execution_count": 4,
      "outputs": [
        {
          "output_type": "execute_result",
          "data": {
            "text/plain": [
              "       bill_length_mm  bill_depth_mm  flipper_length_mm  body_mass_g\n",
              "count      333.000000     333.000000         333.000000   333.000000\n",
              "mean        43.992793      17.164865         200.966967  4207.057057\n",
              "std          5.468668       1.969235          14.015765   805.215802\n",
              "min         32.100000      13.100000         172.000000  2700.000000\n",
              "25%         39.500000      15.600000         190.000000  3550.000000\n",
              "50%         44.500000      17.300000         197.000000  4050.000000\n",
              "75%         48.600000      18.700000         213.000000  4775.000000\n",
              "max         59.600000      21.500000         231.000000  6300.000000"
            ],
            "text/html": [
              "\n",
              "  <div id=\"df-5c8f39bd-8bb7-47f0-8516-fd25dd94e0a4\" class=\"colab-df-container\">\n",
              "    <div>\n",
              "<style scoped>\n",
              "    .dataframe tbody tr th:only-of-type {\n",
              "        vertical-align: middle;\n",
              "    }\n",
              "\n",
              "    .dataframe tbody tr th {\n",
              "        vertical-align: top;\n",
              "    }\n",
              "\n",
              "    .dataframe thead th {\n",
              "        text-align: right;\n",
              "    }\n",
              "</style>\n",
              "<table border=\"1\" class=\"dataframe\">\n",
              "  <thead>\n",
              "    <tr style=\"text-align: right;\">\n",
              "      <th></th>\n",
              "      <th>bill_length_mm</th>\n",
              "      <th>bill_depth_mm</th>\n",
              "      <th>flipper_length_mm</th>\n",
              "      <th>body_mass_g</th>\n",
              "    </tr>\n",
              "  </thead>\n",
              "  <tbody>\n",
              "    <tr>\n",
              "      <th>count</th>\n",
              "      <td>333.000000</td>\n",
              "      <td>333.000000</td>\n",
              "      <td>333.000000</td>\n",
              "      <td>333.000000</td>\n",
              "    </tr>\n",
              "    <tr>\n",
              "      <th>mean</th>\n",
              "      <td>43.992793</td>\n",
              "      <td>17.164865</td>\n",
              "      <td>200.966967</td>\n",
              "      <td>4207.057057</td>\n",
              "    </tr>\n",
              "    <tr>\n",
              "      <th>std</th>\n",
              "      <td>5.468668</td>\n",
              "      <td>1.969235</td>\n",
              "      <td>14.015765</td>\n",
              "      <td>805.215802</td>\n",
              "    </tr>\n",
              "    <tr>\n",
              "      <th>min</th>\n",
              "      <td>32.100000</td>\n",
              "      <td>13.100000</td>\n",
              "      <td>172.000000</td>\n",
              "      <td>2700.000000</td>\n",
              "    </tr>\n",
              "    <tr>\n",
              "      <th>25%</th>\n",
              "      <td>39.500000</td>\n",
              "      <td>15.600000</td>\n",
              "      <td>190.000000</td>\n",
              "      <td>3550.000000</td>\n",
              "    </tr>\n",
              "    <tr>\n",
              "      <th>50%</th>\n",
              "      <td>44.500000</td>\n",
              "      <td>17.300000</td>\n",
              "      <td>197.000000</td>\n",
              "      <td>4050.000000</td>\n",
              "    </tr>\n",
              "    <tr>\n",
              "      <th>75%</th>\n",
              "      <td>48.600000</td>\n",
              "      <td>18.700000</td>\n",
              "      <td>213.000000</td>\n",
              "      <td>4775.000000</td>\n",
              "    </tr>\n",
              "    <tr>\n",
              "      <th>max</th>\n",
              "      <td>59.600000</td>\n",
              "      <td>21.500000</td>\n",
              "      <td>231.000000</td>\n",
              "      <td>6300.000000</td>\n",
              "    </tr>\n",
              "  </tbody>\n",
              "</table>\n",
              "</div>\n",
              "    <div class=\"colab-df-buttons\">\n",
              "\n",
              "  <div class=\"colab-df-container\">\n",
              "    <button class=\"colab-df-convert\" onclick=\"convertToInteractive('df-5c8f39bd-8bb7-47f0-8516-fd25dd94e0a4')\"\n",
              "            title=\"Convert this dataframe to an interactive table.\"\n",
              "            style=\"display:none;\">\n",
              "\n",
              "  <svg xmlns=\"http://www.w3.org/2000/svg\" height=\"24px\" viewBox=\"0 -960 960 960\">\n",
              "    <path d=\"M120-120v-720h720v720H120Zm60-500h600v-160H180v160Zm220 220h160v-160H400v160Zm0 220h160v-160H400v160ZM180-400h160v-160H180v160Zm440 0h160v-160H620v160ZM180-180h160v-160H180v160Zm440 0h160v-160H620v160Z\"/>\n",
              "  </svg>\n",
              "    </button>\n",
              "\n",
              "  <style>\n",
              "    .colab-df-container {\n",
              "      display:flex;\n",
              "      gap: 12px;\n",
              "    }\n",
              "\n",
              "    .colab-df-convert {\n",
              "      background-color: #E8F0FE;\n",
              "      border: none;\n",
              "      border-radius: 50%;\n",
              "      cursor: pointer;\n",
              "      display: none;\n",
              "      fill: #1967D2;\n",
              "      height: 32px;\n",
              "      padding: 0 0 0 0;\n",
              "      width: 32px;\n",
              "    }\n",
              "\n",
              "    .colab-df-convert:hover {\n",
              "      background-color: #E2EBFA;\n",
              "      box-shadow: 0px 1px 2px rgba(60, 64, 67, 0.3), 0px 1px 3px 1px rgba(60, 64, 67, 0.15);\n",
              "      fill: #174EA6;\n",
              "    }\n",
              "\n",
              "    .colab-df-buttons div {\n",
              "      margin-bottom: 4px;\n",
              "    }\n",
              "\n",
              "    [theme=dark] .colab-df-convert {\n",
              "      background-color: #3B4455;\n",
              "      fill: #D2E3FC;\n",
              "    }\n",
              "\n",
              "    [theme=dark] .colab-df-convert:hover {\n",
              "      background-color: #434B5C;\n",
              "      box-shadow: 0px 1px 3px 1px rgba(0, 0, 0, 0.15);\n",
              "      filter: drop-shadow(0px 1px 2px rgba(0, 0, 0, 0.3));\n",
              "      fill: #FFFFFF;\n",
              "    }\n",
              "  </style>\n",
              "\n",
              "    <script>\n",
              "      const buttonEl =\n",
              "        document.querySelector('#df-5c8f39bd-8bb7-47f0-8516-fd25dd94e0a4 button.colab-df-convert');\n",
              "      buttonEl.style.display =\n",
              "        google.colab.kernel.accessAllowed ? 'block' : 'none';\n",
              "\n",
              "      async function convertToInteractive(key) {\n",
              "        const element = document.querySelector('#df-5c8f39bd-8bb7-47f0-8516-fd25dd94e0a4');\n",
              "        const dataTable =\n",
              "          await google.colab.kernel.invokeFunction('convertToInteractive',\n",
              "                                                    [key], {});\n",
              "        if (!dataTable) return;\n",
              "\n",
              "        const docLinkHtml = 'Like what you see? Visit the ' +\n",
              "          '<a target=\"_blank\" href=https://colab.research.google.com/notebooks/data_table.ipynb>data table notebook</a>'\n",
              "          + ' to learn more about interactive tables.';\n",
              "        element.innerHTML = '';\n",
              "        dataTable['output_type'] = 'display_data';\n",
              "        await google.colab.output.renderOutput(dataTable, element);\n",
              "        const docLink = document.createElement('div');\n",
              "        docLink.innerHTML = docLinkHtml;\n",
              "        element.appendChild(docLink);\n",
              "      }\n",
              "    </script>\n",
              "  </div>\n",
              "\n",
              "\n",
              "    <div id=\"df-cdad6689-b5c8-4b09-9787-9c0bc49eba12\">\n",
              "      <button class=\"colab-df-quickchart\" onclick=\"quickchart('df-cdad6689-b5c8-4b09-9787-9c0bc49eba12')\"\n",
              "                title=\"Suggest charts\"\n",
              "                style=\"display:none;\">\n",
              "\n",
              "<svg xmlns=\"http://www.w3.org/2000/svg\" height=\"24px\"viewBox=\"0 0 24 24\"\n",
              "     width=\"24px\">\n",
              "    <g>\n",
              "        <path d=\"M19 3H5c-1.1 0-2 .9-2 2v14c0 1.1.9 2 2 2h14c1.1 0 2-.9 2-2V5c0-1.1-.9-2-2-2zM9 17H7v-7h2v7zm4 0h-2V7h2v10zm4 0h-2v-4h2v4z\"/>\n",
              "    </g>\n",
              "</svg>\n",
              "      </button>\n",
              "\n",
              "<style>\n",
              "  .colab-df-quickchart {\n",
              "      --bg-color: #E8F0FE;\n",
              "      --fill-color: #1967D2;\n",
              "      --hover-bg-color: #E2EBFA;\n",
              "      --hover-fill-color: #174EA6;\n",
              "      --disabled-fill-color: #AAA;\n",
              "      --disabled-bg-color: #DDD;\n",
              "  }\n",
              "\n",
              "  [theme=dark] .colab-df-quickchart {\n",
              "      --bg-color: #3B4455;\n",
              "      --fill-color: #D2E3FC;\n",
              "      --hover-bg-color: #434B5C;\n",
              "      --hover-fill-color: #FFFFFF;\n",
              "      --disabled-bg-color: #3B4455;\n",
              "      --disabled-fill-color: #666;\n",
              "  }\n",
              "\n",
              "  .colab-df-quickchart {\n",
              "    background-color: var(--bg-color);\n",
              "    border: none;\n",
              "    border-radius: 50%;\n",
              "    cursor: pointer;\n",
              "    display: none;\n",
              "    fill: var(--fill-color);\n",
              "    height: 32px;\n",
              "    padding: 0;\n",
              "    width: 32px;\n",
              "  }\n",
              "\n",
              "  .colab-df-quickchart:hover {\n",
              "    background-color: var(--hover-bg-color);\n",
              "    box-shadow: 0 1px 2px rgba(60, 64, 67, 0.3), 0 1px 3px 1px rgba(60, 64, 67, 0.15);\n",
              "    fill: var(--button-hover-fill-color);\n",
              "  }\n",
              "\n",
              "  .colab-df-quickchart-complete:disabled,\n",
              "  .colab-df-quickchart-complete:disabled:hover {\n",
              "    background-color: var(--disabled-bg-color);\n",
              "    fill: var(--disabled-fill-color);\n",
              "    box-shadow: none;\n",
              "  }\n",
              "\n",
              "  .colab-df-spinner {\n",
              "    border: 2px solid var(--fill-color);\n",
              "    border-color: transparent;\n",
              "    border-bottom-color: var(--fill-color);\n",
              "    animation:\n",
              "      spin 1s steps(1) infinite;\n",
              "  }\n",
              "\n",
              "  @keyframes spin {\n",
              "    0% {\n",
              "      border-color: transparent;\n",
              "      border-bottom-color: var(--fill-color);\n",
              "      border-left-color: var(--fill-color);\n",
              "    }\n",
              "    20% {\n",
              "      border-color: transparent;\n",
              "      border-left-color: var(--fill-color);\n",
              "      border-top-color: var(--fill-color);\n",
              "    }\n",
              "    30% {\n",
              "      border-color: transparent;\n",
              "      border-left-color: var(--fill-color);\n",
              "      border-top-color: var(--fill-color);\n",
              "      border-right-color: var(--fill-color);\n",
              "    }\n",
              "    40% {\n",
              "      border-color: transparent;\n",
              "      border-right-color: var(--fill-color);\n",
              "      border-top-color: var(--fill-color);\n",
              "    }\n",
              "    60% {\n",
              "      border-color: transparent;\n",
              "      border-right-color: var(--fill-color);\n",
              "    }\n",
              "    80% {\n",
              "      border-color: transparent;\n",
              "      border-right-color: var(--fill-color);\n",
              "      border-bottom-color: var(--fill-color);\n",
              "    }\n",
              "    90% {\n",
              "      border-color: transparent;\n",
              "      border-bottom-color: var(--fill-color);\n",
              "    }\n",
              "  }\n",
              "</style>\n",
              "\n",
              "      <script>\n",
              "        async function quickchart(key) {\n",
              "          const quickchartButtonEl =\n",
              "            document.querySelector('#' + key + ' button');\n",
              "          quickchartButtonEl.disabled = true;  // To prevent multiple clicks.\n",
              "          quickchartButtonEl.classList.add('colab-df-spinner');\n",
              "          try {\n",
              "            const charts = await google.colab.kernel.invokeFunction(\n",
              "                'suggestCharts', [key], {});\n",
              "          } catch (error) {\n",
              "            console.error('Error during call to suggestCharts:', error);\n",
              "          }\n",
              "          quickchartButtonEl.classList.remove('colab-df-spinner');\n",
              "          quickchartButtonEl.classList.add('colab-df-quickchart-complete');\n",
              "        }\n",
              "        (() => {\n",
              "          let quickchartButtonEl =\n",
              "            document.querySelector('#df-cdad6689-b5c8-4b09-9787-9c0bc49eba12 button');\n",
              "          quickchartButtonEl.style.display =\n",
              "            google.colab.kernel.accessAllowed ? 'block' : 'none';\n",
              "        })();\n",
              "      </script>\n",
              "    </div>\n",
              "\n",
              "    </div>\n",
              "  </div>\n"
            ],
            "application/vnd.google.colaboratory.intrinsic+json": {
              "type": "dataframe",
              "summary": "{\n  \"name\": \"penguins\",\n  \"rows\": 8,\n  \"fields\": [\n    {\n      \"column\": \"bill_length_mm\",\n      \"properties\": {\n        \"dtype\": \"number\",\n        \"std\": 105.09816384915695,\n        \"min\": 5.468668342647562,\n        \"max\": 333.0,\n        \"num_unique_values\": 8,\n        \"samples\": [\n          43.99279279279279,\n          44.5,\n          333.0\n        ],\n        \"semantic_type\": \"\",\n        \"description\": \"\"\n      }\n    },\n    {\n      \"column\": \"bill_depth_mm\",\n      \"properties\": {\n        \"dtype\": \"number\",\n        \"std\": 112.56529060018214,\n        \"min\": 1.9692354633199,\n        \"max\": 333.0,\n        \"num_unique_values\": 8,\n        \"samples\": [\n          17.164864864864864,\n          17.3,\n          333.0\n        ],\n        \"semantic_type\": \"\",\n        \"description\": \"\"\n      }\n    },\n    {\n      \"column\": \"flipper_length_mm\",\n      \"properties\": {\n        \"dtype\": \"number\",\n        \"std\": 87.83322997856418,\n        \"min\": 14.015765288287882,\n        \"max\": 333.0,\n        \"num_unique_values\": 8,\n        \"samples\": [\n          200.96696696696696,\n          197.0,\n          333.0\n        ],\n        \"semantic_type\": \"\",\n        \"description\": \"\"\n      }\n    },\n    {\n      \"column\": \"body_mass_g\",\n      \"properties\": {\n        \"dtype\": \"number\",\n        \"std\": 1999.914028923884,\n        \"min\": 333.0,\n        \"max\": 6300.0,\n        \"num_unique_values\": 8,\n        \"samples\": [\n          4207.057057057057,\n          4050.0,\n          333.0\n        ],\n        \"semantic_type\": \"\",\n        \"description\": \"\"\n      }\n    }\n  ]\n}"
            }
          },
          "metadata": {},
          "execution_count": 4
        }
      ]
    },
    {
      "cell_type": "markdown",
      "source": [
        "from statsmodels.graphics.gofplots import qqplotfrom scipy.stats.distributions import normqqplot(salaries['salary'],        line='s',        dist=norm)plt.show()"
      ],
      "metadata": {
        "id": "nst2rJsHPd3U"
      }
    },
    {
      "cell_type": "code",
      "source": [
        "fig, (ax1, ax2) = plt.subplots(1,2)\n",
        "sns.kdeplot(penguins, x='body_mass_g', ax=ax1)\n",
        "ax1.set_title('Body Mass Distribution')\n",
        "\n",
        "qqplot(penguins['body_mass_g'], line='s', dist=norm, ax=ax2)\n",
        "ax2.set_title('QQ Plot')\n",
        "plt.show()"
      ],
      "metadata": {
        "colab": {
          "base_uri": "https://localhost:8080/",
          "height": 472
        },
        "id": "CshOfrEKPYra",
        "outputId": "6c27700a-80ba-404c-bdc9-85a4da97c563"
      },
      "execution_count": 19,
      "outputs": [
        {
          "output_type": "display_data",
          "data": {
            "text/plain": [
              "<Figure size 640x480 with 2 Axes>"
            ],
            "image/png": "[encoded data removed]"
          },
          "metadata": {}
        }
      ]
    },
    {
      "cell_type": "markdown",
      "source": [
        "The distribution has a normal bell shape on the left, but when compared with the normal distribution, we can see that the end part tapers off. Let's start the p value test of normality."
      ],
      "metadata": {
        "id": "DIirID3cOUU-"
      }
    },
    {
      "cell_type": "markdown",
      "source": [
        "## The Shapiro-Wilk Test"
      ],
      "metadata": {
        "id": "uuLXcnjkOcv2"
      }
    },
    {
      "cell_type": "code",
      "source": [
        "stats, p=shapiro(penguins['body_mass_g'])\n",
        "print(f'Stats:{stats}')\n",
        "print(f'P value: {p}')"
      ],
      "metadata": {
        "colab": {
          "base_uri": "https://localhost:8080/"
        },
        "id": "sVnnaNxpOSJK",
        "outputId": "cdaeef31-3962-4695-dfd9-3dfb2c0430ea"
      },
      "execution_count": 11,
      "outputs": [
        {
          "output_type": "stream",
          "name": "stdout",
          "text": [
            "Stats:0.9580123688127105\n",
            "P value: 3.567711408268874e-08\n"
          ]
        }
      ]
    },
    {
      "cell_type": "markdown",
      "source": [
        "Based on the P value being so small, we can confidently reject the Null Hypothesis and conclude the Penguin body mass is not normally distributed."
      ],
      "metadata": {
        "id": "w6JPl2qQQdVg"
      }
    },
    {
      "cell_type": "markdown",
      "source": [
        "## An Anderson-Darling test"
      ],
      "metadata": {
        "id": "ghNJkR6P1ZuC"
      }
    },
    {
      "cell_type": "code",
      "source": [
        "from scipy.stats import anderson\n",
        "\n",
        "result = anderson(x=penguins['body_mass_g'], dist='norm')\n",
        "print(round(result.statistic, 4))\n",
        "print(result.significance_level)\n",
        "print(result.critical_values)"
      ],
      "metadata": {
        "colab": {
          "base_uri": "https://localhost:8080/"
        },
        "id": "qQf2I_5xO2kd",
        "outputId": "03ad7c8b-b703-415b-dbb4-713f26c11b4f"
      },
      "execution_count": 6,
      "outputs": [
        {
          "output_type": "stream",
          "name": "stdout",
          "text": [
            "4.6146\n",
            "[15.  10.   5.   2.5  1. ]\n",
            "[0.569 0.648 0.778 0.907 1.079]\n"
          ]
        }
      ]
    },
    {
      "cell_type": "markdown",
      "source": [
        "Since the calculated statistic value is greater than any of the critical values from the list of significance level, we fail to reject null hypothesis, hence the distribution of penguin body mass is likely not normal."
      ],
      "metadata": {
        "id": "wrcleyR611Jx"
      }
    },
    {
      "cell_type": "code",
      "source": [
        "fig, (ax1, ax2) = plt.subplots(1,2)\n",
        "\n",
        "sns.kdeplot(penguins, x='bill_length_mm', ax=ax1)\n",
        "ax1.set_title('Filipper Length Distribution')\n",
        "\n",
        "qqplot(penguins['bill_length_mm'], line='s', dist=norm, ax=ax2)\n",
        "ax2.set_title('QQ Plot')\n",
        "plt.show()"
      ],
      "metadata": {
        "colab": {
          "base_uri": "https://localhost:8080/",
          "height": 472
        },
        "id": "XN48uEB32b0k",
        "outputId": "5f3d0f76-1e22-4eec-b7c9-d19da100e9ae"
      },
      "execution_count": 12,
      "outputs": [
        {
          "output_type": "display_data",
          "data": {
            "text/plain": [
              "<Figure size 640x480 with 2 Axes>"
            ],
            "image/png": "[encoded data removed]"
          },
          "metadata": {}
        }
      ]
    },
    {
      "cell_type": "markdown",
      "source": [
        "Another example of test of normality: iris petal length"
      ],
      "metadata": {
        "id": "NCreng7Z2VT8"
      }
    },
    {
      "cell_type": "code",
      "source": [
        "iris=sns.load_dataset('iris')\n",
        "\n",
        "versicolor_length = iris.query('species==\"versicolor\"')['petal_length']\n",
        "qqplot(versicolor_length, line='s', dist=norm);"
      ],
      "metadata": {
        "colab": {
          "base_uri": "https://localhost:8080/",
          "height": 449
        },
        "id": "D9qEpVrj2Uyb",
        "outputId": "d968a5f7-9950-46f0-e3ee-4119b9f74398"
      },
      "execution_count": 23,
      "outputs": [
        {
          "output_type": "display_data",
          "data": {
            "text/plain": [
              "<Figure size 640x480 with 1 Axes>"
            ],
            "image/png": "[encoded data removed]"
          },
          "metadata": {}
        }
      ]
    },
    {
      "cell_type": "code",
      "source": [
        "sns.kdeplot(versicolor_length);"
      ],
      "metadata": {
        "colab": {
          "base_uri": "https://localhost:8080/",
          "height": 450
        },
        "id": "1l3Msuk_3508",
        "outputId": "d2589016-25b3-4a83-e7f9-411cbf691e38"
      },
      "execution_count": 28,
      "outputs": [
        {
          "output_type": "display_data",
          "data": {
            "text/plain": [
              "<Figure size 640x480 with 1 Axes>"
            ],
            "image/png": "[encoded data removed]"
          },
          "metadata": {}
        }
      ]
    },
    {
      "cell_type": "code",
      "source": [
        "shapiro(versicolor_length)"
      ],
      "metadata": {
        "colab": {
          "base_uri": "https://localhost:8080/"
        },
        "id": "5QI8lVli1gkn",
        "outputId": "55790b0a-574f-47a6-aeb3-9a0e1357e7a9"
      },
      "execution_count": 27,
      "outputs": [
        {
          "output_type": "execute_result",
          "data": {
            "text/plain": [
              "ShapiroResult(statistic=np.float64(0.96600440254332), pvalue=np.float64(0.15847783815657573))"
            ]
          },
          "metadata": {},
          "execution_count": 27
        }
      ]
    },
    {
      "cell_type": "markdown",
      "source": [
        "The p-value here is greater than significance level (.05), hence fail to reject H Null. The distribution is likely normal."
      ],
      "metadata": {
        "id": "PRxzpkQJ4P2P"
      }
    },
    {
      "cell_type": "code",
      "source": [
        "from statsmodels.stats.proportion import proportions_ztest\n",
        "\n",
        "z, pval=proportions_ztest(count=[60,63],nobs=[100, 150])\n",
        "print(pval)"
      ],
      "metadata": {
        "colab": {
          "base_uri": "https://localhost:8080/"
        },
        "id": "E7PJiCVj4h3q",
        "outputId": "5320f3e5-9508-4f1d-e644-a449e4b625b2"
      },
      "execution_count": 1,
      "outputs": [
        {
          "output_type": "stream",
          "name": "stdout",
          "text": [
            "0.005288657396873256\n"
          ]
        }
      ]
    },
    {
      "cell_type": "code",
      "source": [
        "from statsmodels.stats.proportion import proportion_confint\n",
        "\n",
        "low, up = proportion_confint(count=[60,63],nobs=[100, 150], alpha=0.05)\n",
        "low,up"
      ],
      "metadata": {
        "colab": {
          "base_uri": "https://localhost:8080/"
        },
        "id": "YoBvDMNFHL9z",
        "outputId": "7c955a02-7b39-4a4d-bfde-0a4c7ec46179"
      },
      "execution_count": 2,
      "outputs": [
        {
          "output_type": "execute_result",
          "data": {
            "text/plain": [
              "(array([0.50398177, 0.34101564]), array([0.69601823, 0.49898436]))"
            ]
          },
          "metadata": {},
          "execution_count": 2
        }
      ]
    },
    {
      "cell_type": "markdown",
      "source": [
        "# Calculate Power, Effect Size, and Sample Size for experiment"
      ],
      "metadata": {
        "id": "QiZ1bP1qM1yD"
      }
    },
    {
      "cell_type": "markdown",
      "source": [
        "**Effect Size for mean**\n",
        "\n",
        "cohens'D: $\\frac{(\\mu_b - \\mu_a)}{SD_{pooled}}$\n",
        "\n",
        "where $SD_{pooled}=\\sqrt{\\frac{var_A + var_B}{2}}$\n",
        "\n",
        "\n",
        "**Effect Size for proportions**\n",
        "\n",
        "cohens'H: $2arcsin\\sqrt{p_1}-2arcsin\\sqrt{p_2}$\n",
        "\n",
        "* we can use `statsmodels.stats.porportion.porportion_effectsize(p_b, p_a)` to get the effect size of proportions."
      ],
      "metadata": {
        "id": "siLtOaB0M7fQ"
      }
    },
    {
      "cell_type": "markdown",
      "source": [
        "Sample size estimation for means example"
      ],
      "metadata": {
        "id": "HCY7zRRBRDnq"
      }
    },
    {
      "cell_type": "code",
      "source": [
        "data=sns.load_dataset('exercise')\n",
        "data.info()"
      ],
      "metadata": {
        "colab": {
          "base_uri": "https://localhost:8080/"
        },
        "id": "UZojazsMQYp3",
        "outputId": "a6d04b25-dd80-4887-dc73-684eccdf06c1"
      },
      "execution_count": 11,
      "outputs": [
        {
          "output_type": "stream",
          "name": "stdout",
          "text": [
            "<class 'pandas.core.frame.DataFrame'>\n",
            "RangeIndex: 90 entries, 0 to 89\n",
            "Data columns (total 6 columns):\n",
            " #   Column      Non-Null Count  Dtype   \n",
            "---  ------      --------------  -----   \n",
            " 0   Unnamed: 0  90 non-null     int64   \n",
            " 1   id          90 non-null     int64   \n",
            " 2   diet        90 non-null     category\n",
            " 3   pulse       90 non-null     int64   \n",
            " 4   time        90 non-null     category\n",
            " 5   kind        90 non-null     category\n",
            "dtypes: category(3), int64(3)\n",
            "memory usage: 2.9 KB\n"
          ]
        }
      ]
    },
    {
      "cell_type": "code",
      "source": [
        "data.groupby('diet').agg({'id':'count', 'pulse':'mean'})"
      ],
      "metadata": {
        "colab": {
          "base_uri": "https://localhost:8080/",
          "height": 198
        },
        "id": "UAkM_-eURZej",
        "outputId": "9fcf831b-5819-4427-a002-d1af03d259c4"
      },
      "execution_count": 18,
      "outputs": [
        {
          "output_type": "stream",
          "name": "stderr",
          "text": [
            "<ipython-input-18-a91e36c34f81>:1: FutureWarning: The default of observed=False is deprecated and will be changed to True in a future version of pandas. Pass observed=False to retain current behavior or observed=True to adopt the future default and silence this warning.\n",
            "  data.groupby('diet').agg({'id':'count', 'pulse':'mean'})\n"
          ]
        },
        {
          "output_type": "execute_result",
          "data": {
            "text/plain": [
              "         id       pulse\n",
              "diet                   \n",
              "no fat   45  103.444444\n",
              "low fat  45   95.955556"
            ],
            "text/html": [
              "\n",
              "  <div id=\"df-fbfc348a-085b-40b6-b656-e621fb9acb80\" class=\"colab-df-container\">\n",
              "    <div>\n",
              "<style scoped>\n",
              "    .dataframe tbody tr th:only-of-type {\n",
              "        vertical-align: middle;\n",
              "    }\n",
              "\n",
              "    .dataframe tbody tr th {\n",
              "        vertical-align: top;\n",
              "    }\n",
              "\n",
              "    .dataframe thead th {\n",
              "        text-align: right;\n",
              "    }\n",
              "</style>\n",
              "<table border=\"1\" class=\"dataframe\">\n",
              "  <thead>\n",
              "    <tr style=\"text-align: right;\">\n",
              "      <th></th>\n",
              "      <th>id</th>\n",
              "      <th>pulse</th>\n",
              "    </tr>\n",
              "    <tr>\n",
              "      <th>diet</th>\n",
              "      <th></th>\n",
              "      <th></th>\n",
              "    </tr>\n",
              "  </thead>\n",
              "  <tbody>\n",
              "    <tr>\n",
              "      <th>no fat</th>\n",
              "      <td>45</td>\n",
              "      <td>103.444444</td>\n",
              "    </tr>\n",
              "    <tr>\n",
              "      <th>low fat</th>\n",
              "      <td>45</td>\n",
              "      <td>95.955556</td>\n",
              "    </tr>\n",
              "  </tbody>\n",
              "</table>\n",
              "</div>\n",
              "    <div class=\"colab-df-buttons\">\n",
              "\n",
              "  <div class=\"colab-df-container\">\n",
              "    <button class=\"colab-df-convert\" onclick=\"convertToInteractive('df-fbfc348a-085b-40b6-b656-e621fb9acb80')\"\n",
              "            title=\"Convert this dataframe to an interactive table.\"\n",
              "            style=\"display:none;\">\n",
              "\n",
              "  <svg xmlns=\"http://www.w3.org/2000/svg\" height=\"24px\" viewBox=\"0 -960 960 960\">\n",
              "    <path d=\"M120-120v-720h720v720H120Zm60-500h600v-160H180v160Zm220 220h160v-160H400v160Zm0 220h160v-160H400v160ZM180-400h160v-160H180v160Zm440 0h160v-160H620v160ZM180-180h160v-160H180v160Zm440 0h160v-160H620v160Z\"/>\n",
              "  </svg>\n",
              "    </button>\n",
              "\n",
              "  <style>\n",
              "    .colab-df-container {\n",
              "      display:flex;\n",
              "      gap: 12px;\n",
              "    }\n",
              "\n",
              "    .colab-df-convert {\n",
              "      background-color: #E8F0FE;\n",
              "      border: none;\n",
              "      border-radius: 50%;\n",
              "      cursor: pointer;\n",
              "      display: none;\n",
              "      fill: #1967D2;\n",
              "      height: 32px;\n",
              "      padding: 0 0 0 0;\n",
              "      width: 32px;\n",
              "    }\n",
              "\n",
              "    .colab-df-convert:hover {\n",
              "      background-color: #E2EBFA;\n",
              "      box-shadow: 0px 1px 2px rgba(60, 64, 67, 0.3), 0px 1px 3px 1px rgba(60, 64, 67, 0.15);\n",
              "      fill: #174EA6;\n",
              "    }\n",
              "\n",
              "    .colab-df-buttons div {\n",
              "      margin-bottom: 4px;\n",
              "    }\n",
              "\n",
              "    [theme=dark] .colab-df-convert {\n",
              "      background-color: #3B4455;\n",
              "      fill: #D2E3FC;\n",
              "    }\n",
              "\n",
              "    [theme=dark] .colab-df-convert:hover {\n",
              "      background-color: #434B5C;\n",
              "      box-shadow: 0px 1px 3px 1px rgba(0, 0, 0, 0.15);\n",
              "      filter: drop-shadow(0px 1px 2px rgba(0, 0, 0, 0.3));\n",
              "      fill: #FFFFFF;\n",
              "    }\n",
              "  </style>\n",
              "\n",
              "    <script>\n",
              "      const buttonEl =\n",
              "        document.querySelector('#df-fbfc348a-085b-40b6-b656-e621fb9acb80 button.colab-df-convert');\n",
              "      buttonEl.style.display =\n",
              "        google.colab.kernel.accessAllowed ? 'block' : 'none';\n",
              "\n",
              "      async function convertToInteractive(key) {\n",
              "        const element = document.querySelector('#df-fbfc348a-085b-40b6-b656-e621fb9acb80');\n",
              "        const dataTable =\n",
              "          await google.colab.kernel.invokeFunction('convertToInteractive',\n",
              "                                                    [key], {});\n",
              "        if (!dataTable) return;\n",
              "\n",
              "        const docLinkHtml = 'Like what you see? Visit the ' +\n",
              "          '<a target=\"_blank\" href=https://colab.research.google.com/notebooks/data_table.ipynb>data table notebook</a>'\n",
              "          + ' to learn more about interactive tables.';\n",
              "        element.innerHTML = '';\n",
              "        dataTable['output_type'] = 'display_data';\n",
              "        await google.colab.output.renderOutput(dataTable, element);\n",
              "        const docLink = document.createElement('div');\n",
              "        docLink.innerHTML = docLinkHtml;\n",
              "        element.appendChild(docLink);\n",
              "      }\n",
              "    </script>\n",
              "  </div>\n",
              "\n",
              "\n",
              "    <div id=\"df-8a4f24ff-42a3-4bb4-9bef-be9a802098e8\">\n",
              "      <button class=\"colab-df-quickchart\" onclick=\"quickchart('df-8a4f24ff-42a3-4bb4-9bef-be9a802098e8')\"\n",
              "                title=\"Suggest charts\"\n",
              "                style=\"display:none;\">\n",
              "\n",
              "<svg xmlns=\"http://www.w3.org/2000/svg\" height=\"24px\"viewBox=\"0 0 24 24\"\n",
              "     width=\"24px\">\n",
              "    <g>\n",
              "        <path d=\"M19 3H5c-1.1 0-2 .9-2 2v14c0 1.1.9 2 2 2h14c1.1 0 2-.9 2-2V5c0-1.1-.9-2-2-2zM9 17H7v-7h2v7zm4 0h-2V7h2v10zm4 0h-2v-4h2v4z\"/>\n",
              "    </g>\n",
              "</svg>\n",
              "      </button>\n",
              "\n",
              "<style>\n",
              "  .colab-df-quickchart {\n",
              "      --bg-color: #E8F0FE;\n",
              "      --fill-color: #1967D2;\n",
              "      --hover-bg-color: #E2EBFA;\n",
              "      --hover-fill-color: #174EA6;\n",
              "      --disabled-fill-color: #AAA;\n",
              "      --disabled-bg-color: #DDD;\n",
              "  }\n",
              "\n",
              "  [theme=dark] .colab-df-quickchart {\n",
              "      --bg-color: #3B4455;\n",
              "      --fill-color: #D2E3FC;\n",
              "      --hover-bg-color: #434B5C;\n",
              "      --hover-fill-color: #FFFFFF;\n",
              "      --disabled-bg-color: #3B4455;\n",
              "      --disabled-fill-color: #666;\n",
              "  }\n",
              "\n",
              "  .colab-df-quickchart {\n",
              "    background-color: var(--bg-color);\n",
              "    border: none;\n",
              "    border-radius: 50%;\n",
              "    cursor: pointer;\n",
              "    display: none;\n",
              "    fill: var(--fill-color);\n",
              "    height: 32px;\n",
              "    padding: 0;\n",
              "    width: 32px;\n",
              "  }\n",
              "\n",
              "  .colab-df-quickchart:hover {\n",
              "    background-color: var(--hover-bg-color);\n",
              "    box-shadow: 0 1px 2px rgba(60, 64, 67, 0.3), 0 1px 3px 1px rgba(60, 64, 67, 0.15);\n",
              "    fill: var(--button-hover-fill-color);\n",
              "  }\n",
              "\n",
              "  .colab-df-quickchart-complete:disabled,\n",
              "  .colab-df-quickchart-complete:disabled:hover {\n",
              "    background-color: var(--disabled-bg-color);\n",
              "    fill: var(--disabled-fill-color);\n",
              "    box-shadow: none;\n",
              "  }\n",
              "\n",
              "  .colab-df-spinner {\n",
              "    border: 2px solid var(--fill-color);\n",
              "    border-color: transparent;\n",
              "    border-bottom-color: var(--fill-color);\n",
              "    animation:\n",
              "      spin 1s steps(1) infinite;\n",
              "  }\n",
              "\n",
              "  @keyframes spin {\n",
              "    0% {\n",
              "      border-color: transparent;\n",
              "      border-bottom-color: var(--fill-color);\n",
              "      border-left-color: var(--fill-color);\n",
              "    }\n",
              "    20% {\n",
              "      border-color: transparent;\n",
              "      border-left-color: var(--fill-color);\n",
              "      border-top-color: var(--fill-color);\n",
              "    }\n",
              "    30% {\n",
              "      border-color: transparent;\n",
              "      border-left-color: var(--fill-color);\n",
              "      border-top-color: var(--fill-color);\n",
              "      border-right-color: var(--fill-color);\n",
              "    }\n",
              "    40% {\n",
              "      border-color: transparent;\n",
              "      border-right-color: var(--fill-color);\n",
              "      border-top-color: var(--fill-color);\n",
              "    }\n",
              "    60% {\n",
              "      border-color: transparent;\n",
              "      border-right-color: var(--fill-color);\n",
              "    }\n",
              "    80% {\n",
              "      border-color: transparent;\n",
              "      border-right-color: var(--fill-color);\n",
              "      border-bottom-color: var(--fill-color);\n",
              "    }\n",
              "    90% {\n",
              "      border-color: transparent;\n",
              "      border-bottom-color: var(--fill-color);\n",
              "    }\n",
              "  }\n",
              "</style>\n",
              "\n",
              "      <script>\n",
              "        async function quickchart(key) {\n",
              "          const quickchartButtonEl =\n",
              "            document.querySelector('#' + key + ' button');\n",
              "          quickchartButtonEl.disabled = true;  // To prevent multiple clicks.\n",
              "          quickchartButtonEl.classList.add('colab-df-spinner');\n",
              "          try {\n",
              "            const charts = await google.colab.kernel.invokeFunction(\n",
              "                'suggestCharts', [key], {});\n",
              "          } catch (error) {\n",
              "            console.error('Error during call to suggestCharts:', error);\n",
              "          }\n",
              "          quickchartButtonEl.classList.remove('colab-df-spinner');\n",
              "          quickchartButtonEl.classList.add('colab-df-quickchart-complete');\n",
              "        }\n",
              "        (() => {\n",
              "          let quickchartButtonEl =\n",
              "            document.querySelector('#df-8a4f24ff-42a3-4bb4-9bef-be9a802098e8 button');\n",
              "          quickchartButtonEl.style.display =\n",
              "            google.colab.kernel.accessAllowed ? 'block' : 'none';\n",
              "        })();\n",
              "      </script>\n",
              "    </div>\n",
              "\n",
              "    </div>\n",
              "  </div>\n"
            ],
            "application/vnd.google.colaboratory.intrinsic+json": {
              "type": "dataframe",
              "summary": "{\n  \"name\": \"data\",\n  \"rows\": 2,\n  \"fields\": [\n    {\n      \"column\": \"diet\",\n      \"properties\": {\n        \"dtype\": \"category\",\n        \"num_unique_values\": 2,\n        \"samples\": [\n          \"low fat\",\n          \"no fat\"\n        ],\n        \"semantic_type\": \"\",\n        \"description\": \"\"\n      }\n    },\n    {\n      \"column\": \"id\",\n      \"properties\": {\n        \"dtype\": \"number\",\n        \"std\": 0,\n        \"min\": 45,\n        \"max\": 45,\n        \"num_unique_values\": 1,\n        \"samples\": [\n          45\n        ],\n        \"semantic_type\": \"\",\n        \"description\": \"\"\n      }\n    },\n    {\n      \"column\": \"pulse\",\n      \"properties\": {\n        \"dtype\": \"number\",\n        \"std\": 5.2954441168859265,\n        \"min\": 95.95555555555555,\n        \"max\": 103.44444444444444,\n        \"num_unique_values\": 2,\n        \"samples\": [\n          95.95555555555555\n        ],\n        \"semantic_type\": \"\",\n        \"description\": \"\"\n      }\n    }\n  ]\n}"
            }
          },
          "metadata": {},
          "execution_count": 18
        }
      ]
    },
    {
      "cell_type": "code",
      "source": [
        "lowfat = data[data['diet']=='low fat']['pulse']\n",
        "nofat = data[data['diet']=='no fat']['pulse']\n",
        "std_effect_size=(nofat.mean()-lowfat.mean())/np.sqrt((lowfat.var()+nofat.var())/2)\n",
        "print(f'standardized effect size: {std_effect_size:.2f}')\n"
      ],
      "metadata": {
        "colab": {
          "base_uri": "https://localhost:8080/"
        },
        "id": "D10RAkI_Qk4O",
        "outputId": "f38f12a7-8557-4174-ad2a-a9cf98865b09"
      },
      "execution_count": 25,
      "outputs": [
        {
          "output_type": "stream",
          "name": "stdout",
          "text": [
            "standardized effect size: 0.52\n"
          ]
        }
      ]
    },
    {
      "cell_type": "code",
      "source": [
        "from statsmodels.stats.power import TTestIndPower\n",
        "\n",
        "nobs=TTestIndPower().solve_power(effect_size=std_effect_size, nobs1=None, alpha=0.05, power=0.8, ratio=1)\n",
        "print(f'sample size needed per group: {nobs:.0f}')"
      ],
      "metadata": {
        "colab": {
          "base_uri": "https://localhost:8080/"
        },
        "id": "wfLKDhmeTID0",
        "outputId": "ed03d9eb-1c5a-4a34-f876-cacd83e9ae5b"
      },
      "execution_count": 26,
      "outputs": [
        {
          "output_type": "stream",
          "name": "stdout",
          "text": [
            "sample size needed per group: 59\n"
          ]
        }
      ]
    },
    {
      "cell_type": "code",
      "source": [
        "samplesize = np.array(range(10, 8000))\n",
        "effectsize = np.array([0.02, 0.05, 0.1])\n",
        "\n",
        "TTestIndPower().plot_power(nobs=samplesize, effect_size=effectsize)\n",
        "plt.axhline(y=0.8, c='gray', alpha=0.7,linestyle='--')\n",
        "plt.show()"
      ],
      "metadata": {
        "colab": {
          "base_uri": "https://localhost:8080/",
          "height": 472
        },
        "id": "21oRCSM7TbpA",
        "outputId": "9db85115-5649-41e7-cd1c-c0bb5b35d2ee"
      },
      "execution_count": 35,
      "outputs": [
        {
          "output_type": "display_data",
          "data": {
            "text/plain": [
              "<Figure size 640x480 with 1 Axes>"
            ],
            "image/png": "[encoded data removed]"
          },
          "metadata": {}
        }
      ]
    },
    {
      "cell_type": "markdown",
      "source": [
        "# Multiple Comparisions tests\n",
        "\n",
        "Multiple comparisions:\n",
        "- multiple variants (A/B/n tests)\n",
        "- multiple metrics\n",
        "- granular categories\n",
        "\n",
        "\n",
        "**Family-wise error rate**\n",
        "\n",
        "* P(making Type I error) = a = 0.05\n",
        "* P(not making Type I error) = 1 - $\\alpha$\n",
        "* P(not making Type I error in m tests) = $(1 - \\alpha)^m$\n",
        "* P(making at least one Type I error in m tests) = $1 - (1 - \\alpha)^{m}$ = FWER\n",
        "\n",
        "Family-wise Error Rate (FWER): the probability of making one or more type I errors when\n",
        "\n",
        "performing multiple hypothesis tests.\n",
        "* For a single test, FWER = 1 - (1 - $\\alpha) *1 = \\alpha$ = 0.05\n",
        "* But what if we perform more than one test?\n",
        "\n",
        "**Correction Methods**\n",
        "\n",
        "Simple and more stringent method: **Bonferroni Correction**: $\\alpha^*=\\frac{\\alpha}{m}$\n",
        "\n",
        "• Set the adjusted $\\alpha^*$ to the individual test $\\alpha$ divided by the number of tests m\n",
        "\n",
        "Less stringent **Sidak correction**: $\\alpha_s=1-(1-\\alpha)^{1/m}$\n",
        "\n",
        "Both methods can be achieved by `statsmodels.stats.multitest.multipletests(pvals, alpha, method='')`.\n",
        "\n",
        "Example:\n",
        "\n",
        "We have a control group(A) and 3 test groups (BCD). After conducting multiple t tests, we have below P values. We then correct the P values."
      ],
      "metadata": {
        "id": "8QmwYAv0Z_yc"
      }
    },
    {
      "cell_type": "code",
      "source": [
        "import statsmodels.stats.multitest as smt\n",
        "\n",
        "pvals=[0.023, 0.0005, 0.00004]\n",
        "\n",
        "corrected = smt.multipletests(pvals, alpha=0.05, method='bonferroni')\n",
        "\n",
        "print(f'Conclusion of each compared group: {corrected[0]}')\n",
        "print(f'Conrrected P values: {corrected[1]}')\n",
        "print(f'Corrected Alpha: {corrected[2]}')"
      ],
      "metadata": {
        "colab": {
          "base_uri": "https://localhost:8080/"
        },
        "id": "rEzZ8txRU2LT",
        "outputId": "04bd537e-0e45-4ed1-cbee-247245aad98c"
      },
      "execution_count": 1,
      "outputs": [
        {
          "output_type": "stream",
          "name": "stdout",
          "text": [
            "Conclusion of each compared group: [False  True  True]\n",
            "Conrrected P values: [0.069   0.0015  0.00012]\n",
            "Corrected Alpha: 0.016952427508441503\n"
          ]
        }
      ]
    },
    {
      "cell_type": "code",
      "source": [
        "import statsmodels.stats.multitest as smt\n",
        "\n",
        "pvals=[0.023, 0.0005, 0.00004]\n",
        "\n",
        "corrected = smt.multipletests(pvals, alpha=0.05, method='sidak')\n",
        "\n",
        "print(f'Conclusion of each compared group: {corrected[0]}')\n",
        "print(f'Conrrected P values: {corrected[1]}')\n",
        "print(f'Corrected Alpha: {corrected[2]}')"
      ],
      "metadata": {
        "colab": {
          "base_uri": "https://localhost:8080/"
        },
        "id": "b6a60k16dWBU",
        "outputId": "f2f4c152-bc53-4b3f-91f5-179ae5c75d60"
      },
      "execution_count": 2,
      "outputs": [
        {
          "output_type": "stream",
          "name": "stdout",
          "text": [
            "Conclusion of each compared group: [False  True  True]\n",
            "Conrrected P values: [0.06742517 0.00149925 0.00012   ]\n",
            "Corrected Alpha: 0.016952427508441503\n"
          ]
        }
      ]
    },
    {
      "cell_type": "markdown",
      "source": [
        "# Evaluate Ratio metics using Delta method\n",
        "\n",
        "**Ratio Metrics**:\n",
        "\n",
        "These are metrics that are expressed as a ratio, such as conversion rates or click-through rates.\n",
        "\n",
        "\n",
        "**Delta Method:**\n",
        "\n",
        "The delta method is a statistical technique used to approximate the variance of a function of random variables when those random variables have known variances and covariances. In the context of z-tests for ratio metrics, it's used to estimate the variance of the difference between the means of the two groups.\n",
        "\n",
        "![image.png](data:image/png;base64,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)"
      ],
      "metadata": {
        "id": "ZJbChmQ1WBLo"
      }
    },
    {
      "cell_type": "code",
      "source": [
        "def var_delta(x,y):\n",
        "    x_bar = np.mean(x)\n",
        "    y_bar = np.mean(y)\n",
        "    x_var = np.var(x,ddof=1)\n",
        "    y_var = np.var(y,ddof=1)\n",
        "    cov_xy = np.cov(x,y,ddof=1)[0][1]\n",
        "    var_ratio = (x_var/y_bar**2 + y_var*(x_bar**2/y_bar**4) - 2*cov_xy*(x_bar/y_bar**3))/len(x)\n",
        "    return var_ratio"
      ],
      "metadata": {
        "id": "-_yfL5ZMA8JH"
      },
      "execution_count": 1,
      "outputs": []
    },
    {
      "cell_type": "code",
      "source": [
        "def ztest_delta(x_control,y_control,x_treatment,y_treatment, alpha = 0.05):\n",
        "    mean_control = x_control.sum()/y_control.sum()\n",
        "    mean_treatment = x_treatment.sum()/y_treatment.sum()\n",
        "    var_control = var_delta(x_control, y_control)\n",
        "    var_treatment = var_delta(x_treatment, y_treatment)\n",
        "    diff = mean_treatment - mean_control\n",
        "    var = var_control + var_treatment\n",
        "    # Calculate the two-tailed critical value\n",
        "    cv = stats.norm.ppf(1-alpha/2)\n",
        "    # Calculate the z_stat\n",
        "    z_stat = diff/np.sqrt(var)\n",
        "    # Calculate the p-value\n",
        "    p_val = stats.norm.sf(abs(z_stat)) * 2.0\n",
        "    # Calculate confidence intervals of the difference\n",
        "    stde = cv*np.sqrt(var)\n",
        "    lower = diff - stde\n",
        "    upper = diff + stde\n",
        "    result = {'mean_control':mean_control,\n",
        "              'mean_treatment':mean_treatment,\n",
        "              'difference':round(diff, 3),\n",
        "              'diff_CI':\"[\"+str(round(lower,3))+\", \"+str(round(upper,3))+\"]\",\n",
        "              'p-value':p_val}\n",
        "    return result"
      ],
      "metadata": {
        "id": "kgHB24fXW-TX"
      },
      "execution_count": 2,
      "outputs": []
    },
    {
      "cell_type": "code",
      "source": [
        "data=sns.load_dataset('tips')\n",
        "data"
      ],
      "metadata": {
        "colab": {
          "base_uri": "https://localhost:8080/",
          "height": 423
        },
        "id": "D2q7J0mZXVJw",
        "outputId": "bc4b078a-2f29-466f-f59d-0864bf5a4272"
      },
      "execution_count": 11,
      "outputs": [
        {
          "output_type": "execute_result",
          "data": {
            "text/plain": [
              "     total_bill   tip     sex smoker   day    time  size\n",
              "0         16.99  1.01  Female     No   Sun  Dinner     2\n",
              "1         10.34  1.66    Male     No   Sun  Dinner     3\n",
              "2         21.01  3.50    Male     No   Sun  Dinner     3\n",
              "3         23.68  3.31    Male     No   Sun  Dinner     2\n",
              "4         24.59  3.61  Female     No   Sun  Dinner     4\n",
              "..          ...   ...     ...    ...   ...     ...   ...\n",
              "239       29.03  5.92    Male     No   Sat  Dinner     3\n",
              "240       27.18  2.00  Female    Yes   Sat  Dinner     2\n",
              "241       22.67  2.00    Male    Yes   Sat  Dinner     2\n",
              "242       17.82  1.75    Male     No   Sat  Dinner     2\n",
              "243       18.78  3.00  Female     No  Thur  Dinner     2\n",
              "\n",
              "[244 rows x 7 columns]"
            ],
            "text/html": [
              "\n",
              "  <div id=\"df-f357dac6-9002-465b-824c-ffb877c0ba98\" class=\"colab-df-container\">\n",
              "    <div>\n",
              "<style scoped>\n",
              "    .dataframe tbody tr th:only-of-type {\n",
              "        vertical-align: middle;\n",
              "    }\n",
              "\n",
              "    .dataframe tbody tr th {\n",
              "        vertical-align: top;\n",
              "    }\n",
              "\n",
              "    .dataframe thead th {\n",
              "        text-align: right;\n",
              "    }\n",
              "</style>\n",
              "<table border=\"1\" class=\"dataframe\">\n",
              "  <thead>\n",
              "    <tr style=\"text-align: right;\">\n",
              "      <th></th>\n",
              "      <th>total_bill</th>\n",
              "      <th>tip</th>\n",
              "      <th>sex</th>\n",
              "      <th>smoker</th>\n",
              "      <th>day</th>\n",
              "      <th>time</th>\n",
              "      <th>size</th>\n",
              "    </tr>\n",
              "  </thead>\n",
              "  <tbody>\n",
              "    <tr>\n",
              "      <th>0</th>\n",
              "      <td>16.99</td>\n",
              "      <td>1.01</td>\n",
              "      <td>Female</td>\n",
              "      <td>No</td>\n",
              "      <td>Sun</td>\n",
              "      <td>Dinner</td>\n",
              "      <td>2</td>\n",
              "    </tr>\n",
              "    <tr>\n",
              "      <th>1</th>\n",
              "      <td>10.34</td>\n",
              "      <td>1.66</td>\n",
              "      <td>Male</td>\n",
              "      <td>No</td>\n",
              "      <td>Sun</td>\n",
              "      <td>Dinner</td>\n",
              "      <td>3</td>\n",
              "    </tr>\n",
              "    <tr>\n",
              "      <th>2</th>\n",
              "      <td>21.01</td>\n",
              "      <td>3.50</td>\n",
              "      <td>Male</td>\n",
              "      <td>No</td>\n",
              "      <td>Sun</td>\n",
              "      <td>Dinner</td>\n",
              "      <td>3</td>\n",
              "    </tr>\n",
              "    <tr>\n",
              "      <th>3</th>\n",
              "      <td>23.68</td>\n",
              "      <td>3.31</td>\n",
              "      <td>Male</td>\n",
              "      <td>No</td>\n",
              "      <td>Sun</td>\n",
              "      <td>Dinner</td>\n",
              "      <td>2</td>\n",
              "    </tr>\n",
              "    <tr>\n",
              "      <th>4</th>\n",
              "      <td>24.59</td>\n",
              "      <td>3.61</td>\n",
              "      <td>Female</td>\n",
              "      <td>No</td>\n",
              "      <td>Sun</td>\n",
              "      <td>Dinner</td>\n",
              "      <td>4</td>\n",
              "    </tr>\n",
              "    <tr>\n",
              "      <th>...</th>\n",
              "      <td>...</td>\n",
              "      <td>...</td>\n",
              "      <td>...</td>\n",
              "      <td>...</td>\n",
              "      <td>...</td>\n",
              "      <td>...</td>\n",
              "      <td>...</td>\n",
              "    </tr>\n",
              "    <tr>\n",
              "      <th>239</th>\n",
              "      <td>29.03</td>\n",
              "      <td>5.92</td>\n",
              "      <td>Male</td>\n",
              "      <td>No</td>\n",
              "      <td>Sat</td>\n",
              "      <td>Dinner</td>\n",
              "      <td>3</td>\n",
              "    </tr>\n",
              "    <tr>\n",
              "      <th>240</th>\n",
              "      <td>27.18</td>\n",
              "      <td>2.00</td>\n",
              "      <td>Female</td>\n",
              "      <td>Yes</td>\n",
              "      <td>Sat</td>\n",
              "      <td>Dinner</td>\n",
              "      <td>2</td>\n",
              "    </tr>\n",
              "    <tr>\n",
              "      <th>241</th>\n",
              "      <td>22.67</td>\n",
              "      <td>2.00</td>\n",
              "      <td>Male</td>\n",
              "      <td>Yes</td>\n",
              "      <td>Sat</td>\n",
              "      <td>Dinner</td>\n",
              "      <td>2</td>\n",
              "    </tr>\n",
              "    <tr>\n",
              "      <th>242</th>\n",
              "      <td>17.82</td>\n",
              "      <td>1.75</td>\n",
              "      <td>Male</td>\n",
              "      <td>No</td>\n",
              "      <td>Sat</td>\n",
              "      <td>Dinner</td>\n",
              "      <td>2</td>\n",
              "    </tr>\n",
              "    <tr>\n",
              "      <th>243</th>\n",
              "      <td>18.78</td>\n",
              "      <td>3.00</td>\n",
              "      <td>Female</td>\n",
              "      <td>No</td>\n",
              "      <td>Thur</td>\n",
              "      <td>Dinner</td>\n",
              "      <td>2</td>\n",
              "    </tr>\n",
              "  </tbody>\n",
              "</table>\n",
              "<p>244 rows × 7 columns</p>\n",
              "</div>\n",
              "    <div class=\"colab-df-buttons\">\n",
              "\n",
              "  <div class=\"colab-df-container\">\n",
              "    <button class=\"colab-df-convert\" onclick=\"convertToInteractive('df-f357dac6-9002-465b-824c-ffb877c0ba98')\"\n",
              "            title=\"Convert this dataframe to an interactive table.\"\n",
              "            style=\"display:none;\">\n",
              "\n",
              "  <svg xmlns=\"http://www.w3.org/2000/svg\" height=\"24px\" viewBox=\"0 -960 960 960\">\n",
              "    <path d=\"M120-120v-720h720v720H120Zm60-500h600v-160H180v160Zm220 220h160v-160H400v160Zm0 220h160v-160H400v160ZM180-400h160v-160H180v160Zm440 0h160v-160H620v160ZM180-180h160v-160H180v160Zm440 0h160v-160H620v160Z\"/>\n",
              "  </svg>\n",
              "    </button>\n",
              "\n",
              "  <style>\n",
              "    .colab-df-container {\n",
              "      display:flex;\n",
              "      gap: 12px;\n",
              "    }\n",
              "\n",
              "    .colab-df-convert {\n",
              "      background-color: #E8F0FE;\n",
              "      border: none;\n",
              "      border-radius: 50%;\n",
              "      cursor: pointer;\n",
              "      display: none;\n",
              "      fill: #1967D2;\n",
              "      height: 32px;\n",
              "      padding: 0 0 0 0;\n",
              "      width: 32px;\n",
              "    }\n",
              "\n",
              "    .colab-df-convert:hover {\n",
              "      background-color: #E2EBFA;\n",
              "      box-shadow: 0px 1px 2px rgba(60, 64, 67, 0.3), 0px 1px 3px 1px rgba(60, 64, 67, 0.15);\n",
              "      fill: #174EA6;\n",
              "    }\n",
              "\n",
              "    .colab-df-buttons div {\n",
              "      margin-bottom: 4px;\n",
              "    }\n",
              "\n",
              "    [theme=dark] .colab-df-convert {\n",
              "      background-color: #3B4455;\n",
              "      fill: #D2E3FC;\n",
              "    }\n",
              "\n",
              "    [theme=dark] .colab-df-convert:hover {\n",
              "      background-color: #434B5C;\n",
              "      box-shadow: 0px 1px 3px 1px rgba(0, 0, 0, 0.15);\n",
              "      filter: drop-shadow(0px 1px 2px rgba(0, 0, 0, 0.3));\n",
              "      fill: #FFFFFF;\n",
              "    }\n",
              "  </style>\n",
              "\n",
              "    <script>\n",
              "      const buttonEl =\n",
              "        document.querySelector('#df-f357dac6-9002-465b-824c-ffb877c0ba98 button.colab-df-convert');\n",
              "      buttonEl.style.display =\n",
              "        google.colab.kernel.accessAllowed ? 'block' : 'none';\n",
              "\n",
              "      async function convertToInteractive(key) {\n",
              "        const element = document.querySelector('#df-f357dac6-9002-465b-824c-ffb877c0ba98');\n",
              "        const dataTable =\n",
              "          await google.colab.kernel.invokeFunction('convertToInteractive',\n",
              "                                                    [key], {});\n",
              "        if (!dataTable) return;\n",
              "\n",
              "        const docLinkHtml = 'Like what you see? Visit the ' +\n",
              "          '<a target=\"_blank\" href=https://colab.research.google.com/notebooks/data_table.ipynb>data table notebook</a>'\n",
              "          + ' to learn more about interactive tables.';\n",
              "        element.innerHTML = '';\n",
              "        dataTable['output_type'] = 'display_data';\n",
              "        await google.colab.output.renderOutput(dataTable, element);\n",
              "        const docLink = document.createElement('div');\n",
              "        docLink.innerHTML = docLinkHtml;\n",
              "        element.appendChild(docLink);\n",
              "      }\n",
              "    </script>\n",
              "  </div>\n",
              "\n",
              "\n",
              "    <div id=\"df-4e1c32a1-22d4-4baf-8bc4-4b75c57b94c2\">\n",
              "      <button class=\"colab-df-quickchart\" onclick=\"quickchart('df-4e1c32a1-22d4-4baf-8bc4-4b75c57b94c2')\"\n",
              "                title=\"Suggest charts\"\n",
              "                style=\"display:none;\">\n",
              "\n",
              "<svg xmlns=\"http://www.w3.org/2000/svg\" height=\"24px\"viewBox=\"0 0 24 24\"\n",
              "     width=\"24px\">\n",
              "    <g>\n",
              "        <path d=\"M19 3H5c-1.1 0-2 .9-2 2v14c0 1.1.9 2 2 2h14c1.1 0 2-.9 2-2V5c0-1.1-.9-2-2-2zM9 17H7v-7h2v7zm4 0h-2V7h2v10zm4 0h-2v-4h2v4z\"/>\n",
              "    </g>\n",
              "</svg>\n",
              "      </button>\n",
              "\n",
              "<style>\n",
              "  .colab-df-quickchart {\n",
              "      --bg-color: #E8F0FE;\n",
              "      --fill-color: #1967D2;\n",
              "      --hover-bg-color: #E2EBFA;\n",
              "      --hover-fill-color: #174EA6;\n",
              "      --disabled-fill-color: #AAA;\n",
              "      --disabled-bg-color: #DDD;\n",
              "  }\n",
              "\n",
              "  [theme=dark] .colab-df-quickchart {\n",
              "      --bg-color: #3B4455;\n",
              "      --fill-color: #D2E3FC;\n",
              "      --hover-bg-color: #434B5C;\n",
              "      --hover-fill-color: #FFFFFF;\n",
              "      --disabled-bg-color: #3B4455;\n",
              "      --disabled-fill-color: #666;\n",
              "  }\n",
              "\n",
              "  .colab-df-quickchart {\n",
              "    background-color: var(--bg-color);\n",
              "    border: none;\n",
              "    border-radius: 50%;\n",
              "    cursor: pointer;\n",
              "    display: none;\n",
              "    fill: var(--fill-color);\n",
              "    height: 32px;\n",
              "    padding: 0;\n",
              "    width: 32px;\n",
              "  }\n",
              "\n",
              "  .colab-df-quickchart:hover {\n",
              "    background-color: var(--hover-bg-color);\n",
              "    box-shadow: 0 1px 2px rgba(60, 64, 67, 0.3), 0 1px 3px 1px rgba(60, 64, 67, 0.15);\n",
              "    fill: var(--button-hover-fill-color);\n",
              "  }\n",
              "\n",
              "  .colab-df-quickchart-complete:disabled,\n",
              "  .colab-df-quickchart-complete:disabled:hover {\n",
              "    background-color: var(--disabled-bg-color);\n",
              "    fill: var(--disabled-fill-color);\n",
              "    box-shadow: none;\n",
              "  }\n",
              "\n",
              "  .colab-df-spinner {\n",
              "    border: 2px solid var(--fill-color);\n",
              "    border-color: transparent;\n",
              "    border-bottom-color: var(--fill-color);\n",
              "    animation:\n",
              "      spin 1s steps(1) infinite;\n",
              "  }\n",
              "\n",
              "  @keyframes spin {\n",
              "    0% {\n",
              "      border-color: transparent;\n",
              "      border-bottom-color: var(--fill-color);\n",
              "      border-left-color: var(--fill-color);\n",
              "    }\n",
              "    20% {\n",
              "      border-color: transparent;\n",
              "      border-left-color: var(--fill-color);\n",
              "      border-top-color: var(--fill-color);\n",
              "    }\n",
              "    30% {\n",
              "      border-color: transparent;\n",
              "      border-left-color: var(--fill-color);\n",
              "      border-top-color: var(--fill-color);\n",
              "      border-right-color: var(--fill-color);\n",
              "    }\n",
              "    40% {\n",
              "      border-color: transparent;\n",
              "      border-right-color: var(--fill-color);\n",
              "      border-top-color: var(--fill-color);\n",
              "    }\n",
              "    60% {\n",
              "      border-color: transparent;\n",
              "      border-right-color: var(--fill-color);\n",
              "    }\n",
              "    80% {\n",
              "      border-color: transparent;\n",
              "      border-right-color: var(--fill-color);\n",
              "      border-bottom-color: var(--fill-color);\n",
              "    }\n",
              "    90% {\n",
              "      border-color: transparent;\n",
              "      border-bottom-color: var(--fill-color);\n",
              "    }\n",
              "  }\n",
              "</style>\n",
              "\n",
              "      <script>\n",
              "        async function quickchart(key) {\n",
              "          const quickchartButtonEl =\n",
              "            document.querySelector('#' + key + ' button');\n",
              "          quickchartButtonEl.disabled = true;  // To prevent multiple clicks.\n",
              "          quickchartButtonEl.classList.add('colab-df-spinner');\n",
              "          try {\n",
              "            const charts = await google.colab.kernel.invokeFunction(\n",
              "                'suggestCharts', [key], {});\n",
              "          } catch (error) {\n",
              "            console.error('Error during call to suggestCharts:', error);\n",
              "          }\n",
              "          quickchartButtonEl.classList.remove('colab-df-spinner');\n",
              "          quickchartButtonEl.classList.add('colab-df-quickchart-complete');\n",
              "        }\n",
              "        (() => {\n",
              "          let quickchartButtonEl =\n",
              "            document.querySelector('#df-4e1c32a1-22d4-4baf-8bc4-4b75c57b94c2 button');\n",
              "          quickchartButtonEl.style.display =\n",
              "            google.colab.kernel.accessAllowed ? 'block' : 'none';\n",
              "        })();\n",
              "      </script>\n",
              "    </div>\n",
              "\n",
              "  <div id=\"id_e37e8125-d929-4697-92bc-f58930ae0f71\">\n",
              "    <style>\n",
              "      .colab-df-generate {\n",
              "        background-color: #E8F0FE;\n",
              "        border: none;\n",
              "        border-radius: 50%;\n",
              "        cursor: pointer;\n",
              "        display: none;\n",
              "        fill: #1967D2;\n",
              "        height: 32px;\n",
              "        padding: 0 0 0 0;\n",
              "        width: 32px;\n",
              "      }\n",
              "\n",
              "      .colab-df-generate:hover {\n",
              "        background-color: #E2EBFA;\n",
              "        box-shadow: 0px 1px 2px rgba(60, 64, 67, 0.3), 0px 1px 3px 1px rgba(60, 64, 67, 0.15);\n",
              "        fill: #174EA6;\n",
              "      }\n",
              "\n",
              "      [theme=dark] .colab-df-generate {\n",
              "        background-color: #3B4455;\n",
              "        fill: #D2E3FC;\n",
              "      }\n",
              "\n",
              "      [theme=dark] .colab-df-generate:hover {\n",
              "        background-color: #434B5C;\n",
              "        box-shadow: 0px 1px 3px 1px rgba(0, 0, 0, 0.15);\n",
              "        filter: drop-shadow(0px 1px 2px rgba(0, 0, 0, 0.3));\n",
              "        fill: #FFFFFF;\n",
              "      }\n",
              "    </style>\n",
              "    <button class=\"colab-df-generate\" onclick=\"generateWithVariable('data')\"\n",
              "            title=\"Generate code using this dataframe.\"\n",
              "            style=\"display:none;\">\n",
              "\n",
              "  <svg xmlns=\"http://www.w3.org/2000/svg\" height=\"24px\"viewBox=\"0 0 24 24\"\n",
              "       width=\"24px\">\n",
              "    <path d=\"M7,19H8.4L18.45,9,17,7.55,7,17.6ZM5,21V16.75L18.45,3.32a2,2,0,0,1,2.83,0l1.4,1.43a1.91,1.91,0,0,1,.58,1.4,1.91,1.91,0,0,1-.58,1.4L9.25,21ZM18.45,9,17,7.55Zm-12,3A5.31,5.31,0,0,0,4.9,8.1,5.31,5.31,0,0,0,1,6.5,5.31,5.31,0,0,0,4.9,4.9,5.31,5.31,0,0,0,6.5,1,5.31,5.31,0,0,0,8.1,4.9,5.31,5.31,0,0,0,12,6.5,5.46,5.46,0,0,0,6.5,12Z\"/>\n",
              "  </svg>\n",
              "    </button>\n",
              "    <script>\n",
              "      (() => {\n",
              "      const buttonEl =\n",
              "        document.querySelector('#id_e37e8125-d929-4697-92bc-f58930ae0f71 button.colab-df-generate');\n",
              "      buttonEl.style.display =\n",
              "        google.colab.kernel.accessAllowed ? 'block' : 'none';\n",
              "\n",
              "      buttonEl.onclick = () => {\n",
              "        google.colab.notebook.generateWithVariable('data');\n",
              "      }\n",
              "      })();\n",
              "    </script>\n",
              "  </div>\n",
              "\n",
              "    </div>\n",
              "  </div>\n"
            ],
            "application/vnd.google.colaboratory.intrinsic+json": {
              "type": "dataframe",
              "variable_name": "data",
              "summary": "{\n  \"name\": \"data\",\n  \"rows\": 244,\n  \"fields\": [\n    {\n      \"column\": \"total_bill\",\n      \"properties\": {\n        \"dtype\": \"number\",\n        \"std\": 8.902411954856856,\n        \"min\": 3.07,\n        \"max\": 50.81,\n        \"num_unique_values\": 229,\n        \"samples\": [\n          22.12,\n          20.23,\n          14.78\n        ],\n        \"semantic_type\": \"\",\n        \"description\": \"\"\n      }\n    },\n    {\n      \"column\": \"tip\",\n      \"properties\": {\n        \"dtype\": \"number\",\n        \"std\": 1.3836381890011826,\n        \"min\": 1.0,\n        \"max\": 10.0,\n        \"num_unique_values\": 123,\n        \"samples\": [\n          3.35,\n          1.5,\n          6.73\n        ],\n        \"semantic_type\": \"\",\n        \"description\": \"\"\n      }\n    },\n    {\n      \"column\": \"sex\",\n      \"properties\": {\n        \"dtype\": \"category\",\n        \"num_unique_values\": 2,\n        \"samples\": [\n          \"Male\",\n          \"Female\"\n        ],\n        \"semantic_type\": \"\",\n        \"description\": \"\"\n      }\n    },\n    {\n      \"column\": \"smoker\",\n      \"properties\": {\n        \"dtype\": \"category\",\n        \"num_unique_values\": 2,\n        \"samples\": [\n          \"Yes\",\n          \"No\"\n        ],\n        \"semantic_type\": \"\",\n        \"description\": \"\"\n      }\n    },\n    {\n      \"column\": \"day\",\n      \"properties\": {\n        \"dtype\": \"category\",\n        \"num_unique_values\": 4,\n        \"samples\": [\n          \"Sat\",\n          \"Fri\"\n        ],\n        \"semantic_type\": \"\",\n        \"description\": \"\"\n      }\n    },\n    {\n      \"column\": \"time\",\n      \"properties\": {\n        \"dtype\": \"category\",\n        \"num_unique_values\": 2,\n        \"samples\": [\n          \"Lunch\",\n          \"Dinner\"\n        ],\n        \"semantic_type\": \"\",\n        \"description\": \"\"\n      }\n    },\n    {\n      \"column\": \"size\",\n      \"properties\": {\n        \"dtype\": \"number\",\n        \"std\": 0,\n        \"min\": 1,\n        \"max\": 6,\n        \"num_unique_values\": 6,\n        \"samples\": [\n          2,\n          3\n        ],\n        \"semantic_type\": \"\",\n        \"description\": \"\"\n      }\n    }\n  ]\n}"
            }
          },
          "metadata": {},
          "execution_count": 11
        }
      ]
    },
    {
      "cell_type": "code",
      "source": [
        "female = data[data['sex']=='Female']\n",
        "male = data[data['sex']=='Male']\n",
        "\n",
        "ztest_delta(female['tip'], female['total_bill'], male['tip'], male['total_bill'])"
      ],
      "metadata": {
        "colab": {
          "base_uri": "https://localhost:8080/"
        },
        "id": "z0kJmjYTXazn",
        "outputId": "872e9148-92f9-4d42-e75b-1f3d764a8f15"
      },
      "execution_count": 14,
      "outputs": [
        {
          "output_type": "execute_result",
          "data": {
            "text/plain": [
              "{'mean_control': np.float64(0.15691778859925523),\n",
              " 'mean_treatment': np.float64(0.14893976332741754),\n",
              " 'difference': np.float64(-0.008),\n",
              " 'diff_CI': '[-0.022, 0.006]',\n",
              " 'p-value': np.float64(0.273760824152811)}"
            ]
          },
          "metadata": {},
          "execution_count": 14
        }
      ]
    },
    {
      "cell_type": "markdown",
      "source": [
        "The P value suggests to fail to reject Null hypothesis, hence there's no sufficient evidence that male and female customers give different ratio of tips."
      ],
      "metadata": {
        "id": "jeXJGDXbYpGR"
      }
    },
    {
      "cell_type": "code",
      "source": [],
      "metadata": {
        "id": "GDZlGNgNYiaK"
      },
      "execution_count": null,
      "outputs": []
    }
  ]
}