{
  "nbformat": 4,
  "nbformat_minor": 0,
  "metadata": {
    "colab": {
      "name": "Non Parametric Test.ipynb",
      "provenance": [],
      "authorship_tag": "ABX9TyPR+P0NeHFF5VtpyHTImfn2",
      "include_colab_link": true
    },
    "kernelspec": {
      "name": "python3",
      "display_name": "Python 3"
    }
  },
  "cells": [
    {
      "cell_type": "markdown",
      "metadata": {
        "id": "view-in-github",
        "colab_type": "text"
      },
      "source": [
        "<a href=\"https://colab.research.google.com/github/AilingLiu/Inferential_Statistics/blob/master/Non_Parametric_Test.ipynb\" target=\"_parent\"><img src=\"https://colab.research.google.com/assets/colab-badge.svg\" alt=\"Open In Colab\"/></a>"
      ]
    },
    {
      "cell_type": "code",
      "metadata": {
        "id": "EXxrizMEUf5Q",
        "colab_type": "code",
        "colab": {}
      },
      "source": [
        "import pandas as pd\n",
        "import numpy as np\n",
        "import seaborn as sns\n",
        "import scipy.stats as st\n",
        "import statsmodels.stats as sm\n",
        "import matplotlib.pyplot as plt"
      ],
      "execution_count": 0,
      "outputs": []
    },
    {
      "cell_type": "markdown",
      "metadata": {
        "id": "GTvdT8mPVCDN",
        "colab_type": "text"
      },
      "source": [
        "Why Non Parametric Test?\n",
        "\n",
        "1. The underlying probability distribution is unknown or deviates from what the parametric method requires\n",
        "2. The sample size may be very small so that is not possible to test whether the parametric assumptions are met\n",
        "3. The measurement level may be different from what the parametric methods requires. For instance, it could be ordinal.\n",
        "4. There may be no parametric method available to test your specific question."
      ]
    },
    {
      "cell_type": "markdown",
      "metadata": {
        "id": "t5lhqt9_U74p",
        "colab_type": "text"
      },
      "source": [
        "# Sign Test"
      ]
    },
    {
      "cell_type": "markdown",
      "metadata": {
        "id": "eF08onz8VWX6",
        "colab_type": "text"
      },
      "source": [
        "Sign test is the nonparametric equivalent to the one-sample t test. This test calculates the probability of x successes or more on n trials if the true probability is p. \n",
        "\n",
        "> Example\n",
        "<br>American elections. Two democratic nominees: Hillary Clinton and Bernie Sanders. We sampled a total of 350 American citizens from different states. In our little census, we found that 60% of our sample indicated that they would vote for Hillary Clinton. \n",
        "\n",
        "> Hypotheses\n",
        "<br>$H_0$: There's an equal chance that an American citizen votes for Hillary Clinton or Bernie Sanders. \n",
        "<br>$H_1$: There's not an equal chance that an American citizen votes for Hillary Clinton or Bernie Sanders.\n",
        "\n",
        "We can use [binom_test](https://docs.scipy.org/doc/scipy-0.14.0/reference/generated/scipy.stats.binom_test.html) function from scipy to do this test."
      ]
    },
    {
      "cell_type": "code",
      "metadata": {
        "id": "ocyKSkm6U8_z",
        "colab_type": "code",
        "colab": {
          "base_uri": "https://localhost:8080/",
          "height": 54
        },
        "outputId": "29712581-6993-4376-ecca-3a84b208beae"
      },
      "source": [
        "p_value = st.binom_test(350*0.6, 350, 0.5, alternative='two-sided')\n",
        "\n",
        "print('p value is: {:.6f}'.format(p_value))\n",
        "if p_value <=0.05:\n",
        "  print(f'Smaller than significance level 0.05. Reject null hypothesis. Voting chance is not equal between two candidates.')\n",
        "else:\n",
        "  print(f'Greater than significance level 0.05. Fail to reject null hypothesis. There is no enough evidence to deny equal chance of vote between two candidates.')"
      ],
      "execution_count": 4,
      "outputs": [
        {
          "output_type": "stream",
          "text": [
            "p value is: 0.000216\n",
            "Smaller than significance level 0.05. Reject null hypothesis. Voting chance is not equal between two candidates.\n"
          ],
          "name": "stdout"
        }
      ]
    },
    {
      "cell_type": "markdown",
      "metadata": {
        "id": "xkQ6n_ZtX_ec",
        "colab_type": "text"
      },
      "source": [
        "## The Wilcoxon Signed-Rank Test"
      ]
    },
    {
      "cell_type": "markdown",
      "metadata": {
        "id": "6z5vGyjJYGqg",
        "colab_type": "text"
      },
      "source": [
        "Sometimes you will have ordinal data where people have been rating two different products and where the difference in ratings matters. In order to analyze this data, we can use A Wilcoxon signed rank test. This is the equivalent of a one-sample t-test.\n",
        "\n",
        "> Example\n",
        "<br>We work for a consumer goods company and we have been releasing two different beers. Our first beer is an IPA and our second is a wheat beer. We allow our test panel of customers to rate both beers on a scale from 1 - 5. We have preliminary evidence that consumers prefer our IPA to our wheat beer. \n",
        "\n",
        "> Hypotheses\n",
        "<br>$H_0$: The beers are equally appreciated by our test panel. \n",
        "<br>$H_1$: Our IPA receives higher appreciation from our test panel than the wheat beer.\n",
        "\n",
        "You can use [wilconxon](https://docs.scipy.org/doc/scipy-0.14.0/reference/generated/scipy.stats.wilcoxon.html) from scipy to conduct this test."
      ]
    },
    {
      "cell_type": "code",
      "metadata": {
        "id": "eXAagEi1YAgO",
        "colab_type": "code",
        "colab": {
          "base_uri": "https://localhost:8080/",
          "height": 348
        },
        "outputId": "d4b04abd-0263-4cd3-e4f6-682b20bfa318"
      },
      "source": [
        "score_ipa = [4,4,3,4,5,5,4,4,3,2]\n",
        "score_wheat = [2,3,2,3,4,4,5,3,2,1]\n",
        "beers = pd.DataFrame({'Participant': range(1, len(score_ipa)+1), 'Score IPA': score_ipa, 'Score White beer': score_wheat})\n",
        "display(beers)"
      ],
      "execution_count": 15,
      "outputs": [
        {
          "output_type": "display_data",
          "data": {
            "text/html": [
              "<div>\n",
              "<style scoped>\n",
              "    .dataframe tbody tr th:only-of-type {\n",
              "        vertical-align: middle;\n",
              "    }\n",
              "\n",
              "    .dataframe tbody tr th {\n",
              "        vertical-align: top;\n",
              "    }\n",
              "\n",
              "    .dataframe thead th {\n",
              "        text-align: right;\n",
              "    }\n",
              "</style>\n",
              "<table border=\"1\" class=\"dataframe\">\n",
              "  <thead>\n",
              "    <tr style=\"text-align: right;\">\n",
              "      <th></th>\n",
              "      <th>Participant</th>\n",
              "      <th>Score IPA</th>\n",
              "      <th>Score White beer</th>\n",
              "    </tr>\n",
              "  </thead>\n",
              "  <tbody>\n",
              "    <tr>\n",
              "      <th>0</th>\n",
              "      <td>1</td>\n",
              "      <td>4</td>\n",
              "      <td>2</td>\n",
              "    </tr>\n",
              "    <tr>\n",
              "      <th>1</th>\n",
              "      <td>2</td>\n",
              "      <td>4</td>\n",
              "      <td>3</td>\n",
              "    </tr>\n",
              "    <tr>\n",
              "      <th>2</th>\n",
              "      <td>3</td>\n",
              "      <td>3</td>\n",
              "      <td>2</td>\n",
              "    </tr>\n",
              "    <tr>\n",
              "      <th>3</th>\n",
              "      <td>4</td>\n",
              "      <td>4</td>\n",
              "      <td>3</td>\n",
              "    </tr>\n",
              "    <tr>\n",
              "      <th>4</th>\n",
              "      <td>5</td>\n",
              "      <td>5</td>\n",
              "      <td>4</td>\n",
              "    </tr>\n",
              "    <tr>\n",
              "      <th>5</th>\n",
              "      <td>6</td>\n",
              "      <td>5</td>\n",
              "      <td>4</td>\n",
              "    </tr>\n",
              "    <tr>\n",
              "      <th>6</th>\n",
              "      <td>7</td>\n",
              "      <td>4</td>\n",
              "      <td>5</td>\n",
              "    </tr>\n",
              "    <tr>\n",
              "      <th>7</th>\n",
              "      <td>8</td>\n",
              "      <td>4</td>\n",
              "      <td>3</td>\n",
              "    </tr>\n",
              "    <tr>\n",
              "      <th>8</th>\n",
              "      <td>9</td>\n",
              "      <td>3</td>\n",
              "      <td>2</td>\n",
              "    </tr>\n",
              "    <tr>\n",
              "      <th>9</th>\n",
              "      <td>10</td>\n",
              "      <td>2</td>\n",
              "      <td>1</td>\n",
              "    </tr>\n",
              "  </tbody>\n",
              "</table>\n",
              "</div>"
            ],
            "text/plain": [
              "   Participant  Score IPA  Score White beer\n",
              "0            1          4                 2\n",
              "1            2          4                 3\n",
              "2            3          3                 2\n",
              "3            4          4                 3\n",
              "4            5          5                 4\n",
              "5            6          5                 4\n",
              "6            7          4                 5\n",
              "7            8          4                 3\n",
              "8            9          3                 2\n",
              "9           10          2                 1"
            ]
          },
          "metadata": {
            "tags": []
          }
        }
      ]
    },
    {
      "cell_type": "code",
      "metadata": {
        "id": "CXB-Lr8XZJal",
        "colab_type": "code",
        "colab": {
          "base_uri": "https://localhost:8080/",
          "height": 54
        },
        "outputId": "93120f07-88be-4dbd-85f8-3fc99400e6bc"
      },
      "source": [
        "v_val, p_value = st.wilcoxon(beers['Score IPA'], beers['Score White beer'], zero_method='wilcox', correction=True, alternative='greater')\n",
        "\n",
        "print('p value is: {:.6f}'.format(p_value))\n",
        "if p_value <=0.05:\n",
        "  print(f'Smaller than significance level 0.05. Reject null hypothesis. IPA shows higher appreciate that wheat beer.')\n",
        "else:\n",
        "  print(f'Greater than significance level 0.05. Fail to reject null hypothesis. There is no enough evidence to deny equally appreciation of the two beers.')"
      ],
      "execution_count": 23,
      "outputs": [
        {
          "output_type": "stream",
          "text": [
            "p value is: 0.007330\n",
            "Smaller than significance level 0.05. Reject null hypothesis. IPA shows higher appreciate that wheat beer.\n"
          ],
          "name": "stdout"
        }
      ]
    },
    {
      "cell_type": "markdown",
      "metadata": {
        "id": "PRb9WalwfSHo",
        "colab_type": "text"
      },
      "source": [
        "# The Wilcoxon rank-sum test/Mann Whitney U Test"
      ]
    },
    {
      "cell_type": "markdown",
      "metadata": {
        "id": "jYlbe7p-fTbF",
        "colab_type": "text"
      },
      "source": [
        "The Wilcoxon rank-sum test is the nonparametric equivalent of the two sample t test. Your confusion may stem from the fact that this name is really similar to the Wilcoxon signed-rank test. You can use the Wilxocon rank-sum test when you deal with two different groups and want to test whether they differ significantly. \n",
        "\n",
        "> Example\n",
        "<br>Let's take our previous example with the IPA and wheat beer. One half of our test panel will consume the IPA. The other half of the test panel will drink the wheat beer. After, each group member will report their levels of satisfaction with the drink. We still have preliminary evidence that the IPA is associated with thigher levels of satisfaction than our wheat beer. \n",
        "\n",
        "> Hypotheses\n",
        "<br>$H_0$: The IPA group and the wheat beer group will report equal levels of satisfaction with their drink. <br>$H_1$: The IPA group will report a higher level of satisfaction than the wheat beer group.\n",
        "\n",
        "As the groups come from two samples, we can use either [ranksums](https://docs.scipy.org/doc/scipy/reference/generated/scipy.stats.ranksums.html) function or [mannwhitneyu](https://docs.scipy.org/doc/scipy/reference/generated/scipy.stats.mannwhitneyu.html#scipy.stats.mannwhitneyu). The latter one is more convenient as it can specify the alternative side, and correction whereas these to parameters need two be manually corrected in ranksums function. "
      ]
    },
    {
      "cell_type": "code",
      "metadata": {
        "id": "Zg6nltLxdcAu",
        "colab_type": "code",
        "colab": {
          "base_uri": "https://localhost:8080/",
          "height": 54
        },
        "outputId": "df529112-bc32-4e69-e251-a177284dab4b"
      },
      "source": [
        "w_val, p_value = st.mannwhitneyu(beers['Score IPA'], beers['Score White beer'], alternative='greater')\n",
        "##the returned pvalue from ranksums is a two-sided test. We need to divide p value by 2 to get one side.\n",
        "\n",
        "print('p value is: {:.6f}'.format(p_value))\n",
        "if p_value <=0.05:\n",
        "  print(f'Smaller than significance level 0.05. Reject null hypothesis. IPA shows higher appreciate that wheat beer.')\n",
        "else:\n",
        "  print(f'Greater than significance level 0.05. Fail to reject null hypothesis. There is no enough evidence to deny equally appreciation of the two beers.')\n"
      ],
      "execution_count": 30,
      "outputs": [
        {
          "output_type": "stream",
          "text": [
            "p value is: 0.042504\n",
            "Smaller than significance level 0.05. Reject null hypothesis. IPA shows higher appreciate that wheat beer.\n"
          ],
          "name": "stdout"
        }
      ]
    },
    {
      "cell_type": "markdown",
      "metadata": {
        "id": "-daW4nNojmwY",
        "colab_type": "text"
      },
      "source": [
        "# The Kruskall-Wallis test"
      ]
    },
    {
      "cell_type": "markdown",
      "metadata": {
        "id": "6QXh9J18jv-u",
        "colab_type": "text"
      },
      "source": [
        "Just as the comparison of means across two groups can be extended to a comparison of means across many groups, the non-parametric approach to compare mean ranks between two groups can also be extended to multiple groups. The test that does this is called the Kruskall-Wallis test which is a non-parametric counterpart of the one-way analysis of variance.\n",
        "\n",
        "> Example\n",
        "<br>We will be working with our example of beer. However, we will extend this example by introducing a third beer type that is being tested by our test panel: the amber ale. We have no preliminary evidence for which beer may be best. \n",
        "\n",
        "> Hypotheses\n",
        "<br>$H_0$: There is no difference in satisfaction between the different beer groups. \n",
        "<br>$H_1$: There is a difference in satisfaction between the different beer groups.\n",
        "\n",
        "We can use [kruskal](https://docs.scipy.org/doc/scipy/reference/generated/scipy.stats.kruskal.html) function for this test."
      ]
    },
    {
      "cell_type": "code",
      "metadata": {
        "id": "IozDLyCwhLPp",
        "colab_type": "code",
        "colab": {
          "base_uri": "https://localhost:8080/",
          "height": 348
        },
        "outputId": "27a6a2c5-a716-4d28-c46f-8dfbaffd987f"
      },
      "source": [
        "beers['amber beer'] = [2,2,2,3,4,5,3,3,2,2]\n",
        "display(beers)"
      ],
      "execution_count": 32,
      "outputs": [
        {
          "output_type": "display_data",
          "data": {
            "text/html": [
              "<div>\n",
              "<style scoped>\n",
              "    .dataframe tbody tr th:only-of-type {\n",
              "        vertical-align: middle;\n",
              "    }\n",
              "\n",
              "    .dataframe tbody tr th {\n",
              "        vertical-align: top;\n",
              "    }\n",
              "\n",
              "    .dataframe thead th {\n",
              "        text-align: right;\n",
              "    }\n",
              "</style>\n",
              "<table border=\"1\" class=\"dataframe\">\n",
              "  <thead>\n",
              "    <tr style=\"text-align: right;\">\n",
              "      <th></th>\n",
              "      <th>Participant</th>\n",
              "      <th>Score IPA</th>\n",
              "      <th>Score White beer</th>\n",
              "      <th>amber beer</th>\n",
              "    </tr>\n",
              "  </thead>\n",
              "  <tbody>\n",
              "    <tr>\n",
              "      <th>0</th>\n",
              "      <td>1</td>\n",
              "      <td>4</td>\n",
              "      <td>2</td>\n",
              "      <td>2</td>\n",
              "    </tr>\n",
              "    <tr>\n",
              "      <th>1</th>\n",
              "      <td>2</td>\n",
              "      <td>4</td>\n",
              "      <td>3</td>\n",
              "      <td>2</td>\n",
              "    </tr>\n",
              "    <tr>\n",
              "      <th>2</th>\n",
              "      <td>3</td>\n",
              "      <td>3</td>\n",
              "      <td>2</td>\n",
              "      <td>2</td>\n",
              "    </tr>\n",
              "    <tr>\n",
              "      <th>3</th>\n",
              "      <td>4</td>\n",
              "      <td>4</td>\n",
              "      <td>3</td>\n",
              "      <td>3</td>\n",
              "    </tr>\n",
              "    <tr>\n",
              "      <th>4</th>\n",
              "      <td>5</td>\n",
              "      <td>5</td>\n",
              "      <td>4</td>\n",
              "      <td>4</td>\n",
              "    </tr>\n",
              "    <tr>\n",
              "      <th>5</th>\n",
              "      <td>6</td>\n",
              "      <td>5</td>\n",
              "      <td>4</td>\n",
              "      <td>5</td>\n",
              "    </tr>\n",
              "    <tr>\n",
              "      <th>6</th>\n",
              "      <td>7</td>\n",
              "      <td>4</td>\n",
              "      <td>5</td>\n",
              "      <td>3</td>\n",
              "    </tr>\n",
              "    <tr>\n",
              "      <th>7</th>\n",
              "      <td>8</td>\n",
              "      <td>4</td>\n",
              "      <td>3</td>\n",
              "      <td>3</td>\n",
              "    </tr>\n",
              "    <tr>\n",
              "      <th>8</th>\n",
              "      <td>9</td>\n",
              "      <td>3</td>\n",
              "      <td>2</td>\n",
              "      <td>2</td>\n",
              "    </tr>\n",
              "    <tr>\n",
              "      <th>9</th>\n",
              "      <td>10</td>\n",
              "      <td>2</td>\n",
              "      <td>1</td>\n",
              "      <td>2</td>\n",
              "    </tr>\n",
              "  </tbody>\n",
              "</table>\n",
              "</div>"
            ],
            "text/plain": [
              "   Participant  Score IPA  Score White beer  amber beer\n",
              "0            1          4                 2           2\n",
              "1            2          4                 3           2\n",
              "2            3          3                 2           2\n",
              "3            4          4                 3           3\n",
              "4            5          5                 4           4\n",
              "5            6          5                 4           5\n",
              "6            7          4                 5           3\n",
              "7            8          4                 3           3\n",
              "8            9          3                 2           2\n",
              "9           10          2                 1           2"
            ]
          },
          "metadata": {
            "tags": []
          }
        }
      ]
    },
    {
      "cell_type": "code",
      "metadata": {
        "id": "bQedBAmhigW8",
        "colab_type": "code",
        "colab": {
          "base_uri": "https://localhost:8080/",
          "height": 54
        },
        "outputId": "311d3ed6-b391-4a66-bed2-943ffaa7f198"
      },
      "source": [
        "h_val, p_value = st.kruskal(beers['amber beer'], beers['Score IPA'], beers['Score White beer'])\n",
        "\n",
        "print('p value is: {:.6f}'.format(p_value))\n",
        "if p_value <=0.05:\n",
        "  print(f'Smaller than significance level 0.05. Reject null hypothesis. There is a appreciation difference among the beers')\n",
        "else:\n",
        "  print(f'Greater than significance level 0.05. Fail to reject null hypothesis. There is no enough evidence to deny equally appreciation of the three beers.')"
      ],
      "execution_count": 33,
      "outputs": [
        {
          "output_type": "stream",
          "text": [
            "p value is: 0.075376\n",
            "Greater than significance level 0.05. Fail to reject null hypothesis. There is no enough evidence to deny equally appreciation of the three beers.\n"
          ],
          "name": "stdout"
        }
      ]
    },
    {
      "cell_type": "markdown",
      "metadata": {
        "id": "oL0jvaCZlbRm",
        "colab_type": "text"
      },
      "source": [
        "# Spearman Rank Correction"
      ]
    },
    {
      "cell_type": "markdown",
      "metadata": {
        "id": "kGnuHhBols2Y",
        "colab_type": "text"
      },
      "source": [
        "The Spearman correlation coefficient is a good replacement of the Pearson correlation if one of these conditions applies to your variables:\n",
        "\n",
        "* they are not numerical but one or both of the variables are ordinal\n",
        "* they are not linearly related\n",
        "* they contain one or more outliers or\n",
        "* they don't follow a bivariate normal distribution or you cannot check this due to lack of data.\n",
        "\n",
        "You can interpret the Spearman correlation in the same fashion as the Pearson\n",
        "correlation coefficients. a ρ of smaller than 0 denotes a negative relationship while a ρ of larger than 0 denotes a positive relationship. There are quite many way to calculate the spearman rank coefficient. [Check here](https://cmdlinetips.com/2019/08/how-to-compute-pearson-and-spearman-correlation-in-python/) for details."
      ]
    },
    {
      "cell_type": "code",
      "metadata": {
        "id": "-wYOD2WalK3i",
        "colab_type": "code",
        "colab": {
          "base_uri": "https://localhost:8080/",
          "height": 297
        },
        "outputId": "1a2d0de4-7912-4a2a-9506-42595f95d36a"
      },
      "source": [
        "np.random.seed(42)\n",
        "data1 = np.random.rand(1000) * 20\n",
        "data2 = data1 + (np.random.rand(1000) * 10)\n",
        "sales = pd.DataFrame({'Ingredients': data1, 'Price': data2})\n",
        "sales.plot.scatter('Ingredients', 'Price')"
      ],
      "execution_count": 61,
      "outputs": [
        {
          "output_type": "execute_result",
          "data": {
            "text/plain": [
              "<matplotlib.axes._subplots.AxesSubplot at 0x7f2a33b59fd0>"
            ]
          },
          "metadata": {
            "tags": []
          },
          "execution_count": 61
        },
        {
          "output_type": "display_data",
          "data": {
            "image/png": "[encoded data removed]",
            "text/plain": [
              "<Figure size 432x288 with 1 Axes>"
            ]
          },
          "metadata": {
            "tags": []
          }
        }
      ]
    },
    {
      "cell_type": "code",
      "metadata": {
        "id": "QAV43agDlRYu",
        "colab_type": "code",
        "colab": {
          "base_uri": "https://localhost:8080/",
          "height": 35
        },
        "outputId": "fda594d9-76e4-4331-cea5-90f8e7de774e"
      },
      "source": [
        "#solution 1\n",
        "sales['Ingred_rank'] = sales['Ingredients'].rank()\n",
        "sales['Price_rank'] = sales['Price'].rank()\n",
        "spearman_coef = np.corrcoef(sales['Ingred_rank'], sales['Price_rank'])\n",
        "print(spearman_coef[0][1])"
      ],
      "execution_count": 62,
      "outputs": [
        {
          "output_type": "stream",
          "text": [
            "0.9024128784128784\n"
          ],
          "name": "stdout"
        }
      ]
    },
    {
      "cell_type": "code",
      "metadata": {
        "id": "M-YqioZDmpbR",
        "colab_type": "code",
        "colab": {
          "base_uri": "https://localhost:8080/",
          "height": 35
        },
        "outputId": "599b871f-3ba8-42ac-f3c3-4c84b10dae48"
      },
      "source": [
        "#solution 2\n",
        "rho, p_val = st.spearmanr(sales[['Ingredients', 'Price']]) \n",
        "print(rho)"
      ],
      "execution_count": 63,
      "outputs": [
        {
          "output_type": "stream",
          "text": [
            "0.9024128784128784\n"
          ],
          "name": "stdout"
        }
      ]
    },
    {
      "cell_type": "code",
      "metadata": {
        "id": "lwGppoBQmtHk",
        "colab_type": "code",
        "colab": {
          "base_uri": "https://localhost:8080/",
          "height": 35
        },
        "outputId": "220d97f4-b441-4d18-ed9c-2eec879b979a"
      },
      "source": [
        "#solution 3\n",
        "sales['Ingredients'].corr(sales['Price'], method='spearman')"
      ],
      "execution_count": 65,
      "outputs": [
        {
          "output_type": "execute_result",
          "data": {
            "text/plain": [
              "0.9024128784128784"
            ]
          },
          "metadata": {
            "tags": []
          },
          "execution_count": 65
        }
      ]
    },
    {
      "cell_type": "code",
      "metadata": {
        "id": "p6-sONgJrVd4",
        "colab_type": "code",
        "colab": {}
      },
      "source": [
        ""
      ],
      "execution_count": 0,
      "outputs": []
    }
  ]
}