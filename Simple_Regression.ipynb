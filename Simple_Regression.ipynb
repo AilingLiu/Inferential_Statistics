{
  "nbformat": 4,
  "nbformat_minor": 0,
  "metadata": {
    "colab": {
      "name": "Simple Regression.ipynb",
      "provenance": [],
      "authorship_tag": "ABX9TyPjqxh9qyguYZFzZ39YqK18",
      "include_colab_link": true
    },
    "kernelspec": {
      "name": "python3",
      "display_name": "Python 3"
    }
  },
  "cells": [
    {
      "cell_type": "markdown",
      "metadata": {
        "id": "view-in-github",
        "colab_type": "text"
      },
      "source": [
        "<a href=\"https://colab.research.google.com/github/AilingLiu/Inferential_Statistics/blob/master/Simple_Regression.ipynb\" target=\"_parent\"><img src=\"https://colab.research.google.com/assets/colab-badge.svg\" alt=\"Open In Colab\"/></a>"
      ]
    },
    {
      "cell_type": "code",
      "metadata": {
        "id": "WIx66Q8vFYFZ",
        "colab_type": "code",
        "colab": {}
      },
      "source": [
        "import numpy as np\n",
        "import pandas as pd\n",
        "import scipy.stats as st\n",
        "import statsmodels.api as sm"
      ],
      "execution_count": 0,
      "outputs": []
    },
    {
      "cell_type": "markdown",
      "metadata": {
        "id": "bpBS-7c9KKLB",
        "colab_type": "text"
      },
      "source": [
        "# Simple Regression"
      ]
    },
    {
      "cell_type": "markdown",
      "metadata": {
        "id": "8P5aAi8H-4Kc",
        "colab_type": "text"
      },
      "source": [
        "For simple linear regresion, we focus on two parameters: intercept, and slope. The intercept is the value of the response variable when the predictor is 0. If we do not have any predictors(i.e. no other clues), the average of response variable is a common choise for estimation.\n",
        "\n",
        "There are many ways to get these two parameters in Python. You can check this [blog](https://www.freecodecamp.org/news/data-science-with-python-8-ways-to-do-linear-regression-and-measure-their-speed-b5577d75f8b/) to choose your favorite. Here I will use [linregress](https://docs.scipy.org/doc/scipy-0.14.0/reference/generated/scipy.stats.linregress.html) function from scipy, and [OLS](https://www.statsmodels.org/dev/generated/statsmodels.regression.linear_model.OLS.html) function from statsmodel.\n",
        "\n",
        "> Example:\n",
        "Does people like you because you give them money?"
      ]
    },
    {
      "cell_type": "code",
      "metadata": {
        "id": "yvDI7KmR7_xg",
        "colab_type": "code",
        "outputId": "0544f9e0-aded-4aed-e6fe-6b607808db93",
        "colab": {
          "base_uri": "https://localhost:8080/",
          "height": 228
        }
      },
      "source": [
        "#from scipy\n",
        "money  = np.array([1, 2, 3, 4, 5, 6, 7, 8, 9, 10]) #predictor\n",
        "liking = np.array([2.2, 2.8, 4.5, 3.1, 8.7, 5.0, 4.5, 8.8, 9.0, 9.2]) #response\n",
        "\n",
        "slope, intercept, correlation, pval, stderror=st.linregress(money, liking)\n",
        "rsquared = correlation**2\n",
        "\n",
        "result = pd.DataFrame([slope, intercept, correlation, pval, stderror, rsquared], index='slope, intercept, correlation, pval, stderror, rsquared'.split(', '), columns=['values']).round(4)\n",
        "display(result)"
      ],
      "execution_count": 0,
      "outputs": [
        {
          "output_type": "display_data",
          "data": {
            "text/html": [
              "<div>\n",
              "<style scoped>\n",
              "    .dataframe tbody tr th:only-of-type {\n",
              "        vertical-align: middle;\n",
              "    }\n",
              "\n",
              "    .dataframe tbody tr th {\n",
              "        vertical-align: top;\n",
              "    }\n",
              "\n",
              "    .dataframe thead th {\n",
              "        text-align: right;\n",
              "    }\n",
              "</style>\n",
              "<table border=\"1\" class=\"dataframe\">\n",
              "  <thead>\n",
              "    <tr style=\"text-align: right;\">\n",
              "      <th></th>\n",
              "      <th>values</th>\n",
              "    </tr>\n",
              "  </thead>\n",
              "  <tbody>\n",
              "    <tr>\n",
              "      <th>slope</th>\n",
              "      <td>0.7782</td>\n",
              "    </tr>\n",
              "    <tr>\n",
              "      <th>intercept</th>\n",
              "      <td>1.5000</td>\n",
              "    </tr>\n",
              "    <tr>\n",
              "      <th>correlation</th>\n",
              "      <td>0.8303</td>\n",
              "    </tr>\n",
              "    <tr>\n",
              "      <th>pval</th>\n",
              "      <td>0.0029</td>\n",
              "    </tr>\n",
              "    <tr>\n",
              "      <th>stderror</th>\n",
              "      <td>0.1847</td>\n",
              "    </tr>\n",
              "    <tr>\n",
              "      <th>rsquared</th>\n",
              "      <td>0.6893</td>\n",
              "    </tr>\n",
              "  </tbody>\n",
              "</table>\n",
              "</div>"
            ],
            "text/plain": [
              "             values\n",
              "slope        0.7782\n",
              "intercept    1.5000\n",
              "correlation  0.8303\n",
              "pval         0.0029\n",
              "stderror     0.1847\n",
              "rsquared     0.6893"
            ]
          },
          "metadata": {
            "tags": []
          }
        }
      ]
    },
    {
      "cell_type": "markdown",
      "metadata": {
        "id": "n71lwIGMByv3",
        "colab_type": "text"
      },
      "source": [
        "From correlation of 0.8303, there is a strong positive correlation: the more money you give someone, the more they like you. But even if we do not give them any money, i.e. predictor =0, people like you an amount of 1.50 any way. Furthermore, the r-squared explains how well the predictor describes the response variable. And the p value of 0.0029 shows this model is significant."
      ]
    },
    {
      "cell_type": "code",
      "metadata": {
        "id": "kGOoxPmMEzbs",
        "colab_type": "code",
        "outputId": "4b6c18a5-2037-4c34-c015-faeaa0436cbb",
        "colab": {
          "base_uri": "https://localhost:8080/",
          "height": 508
        }
      },
      "source": [
        "#from statsmodel\n",
        "import statsmodels.api as sm\n",
        "money = sm.add_constant(money)\n",
        "results = sm.OLS(liking, money).fit()\n",
        "money = money[:, 1]\n",
        "print(results.summary())"
      ],
      "execution_count": 0,
      "outputs": [
        {
          "output_type": "stream",
          "text": [
            "                            OLS Regression Results                            \n",
            "==============================================================================\n",
            "Dep. Variable:                      y   R-squared:                       0.689\n",
            "Model:                            OLS   Adj. R-squared:                  0.650\n",
            "Method:                 Least Squares   F-statistic:                     17.75\n",
            "Date:                Thu, 13 Feb 2020   Prob (F-statistic):            0.00294\n",
            "Time:                        15:09:29   Log-Likelihood:                -18.248\n",
            "No. Observations:                  10   AIC:                             40.50\n",
            "Df Residuals:                       8   BIC:                             41.10\n",
            "Df Model:                           1                                         \n",
            "Covariance Type:            nonrobust                                         \n",
            "==============================================================================\n",
            "                 coef    std err          t      P>|t|      [0.025      0.975]\n",
            "------------------------------------------------------------------------------\n",
            "const          1.5000      1.146      1.309      0.227      -1.143       4.143\n",
            "x1             0.7782      0.185      4.213      0.003       0.352       1.204\n",
            "==============================================================================\n",
            "Omnibus:                        2.154   Durbin-Watson:                   2.826\n",
            "Prob(Omnibus):                  0.341   Jarque-Bera (JB):                0.506\n",
            "Skew:                           0.537   Prob(JB):                        0.776\n",
            "Kurtosis:                       3.244   Cond. No.                         13.7\n",
            "==============================================================================\n",
            "\n",
            "Warnings:\n",
            "[1] Standard Errors assume that the covariance matrix of the errors is correctly specified.\n"
          ],
          "name": "stdout"
        },
        {
          "output_type": "stream",
          "text": [
            "/usr/local/lib/python3.6/dist-packages/scipy/stats/stats.py:1535: UserWarning: kurtosistest only valid for n>=20 ... continuing anyway, n=10\n",
            "  \"anyway, n=%i\" % int(n))\n"
          ],
          "name": "stderr"
        }
      ]
    },
    {
      "cell_type": "markdown",
      "metadata": {
        "id": "2ehkpog1Go9t",
        "colab_type": "text"
      },
      "source": [
        "From statsmodel, Statsmodel has a comprehensive summary that is useful for analysis. `R-squared:` tells us how much of the variance in the response variable (liking) is explained by the predictor variable (money); `Prob (F-statistic)` gives the probability of observations given all regression coefficients equal zero is true,i.e. there will be no relationship between money and liking. Under 0.05 significance level, we will reject the null hypothesis and conclude this model is significant. The parameters are returned with P value indicating their significance as well(ho: each parameter is zero). If we have more predictors, this table will be useful for variable selection.\n",
        "\n"
      ]
    },
    {
      "cell_type": "markdown",
      "metadata": {
        "id": "rRyTHFGtJzJX",
        "colab_type": "text"
      },
      "source": [
        "## Testing Assumptions"
      ]
    },
    {
      "cell_type": "markdown",
      "metadata": {
        "id": "HVZv-JXFDOP7",
        "colab_type": "text"
      },
      "source": [
        "1.  The relationship between the predictor and response variable is linear. \n",
        "2.  Homocedasticity. To check this we should make sure the variation in residuals is roughly even at all levels of the predictor and response variables.\n",
        "3.  Residuals are normally distributed. This means that the most common values are around zero, with fewer values as we move higher and lower than zero.\n",
        "4.  Residuals cannot be related to each other."
      ]
    },
    {
      "cell_type": "code",
      "metadata": {
        "id": "lPOhJpTrA92Z",
        "colab_type": "code",
        "outputId": "dfb7ce9a-d3a3-4d23-a6f6-d41ed695d2c8",
        "colab": {
          "base_uri": "https://localhost:8080/",
          "height": 442
        }
      },
      "source": [
        "import matplotlib.pyplot as plt\n",
        "\n",
        "residuals = results.resid\n",
        "fig, axes=plt.subplots(nrows=2, ncols=2, figsize=(10, 7))\n",
        "axes[0, 0].scatter(money, liking)\n",
        "axes[0, 0].plot(money, money*slope+intercept, 'k-')\n",
        "axes[0, 0].set(xlabel='money', ylabel='liking')\n",
        "axes[0, 0].grid()\n",
        "axes[0, 1].scatter(money, residuals)\n",
        "axes[0, 1].set(xlabel='money', ylabel='Residuals')\n",
        "axes[1, 0].scatter(liking, residuals)\n",
        "axes[1, 0].set(xlabel='liking', ylabel='Residuals')\n",
        "axes[1, 1].hist(residuals, align='mid', bins=[-3,-2,-1,0,1,2,3,4])\n",
        "axes[1, 1].set(xlabel='residuals', ylabel='counts')\n",
        "axes[1, 1].grid()\n",
        "\n",
        "plt.show()"
      ],
      "execution_count": 0,
      "outputs": [
        {
          "output_type": "display_data",
          "data": {
            "image/png": "[encoded data removed]",
            "text/plain": [
              "<Figure size 720x504 with 4 Axes>"
            ]
          },
          "metadata": {
            "tags": []
          }
        }
      ]
    },
    {
      "cell_type": "markdown",
      "metadata": {
        "id": "Igc3N4SDIdOu",
        "colab_type": "text"
      },
      "source": [
        "You can see from the plots that while the residuals seem fairly even on the 'money' plot, there is a slight pattern in the 'liking' plot, such that residuals seem to be larger at higher levels of liking, and lower at lower levels of liking. This pattern suggests that our data might not entirely meet the assumption of linearity or homoscedasticity.\n",
        "\n",
        "In the histogram, the residuals take a kind of a pyramid shape, with most of the values around zero, and fewer values as you move away from zero. This means they're normally distributed, except for the one outlier between 3 and 4."
      ]
    },
    {
      "cell_type": "markdown",
      "metadata": {
        "id": "-6EmpNktOH8_",
        "colab_type": "text"
      },
      "source": [
        "## Making Predictions"
      ]
    },
    {
      "cell_type": "markdown",
      "metadata": {
        "id": "bivMclnHOOYo",
        "colab_type": "text"
      },
      "source": [
        "If all the assumptions are met and the model is significant, we will be able to make prediction on two levels of intervals:\n",
        "1.  Prediction Intervals\n",
        "2.  Confidence Intervals"
      ]
    },
    {
      "cell_type": "code",
      "metadata": {
        "id": "StvNaRTHBMrZ",
        "colab_type": "code",
        "outputId": "6f245978-03f5-42ed-9d04-fedd0f4adf0c",
        "colab": {
          "base_uri": "https://localhost:8080/",
          "height": 78
        }
      },
      "source": [
        "newdata=[1, 3] #money=3, add the constant=1 manually\n",
        "results.get_prediction(newdata).summary_frame(alpha = 0.05)"
      ],
      "execution_count": 0,
      "outputs": [
        {
          "output_type": "execute_result",
          "data": {
            "text/html": [
              "<div>\n",
              "<style scoped>\n",
              "    .dataframe tbody tr th:only-of-type {\n",
              "        vertical-align: middle;\n",
              "    }\n",
              "\n",
              "    .dataframe tbody tr th {\n",
              "        vertical-align: top;\n",
              "    }\n",
              "\n",
              "    .dataframe thead th {\n",
              "        text-align: right;\n",
              "    }\n",
              "</style>\n",
              "<table border=\"1\" class=\"dataframe\">\n",
              "  <thead>\n",
              "    <tr style=\"text-align: right;\">\n",
              "      <th></th>\n",
              "      <th>mean</th>\n",
              "      <th>mean_se</th>\n",
              "      <th>mean_ci_lower</th>\n",
              "      <th>mean_ci_upper</th>\n",
              "      <th>obs_ci_lower</th>\n",
              "      <th>obs_ci_upper</th>\n",
              "    </tr>\n",
              "  </thead>\n",
              "  <tbody>\n",
              "    <tr>\n",
              "      <th>0</th>\n",
              "      <td>3.834545</td>\n",
              "      <td>0.703339</td>\n",
              "      <td>2.212643</td>\n",
              "      <td>5.456448</td>\n",
              "      <td>-0.360403</td>\n",
              "      <td>8.029494</td>\n",
              "    </tr>\n",
              "  </tbody>\n",
              "</table>\n",
              "</div>"
            ],
            "text/plain": [
              "       mean   mean_se  mean_ci_lower  mean_ci_upper  obs_ci_lower  obs_ci_upper\n",
              "0  3.834545  0.703339       2.212643       5.456448     -0.360403      8.029494"
            ]
          },
          "metadata": {
            "tags": []
          },
          "execution_count": 52
        }
      ]
    },
    {
      "cell_type": "markdown",
      "metadata": {
        "id": "FIEpcyNuPBEZ",
        "colab_type": "text"
      },
      "source": [
        "The the last cells `obs_ci_lower` and `obs_ci_upper` are the range where true 'liking' score that someone from our **sample** is likingly to give, at 95% of confidence interval.\n",
        "This means we are 95% sure that if we gave someone from our sample 3 units of money, they would like us somewhere between -0.36 and 8.03. That's quite a wide range.\n",
        "\n",
        "The middle two cells `mean_ci_lower` and `mean_ci_upper` are the range of scores which our **population** are likely to give.\n",
        "We're 95% sure that the mean amount that someone would like us if we gave them 3 units of money in the population falls between 2.12 and 5.46. This is quite a bit narrower than the prediction interval."
      ]
    }
  ]
}