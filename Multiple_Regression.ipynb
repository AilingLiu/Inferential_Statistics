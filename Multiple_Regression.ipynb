{
  "nbformat": 4,
  "nbformat_minor": 0,
  "metadata": {
    "colab": {
      "name": "Multiple Regression.ipynb",
      "provenance": [],
      "authorship_tag": "ABX9TyP7eQ8inOOrlZX1qXL7LNx+",
      "include_colab_link": true
    },
    "kernelspec": {
      "name": "python3",
      "display_name": "Python 3"
    }
  },
  "cells": [
    {
      "cell_type": "markdown",
      "metadata": {
        "id": "view-in-github",
        "colab_type": "text"
      },
      "source": [
        "<a href=\"https://colab.research.google.com/github/AilingLiu/Inferential_Statistics/blob/master/Multiple_Regression.ipynb\" target=\"_parent\"><img src=\"https://colab.research.google.com/assets/colab-badge.svg\" alt=\"Open In Colab\"/></a>"
      ]
    },
    {
      "cell_type": "code",
      "metadata": {
        "id": "i3n6xE7dGDC0",
        "colab_type": "code",
        "colab": {}
      },
      "source": [
        "import numpy as np\n",
        "import pandas as pd\n",
        "import scipy.stats as st\n",
        "import statsmodels.api as sm"
      ],
      "execution_count": 0,
      "outputs": []
    },
    {
      "cell_type": "markdown",
      "metadata": {
        "id": "mgGOwD2QQaOw",
        "colab_type": "text"
      },
      "source": [
        "# Multiple Regression"
      ]
    },
    {
      "cell_type": "markdown",
      "metadata": {
        "id": "BW4Xrou-boA3",
        "colab_type": "text"
      },
      "source": [
        "## Calculation"
      ]
    },
    {
      "cell_type": "markdown",
      "metadata": {
        "id": "I23FHGQuTLC9",
        "colab_type": "text"
      },
      "source": [
        "We add one more predictor `smile` to our above sample to make the multiple regression. Then, we can use [ols](https://www.statsmodels.org/dev/generated/statsmodels.regression.linear_model.OLS.html) function again to get the statistics summary."
      ]
    },
    {
      "cell_type": "code",
      "metadata": {
        "id": "nhkV4jZ6VBS-",
        "colab_type": "code",
        "outputId": "25b91a3a-e0b9-4e8d-f2bc-66a78114fef5",
        "colab": {
          "base_uri": "https://localhost:8080/",
          "height": 563
        }
      },
      "source": [
        "smile = np.array([0.6, 0.7, 1.0, 0.1, 0.3, 0.1, 0.4, 0.8, 0.9, 0.2]) #predictor\n",
        "money  = np.array([1, 2, 3, 4, 5, 6, 7, 8, 9, 10]) #predictor\n",
        "liking = np.array([2.2, 2.8, 4.5, 3.1, 8.7, 5.0, 4.5, 8.8, 9.0, 9.2]) #response\n",
        "df = pd.DataFrame({'smile':smile, 'money': money, 'liking':liking})\n",
        "#using statsmodel ols function\n",
        "X=sm.add_constant(df[['smile', 'money']])\n",
        "model=sm.OLS(df['liking'], X).fit()\n",
        "print(model.summary())"
      ],
      "execution_count": 0,
      "outputs": [
        {
          "output_type": "stream",
          "text": [
            "                            OLS Regression Results                            \n",
            "==============================================================================\n",
            "Dep. Variable:                 liking   R-squared:                       0.720\n",
            "Model:                            OLS   Adj. R-squared:                  0.640\n",
            "Method:                 Least Squares   F-statistic:                     8.984\n",
            "Date:                Thu, 13 Feb 2020   Prob (F-statistic):             0.0117\n",
            "Time:                        16:18:42   Log-Likelihood:                -17.735\n",
            "No. Observations:                  10   AIC:                             41.47\n",
            "Df Residuals:                       7   BIC:                             42.38\n",
            "Df Model:                           2                                         \n",
            "Covariance Type:            nonrobust                                         \n",
            "==============================================================================\n",
            "                 coef    std err          t      P>|t|      [0.025      0.975]\n",
            "------------------------------------------------------------------------------\n",
            "const          0.6162      1.545      0.399      0.702      -3.037       4.269\n",
            "smile          1.4895      1.712      0.870      0.413      -2.559       5.539\n",
            "money          0.8008      0.189      4.229      0.004       0.353       1.249\n",
            "==============================================================================\n",
            "Omnibus:                        9.658   Durbin-Watson:                   2.521\n",
            "Prob(Omnibus):                  0.008   Jarque-Bera (JB):                3.971\n",
            "Skew:                           1.201   Prob(JB):                        0.137\n",
            "Kurtosis:                       4.939   Cond. No.                         24.5\n",
            "==============================================================================\n",
            "\n",
            "Warnings:\n",
            "[1] Standard Errors assume that the covariance matrix of the errors is correctly specified.\n"
          ],
          "name": "stdout"
        },
        {
          "output_type": "stream",
          "text": [
            "/usr/local/lib/python3.6/dist-packages/numpy/core/fromnumeric.py:2495: FutureWarning: Method .ptp is deprecated and will be removed in a future version. Use numpy.ptp instead.\n",
            "  return ptp(axis=axis, out=out, **kwargs)\n",
            "/usr/local/lib/python3.6/dist-packages/scipy/stats/stats.py:1535: UserWarning: kurtosistest only valid for n>=20 ... continuing anyway, n=10\n",
            "  \"anyway, n=%i\" % int(n))\n"
          ],
          "name": "stderr"
        }
      ]
    },
    {
      "cell_type": "markdown",
      "metadata": {
        "id": "tQbwoA9wWS69",
        "colab_type": "text"
      },
      "source": [
        "R squared for our model is 0.72 - this means that our model including money and smiling is about 72% better than just using the mean to predict how much someone will like us.\n",
        "\n",
        "F-statistic is 8.984, where p = 0.0117. Based on this, if all of our assumptions are met, smiling and/or money significantly predict liking. Next, we can check the individual parameters in the model. When controling for smiling, liking is related to money. For every unit increase in money, liking increases by 0.8008. The lower limit at 2.5% is 0.3353, and upper limit at 97.5% is 1.249. If we want to change the confidence level 90%, we can calculate the interval directly."
      ]
    },
    {
      "cell_type": "code",
      "metadata": {
        "id": "rOUbObazUZjS",
        "colab_type": "code",
        "outputId": "de76e703-dac7-46b5-84ab-5c8f9624dd43",
        "colab": {
          "base_uri": "https://localhost:8080/",
          "height": 54
        }
      },
      "source": [
        "lb = 0.8008 - st.t.ppf(0.95, 7) * 0.189 #0.95 the upper tail, two sided, degree of freedom: n-k where k is the number of parameters in the model including intercept.\n",
        "ub = 0.8008 + st.t.ppf(0.95, 7) * 0.189\n",
        "print(f'lower bound {lb}\\n upper bound {ub} at 90% of confidence level.')"
      ],
      "execution_count": 0,
      "outputs": [
        {
          "output_type": "stream",
          "text": [
            "lower bound 0.4427246436434133\n",
            " upper bound 1.1588753563565866 at 90% of confidence level.\n"
          ],
          "name": "stdout"
        }
      ]
    },
    {
      "cell_type": "markdown",
      "metadata": {
        "id": "9OY5ph6lbd6K",
        "colab_type": "text"
      },
      "source": [
        "## checking assumptions"
      ]
    },
    {
      "cell_type": "markdown",
      "metadata": {
        "id": "K84pSMPIbrVW",
        "colab_type": "text"
      },
      "source": [
        "1.   **Linearity**. The assumption of linearity says that the predictors should be linearly related to the response variable. As we cannot really do this when we have more than one predictor, we are going to look at the residuals against the response variable. We would hope to see the residuals move in a straight line.\n",
        "2.   **Homoscedasticity**. To check this we should make sure the variation in residuals is roughly even at all levels of the predictor.\n",
        "3.   **Independent errors**\n",
        "4.   **Sufficient observations**\n",
        "5.   **Absence of outliers**. Can use the standardized residuals to check. Standardized residuals greater than 3 or less than -3 are likely outliers.\n",
        "6.   **Residuals normality**"
      ]
    },
    {
      "cell_type": "code",
      "metadata": {
        "id": "q5YGJx8VZhkW",
        "colab_type": "code",
        "outputId": "591b3a3d-8a88-4924-f884-f7129175cbbb",
        "colab": {
          "base_uri": "https://localhost:8080/",
          "height": 501
        }
      },
      "source": [
        "import matplotlib.pyplot as plt\n",
        "\n",
        "residulas = model.resid\n",
        "stdresid = residuals/np.std(residuals)\n",
        "fig, axes=plt.subplots(nrows=2, ncols=2, figsize=(10, 8))\n",
        "axes[0, 0].scatter(df['money'], residuals)\n",
        "axes[0, 0].set(xlabel='money', ylabel='reiduals')\n",
        "axes[0, 0].grid()\n",
        "axes[0, 1].scatter(df['smile'], residuals)\n",
        "axes[0, 1].set(xlabel='smile', ylabel='reiduals')\n",
        "axes[0, 1].grid()\n",
        "axes[1, 0].hist(stdresid, bins=[-4, -3, -2, -1, 0, 1, 2, 3, 4])\n",
        "axes[1, 0].set(title='Histogram of Std Resid')\n",
        "axes[1, 1].hist(residuals, bins=[-3, -2, -1, 0, 1, 2, 3, 4], align='mid')\n",
        "axes[1, 1].set(title='Histogram of Resid')\n",
        "fig.subplots_adjust(wspace=0.2, hspace=0.5)\n",
        "plt.plot()"
      ],
      "execution_count": 0,
      "outputs": [
        {
          "output_type": "execute_result",
          "data": {
            "text/plain": [
              "[]"
            ]
          },
          "metadata": {
            "tags": []
          },
          "execution_count": 94
        },
        {
          "output_type": "display_data",
          "data": {
            "image/png": "[encoded data removed]",
            "text/plain": [
              "<Figure size 720x576 with 4 Axes>"
            ]
          },
          "metadata": {
            "tags": []
          }
        }
      ]
    },
    {
      "cell_type": "markdown",
      "metadata": {
        "id": "sLQT1xq9eC72",
        "colab_type": "text"
      },
      "source": [
        "We see some values fan out in the middle. That means the assumption of homoscedasticity is violated. The linearity is somewhat problematic because of these outliers. From the standardize residuals histogram, it looks like it has one residual over 2, but nothing over or under 3. From the Residuals histogram, we can tell the residuals follow a fairly normal pattern, however the sneaky outliers from before show up at either tail!"
      ]
    },
    {
      "cell_type": "markdown",
      "metadata": {
        "id": "SEGbbBP_hdc3",
        "colab_type": "text"
      },
      "source": [
        "## Categorical predictors"
      ]
    },
    {
      "cell_type": "markdown",
      "metadata": {
        "id": "hucjJYVJhjCJ",
        "colab_type": "text"
      },
      "source": [
        "Let's include a variable called talk. We either said something neutral (\"Nice weather today\"), rude (\"You smell\"), or polite (\"You are great\"). We coded these responses as 1, 2, and 3, respectively. As OLS function does not help us to dummify the categorical variable directly, we are using its R style [formula.api](https://www.statsmodels.org/dev/example_formulas.html) to do it, with ols function. You can also use pandas [get_dummies](https://pandas.pydata.org/pandas-docs/stable/reference/api/pandas.get_dummies.html) function to generate such dummies, dropping one of its level from each categorical variable, and put it back to OLS function."
      ]
    },
    {
      "cell_type": "code",
      "metadata": {
        "id": "wn9Hj0dDe4jg",
        "colab_type": "code",
        "outputId": "90166cff-6fc3-42a7-a6b3-fde5429b31aa",
        "colab": {
          "base_uri": "https://localhost:8080/",
          "height": 599
        }
      },
      "source": [
        "import statsmodels.formula.api as smf\n",
        "\n",
        "talk = np.array([1, 2, 3, 2, 3, 1, 2, 1, 3, 1])\n",
        "df['talk']=talk\n",
        "df['talk']=df['talk'].astype('category')\n",
        "model2 = smf.ols(formula='liking~smile+money+C(talk)', data=df).fit()\n",
        "print(model2.summary())\n"
      ],
      "execution_count": 0,
      "outputs": [
        {
          "output_type": "stream",
          "text": [
            "                            OLS Regression Results                            \n",
            "==============================================================================\n",
            "Dep. Variable:                 liking   R-squared:                       0.869\n",
            "Model:                            OLS   Adj. R-squared:                  0.764\n",
            "Method:                 Least Squares   F-statistic:                     8.286\n",
            "Date:                Thu, 13 Feb 2020   Prob (F-statistic):             0.0197\n",
            "Time:                        17:21:58   Log-Likelihood:                -13.933\n",
            "No. Observations:                  10   AIC:                             37.87\n",
            "Df Residuals:                       5   BIC:                             39.38\n",
            "Df Model:                           4                                         \n",
            "Covariance Type:            nonrobust                                         \n",
            "================================================================================\n",
            "                   coef    std err          t      P>|t|      [0.025      0.975]\n",
            "--------------------------------------------------------------------------------\n",
            "Intercept        1.9694      1.482      1.329      0.241      -1.839       5.778\n",
            "C(talk)[T.2]    -1.4892      1.100     -1.354      0.234      -4.317       1.338\n",
            "C(talk)[T.3]     1.5572      1.156      1.347      0.236      -1.414       4.528\n",
            "smile           -0.1523      1.576     -0.097      0.927      -4.204       3.899\n",
            "money            0.7033      0.161      4.367      0.007       0.289       1.117\n",
            "==============================================================================\n",
            "Omnibus:                        1.715   Durbin-Watson:                   2.982\n",
            "Prob(Omnibus):                  0.424   Jarque-Bera (JB):                1.041\n",
            "Skew:                           0.512   Prob(JB):                        0.594\n",
            "Kurtosis:                       1.797   Cond. No.                         28.6\n",
            "==============================================================================\n",
            "\n",
            "Warnings:\n",
            "[1] Standard Errors assume that the covariance matrix of the errors is correctly specified.\n"
          ],
          "name": "stdout"
        },
        {
          "output_type": "stream",
          "text": [
            "/usr/local/lib/python3.6/dist-packages/numpy/core/fromnumeric.py:2495: FutureWarning: Method .ptp is deprecated and will be removed in a future version. Use numpy.ptp instead.\n",
            "  return ptp(axis=axis, out=out, **kwargs)\n",
            "/usr/local/lib/python3.6/dist-packages/scipy/stats/stats.py:1535: UserWarning: kurtosistest only valid for n>=20 ... continuing anyway, n=10\n",
            "  \"anyway, n=%i\" % int(n))\n"
          ],
          "name": "stderr"
        }
      ]
    },
    {
      "cell_type": "markdown",
      "metadata": {
        "id": "IdMRRqAUoTPU",
        "colab_type": "text"
      },
      "source": [
        "From the coefficient of talk variable, a rude statement(value 2) was negatively related to how much someone liked us, while a polite statement(value 3) was positively related to how much someone liked us."
      ]
    },
    {
      "cell_type": "markdown",
      "metadata": {
        "id": "k6tiJkgDpVeq",
        "colab_type": "text"
      },
      "source": [
        "## Categorical Response (Logistic Regression)"
      ]
    },
    {
      "cell_type": "markdown",
      "metadata": {
        "id": "sLsCfr_MpeWK",
        "colab_type": "text"
      },
      "source": [
        "Let's say instead of a continuous measure of liking, we have a binary measure - either someone likes us (1), or they don't (0).\n",
        "\n",
        "We can see whether we can predict whether someone likes us or not using logistic regression."
      ]
    },
    {
      "cell_type": "code",
      "metadata": {
        "id": "ReYBVo8UhrWL",
        "colab_type": "code",
        "outputId": "79f080f5-aca9-4402-aa46-72f9410282a2",
        "colab": {
          "base_uri": "https://localhost:8080/",
          "height": 419
        }
      },
      "source": [
        "df['liking'] = np.array([0, 0, 0, 0, 1, 1, 0, 1, 1, 1])\n",
        "X = sm.add_constant(df[['smile', 'money']])\n",
        "model3 = sm.Logit(df['liking'], X).fit()\n",
        "print(model3.summary())"
      ],
      "execution_count": 0,
      "outputs": [
        {
          "output_type": "stream",
          "text": [
            "Optimization terminated successfully.\n",
            "         Current function value: 0.347148\n",
            "         Iterations 8\n",
            "                           Logit Regression Results                           \n",
            "==============================================================================\n",
            "Dep. Variable:                 liking   No. Observations:                   10\n",
            "Model:                          Logit   Df Residuals:                        7\n",
            "Method:                           MLE   Df Model:                            2\n",
            "Date:                Thu, 13 Feb 2020   Pseudo R-squ.:                  0.4992\n",
            "Time:                        17:47:11   Log-Likelihood:                -3.4715\n",
            "converged:                       True   LL-Null:                       -6.9315\n",
            "Covariance Type:            nonrobust   LLR p-value:                   0.03143\n",
            "==============================================================================\n",
            "                 coef    std err          z      P>|z|      [0.025      0.975]\n",
            "------------------------------------------------------------------------------\n",
            "const         -4.5794      3.276     -1.398      0.162     -11.001       1.842\n",
            "smile         -1.4755      3.621     -0.407      0.684      -8.573       5.622\n",
            "money          0.9312      0.593      1.569      0.117      -0.232       2.094\n",
            "==============================================================================\n"
          ],
          "name": "stdout"
        },
        {
          "output_type": "stream",
          "text": [
            "/usr/local/lib/python3.6/dist-packages/numpy/core/fromnumeric.py:2495: FutureWarning: Method .ptp is deprecated and will be removed in a future version. Use numpy.ptp instead.\n",
            "  return ptp(axis=axis, out=out, **kwargs)\n"
          ],
          "name": "stderr"
        }
      ]
    },
    {
      "cell_type": "markdown",
      "metadata": {
        "id": "wGPGvS5Vqs0-",
        "colab_type": "text"
      },
      "source": [
        "We can tell from the coefficient of money that when you give a person one unit of money, the log odds of them liking you increases by 0.9312. If we take the expopential of log odd, we will get the odd as 2.5, and probability that people like you will be 0.72, which means the increase of 1 unit of money will increase 75% of chance they like you more."
      ]
    },
    {
      "cell_type": "code",
      "metadata": {
        "id": "Ut0Ep5GpplSK",
        "colab_type": "code",
        "outputId": "81ca96da-5b95-4fd4-ea3b-ae785c81216e",
        "colab": {
          "base_uri": "https://localhost:8080/",
          "height": 35
        }
      },
      "source": [
        "odds = np.exp(0.9312)\n",
        "py = odds/(1+odds)\n",
        "py"
      ],
      "execution_count": 0,
      "outputs": [
        {
          "output_type": "execute_result",
          "data": {
            "text/plain": [
              "0.7173186760473905"
            ]
          },
          "metadata": {
            "tags": []
          },
          "execution_count": 119
        }
      ]
    }
  ]
}