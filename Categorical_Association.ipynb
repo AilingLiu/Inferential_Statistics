{
  "nbformat": 4,
  "nbformat_minor": 0,
  "metadata": {
    "colab": {
      "name": "Categorical Association.ipynb",
      "provenance": [],
      "toc_visible": true,
      "authorship_tag": "ABX9TyNopKhDeCNLz40/1oW+LcQO",
      "include_colab_link": true
    },
    "kernelspec": {
      "name": "python3",
      "display_name": "Python 3"
    }
  },
  "cells": [
    {
      "cell_type": "markdown",
      "metadata": {
        "id": "view-in-github",
        "colab_type": "text"
      },
      "source": [
        "<a href=\"https://colab.research.google.com/github/AilingLiu/Inferential_Statistics/blob/master/Categorical_Association.ipynb\" target=\"_parent\"><img src=\"https://colab.research.google.com/assets/colab-badge.svg\" alt=\"Open In Colab\"/></a>"
      ]
    },
    {
      "cell_type": "code",
      "metadata": {
        "id": "FXt3YbaOEk7c",
        "colab_type": "code",
        "colab": {}
      },
      "source": [
        "import numpy as np\n",
        "import pandas as pd\n",
        "import scipy.stats as st\n",
        "import statsmodels.api as sm"
      ],
      "execution_count": 0,
      "outputs": []
    },
    {
      "cell_type": "markdown",
      "metadata": {
        "id": "FCTNnyPWuxaf",
        "colab_type": "text"
      },
      "source": [
        "# Categorical Association"
      ]
    },
    {
      "cell_type": "markdown",
      "metadata": {
        "id": "I1ZOoNtJve07",
        "colab_type": "text"
      },
      "source": [
        "## Chi-square"
      ]
    },
    {
      "cell_type": "markdown",
      "metadata": {
        "id": "tngpfiREv-lH",
        "colab_type": "text"
      },
      "source": [
        "We would like to find the association between two categorical varianbes. In below example, we are an advertisement company that have collected data coming from three different groups: Student, Parent, and Corporate. We are interested to know which ad type interests which group, so we can invest corresponding ads in those groups. Below data shows votes from different audience groups on their favorite ads: Party, Child, Office. \n",
        "\n",
        "To be specific, we need to find out two things:\n",
        "1.   Is the ad type has any association with audience group?\n",
        "2.   If there's association, which audience is in favor of which ad type?"
      ]
    },
    {
      "cell_type": "code",
      "metadata": {
        "id": "AbZJi392BMVZ",
        "colab_type": "code",
        "outputId": "7da3fe09-ccd3-4e61-e40f-0a8d9c6accd7",
        "colab": {
          "base_uri": "https://localhost:8080/",
          "height": 138
        }
      },
      "source": [
        "data = pd.DataFrame(np.array([[12, 5, 6],[7, 15, 7],[5, 5, 14]]), columns=['Party', 'Child', 'Office'], index=['Student', 'Parent', 'Corporate'])\n",
        "display(data)"
      ],
      "execution_count": 0,
      "outputs": [
        {
          "output_type": "display_data",
          "data": {
            "text/html": [
              "<div>\n",
              "<style scoped>\n",
              "    .dataframe tbody tr th:only-of-type {\n",
              "        vertical-align: middle;\n",
              "    }\n",
              "\n",
              "    .dataframe tbody tr th {\n",
              "        vertical-align: top;\n",
              "    }\n",
              "\n",
              "    .dataframe thead th {\n",
              "        text-align: right;\n",
              "    }\n",
              "</style>\n",
              "<table border=\"1\" class=\"dataframe\">\n",
              "  <thead>\n",
              "    <tr style=\"text-align: right;\">\n",
              "      <th></th>\n",
              "      <th>Party</th>\n",
              "      <th>Child</th>\n",
              "      <th>Office</th>\n",
              "    </tr>\n",
              "  </thead>\n",
              "  <tbody>\n",
              "    <tr>\n",
              "      <th>Student</th>\n",
              "      <td>12</td>\n",
              "      <td>5</td>\n",
              "      <td>6</td>\n",
              "    </tr>\n",
              "    <tr>\n",
              "      <th>Parent</th>\n",
              "      <td>7</td>\n",
              "      <td>15</td>\n",
              "      <td>7</td>\n",
              "    </tr>\n",
              "    <tr>\n",
              "      <th>Corporate</th>\n",
              "      <td>5</td>\n",
              "      <td>5</td>\n",
              "      <td>14</td>\n",
              "    </tr>\n",
              "  </tbody>\n",
              "</table>\n",
              "</div>"
            ],
            "text/plain": [
              "           Party  Child  Office\n",
              "Student       12      5       6\n",
              "Parent         7     15       7\n",
              "Corporate      5      5      14"
            ]
          },
          "metadata": {
            "tags": []
          }
        }
      ]
    },
    {
      "cell_type": "markdown",
      "metadata": {
        "id": "XK7MbKp_xuLw",
        "colab_type": "text"
      },
      "source": [
        "We can conduct chi-square test to test the association between two categorical variables using scipy modules."
      ]
    },
    {
      "cell_type": "code",
      "metadata": {
        "id": "Zk4GbCMsv834",
        "colab_type": "code",
        "outputId": "c248b5c0-6144-4bb5-880f-77ab93fccfa3",
        "colab": {
          "base_uri": "https://localhost:8080/",
          "height": 108
        }
      },
      "source": [
        "from scipy.stats import chi2_contingency\n",
        "\n",
        "c_stat, pval, df, expected_val = chi2_contingency(data)\n",
        "expected_val = expected_val.round(1)\n",
        "\n",
        "print('Expected Value if these two categorical varianbles are not related:')\n",
        "display(expected_val)\n",
        "\n",
        "print('Calculated P value: {}'.format(pval))"
      ],
      "execution_count": 0,
      "outputs": [
        {
          "output_type": "stream",
          "text": [
            "Expected Value if these two categorical varianbles are not related:\n"
          ],
          "name": "stdout"
        },
        {
          "output_type": "display_data",
          "data": {
            "text/plain": [
              "array([[ 7.3,  7.6,  8.2],\n",
              "       [ 9.2,  9.5, 10.3],\n",
              "       [ 7.6,  7.9,  8.5]])"
            ]
          },
          "metadata": {
            "tags": []
          }
        },
        {
          "output_type": "stream",
          "text": [
            "Calculated P value: 0.005408290803578588\n"
          ],
          "name": "stdout"
        }
      ]
    },
    {
      "cell_type": "markdown",
      "metadata": {
        "id": "p9k9MdN3yS4Z",
        "colab_type": "text"
      },
      "source": [
        "Here we can see that the expected values are far off from the observed data. Moreover, there are only 0.5% chance to observe such data if audience group has nothing to do with advertisement type. Hene, we rejected the null hypothesis in favor of the alternative hypothesis, i.e. the audience group has preference on their ad type. \n",
        "\n",
        "But how strong is this association? We can use Cramer's V to check its strength, where 0 means no association, and 1 is perfect. "
      ]
    },
    {
      "cell_type": "code",
      "metadata": {
        "id": "OniHoPVSyJfb",
        "colab_type": "code",
        "outputId": "e6cdcfac-7968-4114-832b-9d3e936d59a8",
        "colab": {
          "base_uri": "https://localhost:8080/",
          "height": 35
        }
      },
      "source": [
        "n=data.sum().sum() #the total number of observation\n",
        "m=min(data.shape)-1 #either the number of rows or columns whichever the smallest - 1\n",
        "cramerV=np.sqrt(c_stat/(n*m))\n",
        "print(cramerV)"
      ],
      "execution_count": 0,
      "outputs": [
        {
          "output_type": "stream",
          "text": [
            "0.3107928316933293\n"
          ],
          "name": "stdout"
        }
      ]
    },
    {
      "cell_type": "markdown",
      "metadata": {
        "id": "FkSjU7sp2PPU",
        "colab_type": "text"
      },
      "source": [
        "Cramers V is about 0.31, which is pretty modest.\n",
        "\n",
        "But which ads is preferred or least preferred by each audience group? We can use standard residusals to see where there is the most deviation from the expected values.\n",
        "\n",
        "To standardise our residuals we need to divide each residual value by its standard error. We can directly get this value by using statsmodel api."
      ]
    },
    {
      "cell_type": "code",
      "metadata": {
        "id": "N1oDjes5zFdT",
        "colab_type": "code",
        "outputId": "6884a9a5-0e9f-4e93-9458-8d9b5427de64",
        "colab": {
          "base_uri": "https://localhost:8080/",
          "height": 138
        }
      },
      "source": [
        "import statsmodels.api as sm\n",
        "# need to make a contingency table format\n",
        "table = sm.stats.Table(data)\n",
        "\n",
        "#standardized residuals\n",
        "table.standardized_resids"
      ],
      "execution_count": 0,
      "outputs": [
        {
          "output_type": "execute_result",
          "data": {
            "text/html": [
              "<div>\n",
              "<style scoped>\n",
              "    .dataframe tbody tr th:only-of-type {\n",
              "        vertical-align: middle;\n",
              "    }\n",
              "\n",
              "    .dataframe tbody tr th {\n",
              "        vertical-align: top;\n",
              "    }\n",
              "\n",
              "    .dataframe thead th {\n",
              "        text-align: right;\n",
              "    }\n",
              "</style>\n",
              "<table border=\"1\" class=\"dataframe\">\n",
              "  <thead>\n",
              "    <tr style=\"text-align: right;\">\n",
              "      <th></th>\n",
              "      <th>Party</th>\n",
              "      <th>Child</th>\n",
              "      <th>Office</th>\n",
              "    </tr>\n",
              "  </thead>\n",
              "  <tbody>\n",
              "    <tr>\n",
              "      <th>Student</th>\n",
              "      <td>2.544487</td>\n",
              "      <td>-1.363592</td>\n",
              "      <td>-1.132685</td>\n",
              "    </tr>\n",
              "    <tr>\n",
              "      <th>Parent</th>\n",
              "      <td>-1.096214</td>\n",
              "      <td>2.744428</td>\n",
              "      <td>-1.629494</td>\n",
              "    </tr>\n",
              "    <tr>\n",
              "      <th>Corporate</th>\n",
              "      <td>-1.369141</td>\n",
              "      <td>-1.520432</td>\n",
              "      <td>2.822363</td>\n",
              "    </tr>\n",
              "  </tbody>\n",
              "</table>\n",
              "</div>"
            ],
            "text/plain": [
              "              Party     Child    Office\n",
              "Student    2.544487 -1.363592 -1.132685\n",
              "Parent    -1.096214  2.744428 -1.629494\n",
              "Corporate -1.369141 -1.520432  2.822363"
            ]
          },
          "metadata": {
            "tags": []
          },
          "execution_count": 7
        }
      ]
    },
    {
      "cell_type": "markdown",
      "metadata": {
        "id": "boDl3J583zLO",
        "colab_type": "text"
      },
      "source": [
        "From this you can see that the biggest values are for the student + party cell, parent + child cell and the corporate + office cell."
      ]
    },
    {
      "cell_type": "markdown",
      "metadata": {
        "id": "7AwBkp2M0I0a",
        "colab_type": "text"
      },
      "source": [
        "## Chi-square goodness of fit"
      ]
    },
    {
      "cell_type": "markdown",
      "metadata": {
        "id": "LqcsKxlO0L7A",
        "colab_type": "text"
      },
      "source": [
        "Your null hypothesis is that 60% of college students go to parties regularly, 30% go occaisionally and 10% never go. You want to test if your observed data matched this proportions. The solution of this question will be very similar to the above question. The difference will be you will need to calculate the expected counts based on the expected proportions listed in null hypothesis."
      ]
    },
    {
      "cell_type": "code",
      "metadata": {
        "id": "U4tuxsB41UIY",
        "colab_type": "code",
        "outputId": "6d8db75e-cc84-4d97-9d62-f76cde45f947",
        "colab": {
          "base_uri": "https://localhost:8080/",
          "height": 108
        }
      },
      "source": [
        "exp_p=np.array([0.6, 0.3, 0.1]) #expected proportions\n",
        "exp_count=data.loc['Student'].sum()*exp_p\n",
        "display(pd.DataFrame([exp_count, data.loc['Student']], index=['expected', 'observed'], columns=data.columns))\n"
      ],
      "execution_count": 0,
      "outputs": [
        {
          "output_type": "display_data",
          "data": {
            "text/html": [
              "<div>\n",
              "<style scoped>\n",
              "    .dataframe tbody tr th:only-of-type {\n",
              "        vertical-align: middle;\n",
              "    }\n",
              "\n",
              "    .dataframe tbody tr th {\n",
              "        vertical-align: top;\n",
              "    }\n",
              "\n",
              "    .dataframe thead th {\n",
              "        text-align: right;\n",
              "    }\n",
              "</style>\n",
              "<table border=\"1\" class=\"dataframe\">\n",
              "  <thead>\n",
              "    <tr style=\"text-align: right;\">\n",
              "      <th></th>\n",
              "      <th>Party</th>\n",
              "      <th>Child</th>\n",
              "      <th>Office</th>\n",
              "    </tr>\n",
              "  </thead>\n",
              "  <tbody>\n",
              "    <tr>\n",
              "      <th>expected</th>\n",
              "      <td>13.8</td>\n",
              "      <td>6.9</td>\n",
              "      <td>2.3</td>\n",
              "    </tr>\n",
              "    <tr>\n",
              "      <th>observed</th>\n",
              "      <td>12.0</td>\n",
              "      <td>5.0</td>\n",
              "      <td>6.0</td>\n",
              "    </tr>\n",
              "  </tbody>\n",
              "</table>\n",
              "</div>"
            ],
            "text/plain": [
              "          Party  Child  Office\n",
              "expected   13.8    6.9     2.3\n",
              "observed   12.0    5.0     6.0"
            ]
          },
          "metadata": {
            "tags": []
          }
        }
      ]
    },
    {
      "cell_type": "markdown",
      "metadata": {
        "id": "9YcezOua1ZpX",
        "colab_type": "text"
      },
      "source": [
        "We can see that `Office` group deviates the most from expected values. We will be using [chisqure](https://docs.scipy.org/doc/scipy/reference/generated/scipy.stats.chisquare.html) to get test statistic and p value."
      ]
    },
    {
      "cell_type": "code",
      "metadata": {
        "id": "8ErVW0vT0_G1",
        "colab_type": "code",
        "outputId": "81be48e5-6ae9-4828-e262-9ad2fdb934d5",
        "colab": {
          "base_uri": "https://localhost:8080/",
          "height": 54
        }
      },
      "source": [
        "from scipy.stats import chisquare\n",
        "c_stat, pval = chisquare(data.loc['Student'], f_exp=exp_count)\n",
        "print(f'chi square: {c_stat:.4f}\\n p value: {pval:.4f}')"
      ],
      "execution_count": 0,
      "outputs": [
        {
          "output_type": "stream",
          "text": [
            "chi square: 6.7101\n",
            " p value: 0.0349\n"
          ],
          "name": "stdout"
        }
      ]
    },
    {
      "cell_type": "markdown",
      "metadata": {
        "id": "0QYEmycp3Qhx",
        "colab_type": "text"
      },
      "source": [
        "As the calculated p value is smaller than 0.05 significance level, we rejected the null hypothesis. It means college students in our sample differed from the expected distribution."
      ]
    },
    {
      "cell_type": "markdown",
      "metadata": {
        "id": "HCKEvc-N4FP0",
        "colab_type": "text"
      },
      "source": [
        "## Fisher's Exact Test"
      ]
    },
    {
      "cell_type": "markdown",
      "metadata": {
        "id": "CUGpufao6Sh4",
        "colab_type": "text"
      },
      "source": [
        "One of the assumption for chi-squre test is the minimum count in each cell is 5. When this assumption is not met, we can use Fisher's Exact Test to check two categorical variables' association.\n",
        "\n",
        "Fisher's exact test compares the observed values to a probability distribution. We find this comparison distribution by examining all possible rearrangements of our table. The restrictions are that the marginal frequencies must be the same.\n",
        "\n",
        "> Example\n",
        "<br>You had expected that parents would like the ad with a child in it because you thought that people with children like children more.\n",
        "To investigate this further, you took a sample of 15 adults, asked them whether or not they have children, and whether or not they like children. The results are saved in your console as a 2x2 table named child.\n",
        "\n",
        "We can perform Fisher's exact test using the function [fisher_exact](https://docs.scipy.org/doc/scipy/reference/generated/scipy.stats.fisher_exact.html).\n",
        "\n",
        "> Null Hpothesis:\n",
        "<br> $H_0$: The two variables are independent."
      ]
    },
    {
      "cell_type": "code",
      "metadata": {
        "id": "vFBZOXH11oTN",
        "colab_type": "code",
        "outputId": "d995666d-cd5c-4bd7-e8de-86cda2a5079d",
        "colab": {
          "base_uri": "https://localhost:8080/",
          "height": 108
        }
      },
      "source": [
        "child = pd.DataFrame(np.array([[7, 10], [1, 9]]), columns=['like', 'dislike'], index=['children', 'nochildren'])\n",
        "display(child)"
      ],
      "execution_count": 0,
      "outputs": [
        {
          "output_type": "display_data",
          "data": {
            "text/html": [
              "<div>\n",
              "<style scoped>\n",
              "    .dataframe tbody tr th:only-of-type {\n",
              "        vertical-align: middle;\n",
              "    }\n",
              "\n",
              "    .dataframe tbody tr th {\n",
              "        vertical-align: top;\n",
              "    }\n",
              "\n",
              "    .dataframe thead th {\n",
              "        text-align: right;\n",
              "    }\n",
              "</style>\n",
              "<table border=\"1\" class=\"dataframe\">\n",
              "  <thead>\n",
              "    <tr style=\"text-align: right;\">\n",
              "      <th></th>\n",
              "      <th>like</th>\n",
              "      <th>dislike</th>\n",
              "    </tr>\n",
              "  </thead>\n",
              "  <tbody>\n",
              "    <tr>\n",
              "      <th>children</th>\n",
              "      <td>7</td>\n",
              "      <td>10</td>\n",
              "    </tr>\n",
              "    <tr>\n",
              "      <th>nochildren</th>\n",
              "      <td>1</td>\n",
              "      <td>9</td>\n",
              "    </tr>\n",
              "  </tbody>\n",
              "</table>\n",
              "</div>"
            ],
            "text/plain": [
              "            like  dislike\n",
              "children       7       10\n",
              "nochildren     1        9"
            ]
          },
          "metadata": {
            "tags": []
          }
        }
      ]
    },
    {
      "cell_type": "code",
      "metadata": {
        "id": "z8SyvEPI60PG",
        "colab_type": "code",
        "outputId": "bd6918b6-121c-4cd1-86c7-79ea177d52e8",
        "colab": {
          "base_uri": "https://localhost:8080/",
          "height": 54
        }
      },
      "source": [
        "from scipy.stats import fisher_exact\n",
        "odds_ratio, pval = fisher_exact(child, alternative='two-sided')\n",
        "print(f'Odds ratio: {odds_ratio:.4f}\\n p value: {pval:.4f}')"
      ],
      "execution_count": 0,
      "outputs": [
        {
          "output_type": "stream",
          "text": [
            "Odds ratio: 6.3000\n",
            " p value: 0.1895\n"
          ],
          "name": "stdout"
        }
      ]
    },
    {
      "cell_type": "markdown",
      "metadata": {
        "id": "qepx_BCm9D6H",
        "colab_type": "text"
      },
      "source": [
        "The probability that we would observe this or an even more imbalanced ratio by chance is about 18.95%. Using significance level at 5%, we cannot conclude that our observed imbalance is statistically significant; \n",
        "there is probably not an association between having children and liking them."
      ]
    }
  ]
}