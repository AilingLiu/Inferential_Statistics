{
  "nbformat": 4,
  "nbformat_minor": 0,
  "metadata": {
    "colab": {
      "name": "ANOVA.ipynb",
      "provenance": [],
      "collapsed_sections": [
        "UQphZ4G5p9O9"
      ],
      "authorship_tag": "ABX9TyMTTCYWedGGjQvnEPvt+3Qh",
      "include_colab_link": true
    },
    "kernelspec": {
      "name": "python3",
      "display_name": "Python 3"
    }
  },
  "cells": [
    {
      "cell_type": "markdown",
      "metadata": {
        "id": "view-in-github",
        "colab_type": "text"
      },
      "source": [
        "<a href=\"https://colab.research.google.com/github/AilingLiu/Inferential_Statistics/blob/master/ANOVA.ipynb\" target=\"_parent\"><img src=\"https://colab.research.google.com/assets/colab-badge.svg\" alt=\"Open In Colab\"/></a>"
      ]
    },
    {
      "cell_type": "code",
      "metadata": {
        "id": "PfotWhBJGTn7",
        "colab_type": "code",
        "colab": {}
      },
      "source": [
        "import numpy as np\n",
        "import pandas as pd\n",
        "import seaborn as sns\n",
        "import scipy.stats as st\n",
        "import statsmodels.api as sm\n",
        "import statsmodels.formula.api as smf"
      ],
      "execution_count": 0,
      "outputs": []
    },
    {
      "cell_type": "markdown",
      "metadata": {
        "id": "MOrPonAdsmzt",
        "colab_type": "text"
      },
      "source": [
        "# Quantitative associations: ANOVA"
      ]
    },
    {
      "cell_type": "markdown",
      "metadata": {
        "id": "gy10psmuN3Nk",
        "colab_type": "text"
      },
      "source": [
        "## One way anova"
      ]
    },
    {
      "cell_type": "markdown",
      "metadata": {
        "id": "Q0gb5L6VMcY5",
        "colab_type": "text"
      },
      "source": [
        "An analysis of variance or ANOVA allows the comparison of several means of several groups. An ANOVA is often used when you deal with more than 2 groups. It uses F statistic to evaluate the variability between groups relative to the variability within groups.\n",
        "\n",
        "> Example\n",
        "<br>We are interested in the sepal length in different species in `iris` dataset. \n",
        "\n",
        "> Null Hypothesis\n",
        "<br>$H_o$: the average sepal length is the same among different species"
      ]
    },
    {
      "cell_type": "code",
      "metadata": {
        "id": "McprBeKRQRT-",
        "colab_type": "code",
        "outputId": "20ba89db-41d0-42b3-c037-aa04730b24a1",
        "colab": {
          "base_uri": "https://localhost:8080/",
          "height": 198
        }
      },
      "source": [
        "import seaborn as sns\n",
        "iris = sns.load_dataset('iris')\n",
        "iris.head()"
      ],
      "execution_count": 19,
      "outputs": [
        {
          "output_type": "execute_result",
          "data": {
            "text/html": [
              "<div>\n",
              "<style scoped>\n",
              "    .dataframe tbody tr th:only-of-type {\n",
              "        vertical-align: middle;\n",
              "    }\n",
              "\n",
              "    .dataframe tbody tr th {\n",
              "        vertical-align: top;\n",
              "    }\n",
              "\n",
              "    .dataframe thead th {\n",
              "        text-align: right;\n",
              "    }\n",
              "</style>\n",
              "<table border=\"1\" class=\"dataframe\">\n",
              "  <thead>\n",
              "    <tr style=\"text-align: right;\">\n",
              "      <th></th>\n",
              "      <th>sepal_length</th>\n",
              "      <th>sepal_width</th>\n",
              "      <th>petal_length</th>\n",
              "      <th>petal_width</th>\n",
              "      <th>species</th>\n",
              "    </tr>\n",
              "  </thead>\n",
              "  <tbody>\n",
              "    <tr>\n",
              "      <th>0</th>\n",
              "      <td>5.1</td>\n",
              "      <td>3.5</td>\n",
              "      <td>1.4</td>\n",
              "      <td>0.2</td>\n",
              "      <td>setosa</td>\n",
              "    </tr>\n",
              "    <tr>\n",
              "      <th>1</th>\n",
              "      <td>4.9</td>\n",
              "      <td>3.0</td>\n",
              "      <td>1.4</td>\n",
              "      <td>0.2</td>\n",
              "      <td>setosa</td>\n",
              "    </tr>\n",
              "    <tr>\n",
              "      <th>2</th>\n",
              "      <td>4.7</td>\n",
              "      <td>3.2</td>\n",
              "      <td>1.3</td>\n",
              "      <td>0.2</td>\n",
              "      <td>setosa</td>\n",
              "    </tr>\n",
              "    <tr>\n",
              "      <th>3</th>\n",
              "      <td>4.6</td>\n",
              "      <td>3.1</td>\n",
              "      <td>1.5</td>\n",
              "      <td>0.2</td>\n",
              "      <td>setosa</td>\n",
              "    </tr>\n",
              "    <tr>\n",
              "      <th>4</th>\n",
              "      <td>5.0</td>\n",
              "      <td>3.6</td>\n",
              "      <td>1.4</td>\n",
              "      <td>0.2</td>\n",
              "      <td>setosa</td>\n",
              "    </tr>\n",
              "  </tbody>\n",
              "</table>\n",
              "</div>"
            ],
            "text/plain": [
              "   sepal_length  sepal_width  petal_length  petal_width species\n",
              "0           5.1          3.5           1.4          0.2  setosa\n",
              "1           4.9          3.0           1.4          0.2  setosa\n",
              "2           4.7          3.2           1.3          0.2  setosa\n",
              "3           4.6          3.1           1.5          0.2  setosa\n",
              "4           5.0          3.6           1.4          0.2  setosa"
            ]
          },
          "metadata": {
            "tags": []
          },
          "execution_count": 19
        }
      ]
    },
    {
      "cell_type": "code",
      "metadata": {
        "id": "bhw1-QXXQUR3",
        "colab_type": "code",
        "outputId": "0add9935-b329-4907-9170-d3701ff1b3b7",
        "colab": {
          "base_uri": "https://localhost:8080/",
          "height": 640
        }
      },
      "source": [
        "import matplotlib.pyplot as plt\n",
        "\n",
        "f, axes = plt.subplots(2, 2, figsize=(10, 10), sharex=True)\n",
        "sns.distplot(iris[\"sepal_length\"] , color=\"teal\", bins=np.linspace(4,8,9), ax=axes[0, 0])\n",
        "axes[0, 0].set(title='iris sepal length')\n",
        "sns.distplot(iris[\"sepal_length\"][iris.species=='setosa'] , color=\"skyblue\", ax=axes[0, 1])\n",
        "axes[0, 1].set(title='setosa sepal length')\n",
        "sns.distplot(iris[\"sepal_length\"][iris.species=='versicolor'] , color=\"olive\", ax=axes[1, 0])\n",
        "axes[1, 0].set(title='versicolor sepal length')\n",
        "sns.distplot(iris[\"sepal_length\"][iris.species=='virginica'] , color=\"gold\", ax=axes[1, 1])\n",
        "axes[1, 1].set(title='virginica sepal length')"
      ],
      "execution_count": 0,
      "outputs": [
        {
          "output_type": "execute_result",
          "data": {
            "text/plain": [
              "[Text(0.5, 1.0, 'virginica sepal length')]"
            ]
          },
          "metadata": {
            "tags": []
          },
          "execution_count": 26
        },
        {
          "output_type": "display_data",
          "data": {
            "image/png": "[encoded data removed]",
            "text/plain": [
              "<Figure size 720x720 with 4 Axes>"
            ]
          },
          "metadata": {
            "tags": []
          }
        }
      ]
    },
    {
      "cell_type": "code",
      "metadata": {
        "id": "CVxN79y4QfeE",
        "colab_type": "code",
        "outputId": "10418da7-c524-4939-f5b2-7085f2cb1b90",
        "colab": {
          "base_uri": "https://localhost:8080/",
          "height": 168
        }
      },
      "source": [
        "#check the summary of each species\n",
        "gb = iris.groupby(['species'])['sepal_length'].describe()\n",
        "gb"
      ],
      "execution_count": 20,
      "outputs": [
        {
          "output_type": "execute_result",
          "data": {
            "text/html": [
              "<div>\n",
              "<style scoped>\n",
              "    .dataframe tbody tr th:only-of-type {\n",
              "        vertical-align: middle;\n",
              "    }\n",
              "\n",
              "    .dataframe tbody tr th {\n",
              "        vertical-align: top;\n",
              "    }\n",
              "\n",
              "    .dataframe thead th {\n",
              "        text-align: right;\n",
              "    }\n",
              "</style>\n",
              "<table border=\"1\" class=\"dataframe\">\n",
              "  <thead>\n",
              "    <tr style=\"text-align: right;\">\n",
              "      <th></th>\n",
              "      <th>count</th>\n",
              "      <th>mean</th>\n",
              "      <th>std</th>\n",
              "      <th>min</th>\n",
              "      <th>25%</th>\n",
              "      <th>50%</th>\n",
              "      <th>75%</th>\n",
              "      <th>max</th>\n",
              "    </tr>\n",
              "    <tr>\n",
              "      <th>species</th>\n",
              "      <th></th>\n",
              "      <th></th>\n",
              "      <th></th>\n",
              "      <th></th>\n",
              "      <th></th>\n",
              "      <th></th>\n",
              "      <th></th>\n",
              "      <th></th>\n",
              "    </tr>\n",
              "  </thead>\n",
              "  <tbody>\n",
              "    <tr>\n",
              "      <th>setosa</th>\n",
              "      <td>50.0</td>\n",
              "      <td>5.006</td>\n",
              "      <td>0.352490</td>\n",
              "      <td>4.3</td>\n",
              "      <td>4.800</td>\n",
              "      <td>5.0</td>\n",
              "      <td>5.2</td>\n",
              "      <td>5.8</td>\n",
              "    </tr>\n",
              "    <tr>\n",
              "      <th>versicolor</th>\n",
              "      <td>50.0</td>\n",
              "      <td>5.936</td>\n",
              "      <td>0.516171</td>\n",
              "      <td>4.9</td>\n",
              "      <td>5.600</td>\n",
              "      <td>5.9</td>\n",
              "      <td>6.3</td>\n",
              "      <td>7.0</td>\n",
              "    </tr>\n",
              "    <tr>\n",
              "      <th>virginica</th>\n",
              "      <td>50.0</td>\n",
              "      <td>6.588</td>\n",
              "      <td>0.635880</td>\n",
              "      <td>4.9</td>\n",
              "      <td>6.225</td>\n",
              "      <td>6.5</td>\n",
              "      <td>6.9</td>\n",
              "      <td>7.9</td>\n",
              "    </tr>\n",
              "  </tbody>\n",
              "</table>\n",
              "</div>"
            ],
            "text/plain": [
              "            count   mean       std  min    25%  50%  75%  max\n",
              "species                                                      \n",
              "setosa       50.0  5.006  0.352490  4.3  4.800  5.0  5.2  5.8\n",
              "versicolor   50.0  5.936  0.516171  4.9  5.600  5.9  6.3  7.0\n",
              "virginica    50.0  6.588  0.635880  4.9  6.225  6.5  6.9  7.9"
            ]
          },
          "metadata": {
            "tags": []
          },
          "execution_count": 20
        }
      ]
    },
    {
      "cell_type": "markdown",
      "metadata": {
        "id": "Q7kRPFdWXw29",
        "colab_type": "text"
      },
      "source": [
        "From the summary table, each species have different average sepal length. The gives first impression that the our null hypothesis is not right. We will check the significance to validate our assumption.\n",
        "\n",
        "We also need to check if the group size is equal in each species to determine the formulas of calculating within gorup variances. Here the group size is equal."
      ]
    },
    {
      "cell_type": "code",
      "metadata": {
        "id": "SSWYXETtXhHM",
        "colab_type": "code",
        "outputId": "9f31d3b7-7a4a-499c-b354-268ba8136f34",
        "colab": {
          "base_uri": "https://localhost:8080/",
          "height": 35
        }
      },
      "source": [
        "g = 3 #number of group\n",
        "n = 50 #number of size of individual group\n",
        "grandmean = iris.sepal_length.mean()\n",
        "\n",
        "mswithin = sum(gb['std']**2)/g\n",
        "msbetween = sum(n*(gb['mean']-grandmean)**2)/(g-1)\n",
        "Fstat=msbetween/mswithin\n",
        "pval = 1-st.f.cdf(Fstat, (g-1), (n*g-g))\n",
        "\n",
        "print(f'The F statistics is {Fstat:.4f} and P value is {pval:.4f}')"
      ],
      "execution_count": 21,
      "outputs": [
        {
          "output_type": "stream",
          "text": [
            "The F statistics is 119.2645 and P value is 0.0000\n"
          ],
          "name": "stdout"
        }
      ]
    },
    {
      "cell_type": "markdown",
      "metadata": {
        "id": "37P4yegpdilr",
        "colab_type": "text"
      },
      "source": [
        "Here our p value is close to 0. The chances that we will obtain this data under null hypothesis is extremely low. This means that there is a difference in sepal length for the different species. However, we don't know yet which species differ significantly.\n",
        "\n",
        "In statsmodels, we can conduct anova test using [anova_lm](https://www.statsmodels.org/stable/generated/statsmodels.stats.anova.anova_lm.html) function. Before that, we will need to build a multiple regression model using ols function. In fact, multiple regression and analysis of variance are technically the same. In the anoval_lm function, you need to specify the type of anova. You can check details [here](https://stackoverflow.com/questions/55175274/uses-of-typ-in-anova-lm). After the test, we can use the summary function from ols object to evaluate each parameter's significance and the model significance."
      ]
    },
    {
      "cell_type": "code",
      "metadata": {
        "id": "e6Qq9STbcTI6",
        "colab_type": "code",
        "outputId": "461d531d-11c9-41bf-9d0c-0aa16a26d181",
        "colab": {
          "base_uri": "https://localhost:8080/",
          "height": 108
        }
      },
      "source": [
        "iris_ols=smf.ols('sepal_length ~ C(species)', data=iris).fit() #Specify C for Categorical\n",
        "test_result = sm.stats.anova_lm(iris_ols, typ=2)\n",
        "test_result"
      ],
      "execution_count": 25,
      "outputs": [
        {
          "output_type": "execute_result",
          "data": {
            "text/html": [
              "<div>\n",
              "<style scoped>\n",
              "    .dataframe tbody tr th:only-of-type {\n",
              "        vertical-align: middle;\n",
              "    }\n",
              "\n",
              "    .dataframe tbody tr th {\n",
              "        vertical-align: top;\n",
              "    }\n",
              "\n",
              "    .dataframe thead th {\n",
              "        text-align: right;\n",
              "    }\n",
              "</style>\n",
              "<table border=\"1\" class=\"dataframe\">\n",
              "  <thead>\n",
              "    <tr style=\"text-align: right;\">\n",
              "      <th></th>\n",
              "      <th>sum_sq</th>\n",
              "      <th>df</th>\n",
              "      <th>F</th>\n",
              "      <th>PR(&gt;F)</th>\n",
              "    </tr>\n",
              "  </thead>\n",
              "  <tbody>\n",
              "    <tr>\n",
              "      <th>C(species)</th>\n",
              "      <td>63.212133</td>\n",
              "      <td>2.0</td>\n",
              "      <td>119.264502</td>\n",
              "      <td>1.669669e-31</td>\n",
              "    </tr>\n",
              "    <tr>\n",
              "      <th>Residual</th>\n",
              "      <td>38.956200</td>\n",
              "      <td>147.0</td>\n",
              "      <td>NaN</td>\n",
              "      <td>NaN</td>\n",
              "    </tr>\n",
              "  </tbody>\n",
              "</table>\n",
              "</div>"
            ],
            "text/plain": [
              "               sum_sq     df           F        PR(>F)\n",
              "C(species)  63.212133    2.0  119.264502  1.669669e-31\n",
              "Residual    38.956200  147.0         NaN           NaN"
            ]
          },
          "metadata": {
            "tags": []
          },
          "execution_count": 25
        }
      ]
    },
    {
      "cell_type": "code",
      "metadata": {
        "id": "nbeP6PSFj1Ly",
        "colab_type": "code",
        "outputId": "af356eb3-ca3c-4d9a-d402-8ea8b49ebcb3",
        "colab": {
          "base_uri": "https://localhost:8080/",
          "height": 490
        }
      },
      "source": [
        "print(iris_ols.summary())"
      ],
      "execution_count": 0,
      "outputs": [
        {
          "output_type": "stream",
          "text": [
            "                            OLS Regression Results                            \n",
            "==============================================================================\n",
            "Dep. Variable:           sepal_length   R-squared:                       0.619\n",
            "Model:                            OLS   Adj. R-squared:                  0.614\n",
            "Method:                 Least Squares   F-statistic:                     119.3\n",
            "Date:                Fri, 14 Feb 2020   Prob (F-statistic):           1.67e-31\n",
            "Time:                        16:37:02   Log-Likelihood:                -111.73\n",
            "No. Observations:                 150   AIC:                             229.5\n",
            "Df Residuals:                     147   BIC:                             238.5\n",
            "Df Model:                           2                                         \n",
            "Covariance Type:            nonrobust                                         \n",
            "============================================================================================\n",
            "                               coef    std err          t      P>|t|      [0.025      0.975]\n",
            "--------------------------------------------------------------------------------------------\n",
            "Intercept                    5.0060      0.073     68.762      0.000       4.862       5.150\n",
            "C(species)[T.versicolor]     0.9300      0.103      9.033      0.000       0.727       1.133\n",
            "C(species)[T.virginica]      1.5820      0.103     15.366      0.000       1.379       1.785\n",
            "==============================================================================\n",
            "Omnibus:                        1.188   Durbin-Watson:                   2.043\n",
            "Prob(Omnibus):                  0.552   Jarque-Bera (JB):                0.785\n",
            "Skew:                           0.119   Prob(JB):                        0.675\n",
            "Kurtosis:                       3.263   Cond. No.                         3.73\n",
            "==============================================================================\n",
            "\n",
            "Warnings:\n",
            "[1] Standard Errors assume that the covariance matrix of the errors is correctly specified.\n"
          ],
          "name": "stdout"
        }
      ]
    },
    {
      "cell_type": "markdown",
      "metadata": {
        "id": "KhqbL4DkjRdA",
        "colab_type": "text"
      },
      "source": [
        "## Assumptions checking anova\n",
        "\n",
        "1.  The population distribution for the dependent variable for each of the g groups need to be approximately normal. We can use [Shapiro Walk Test](https://en.wikipedia.org/wiki/Shapiro%E2%80%93Wilk_test) in python [shapiro](https://docs.scipy.org/doc/scipy/reference/generated/scipy.stats.shapiro.html) function.\n",
        "2.  Those distributions for each of the groups have the same standard deviation (homogeneity of variances). We can use [Barlett's Test](https://en.wikipedia.org/wiki/Bartlett%27s_test) in python [barlett](https://docs.scipy.org/doc/scipy-0.14.0/reference/generated/scipy.stats.bartlett.html) function.\n",
        "3. No correlation between the residual (error) terms. (aka. no autocorrelation)\n",
        "4. The data resulted from randomization"
      ]
    },
    {
      "cell_type": "code",
      "metadata": {
        "id": "2CJXTWbWHVfI",
        "colab_type": "code",
        "colab": {
          "base_uri": "https://localhost:8080/",
          "height": 297
        },
        "outputId": "7ecdc9d9-235a-4101-d2f1-e907f2c37b8b"
      },
      "source": [
        "import matplotlib.pyplot as plt\n",
        "res = iris_ols.resid \n",
        "fig =plt.figure(figsize=(5,4))\n",
        "ax = sm.qqplot(res, line='s')\n",
        "plt.show()"
      ],
      "execution_count": 29,
      "outputs": [
        {
          "output_type": "display_data",
          "data": {
            "text/plain": [
              "<Figure size 360x288 with 0 Axes>"
            ]
          },
          "metadata": {
            "tags": []
          }
        },
        {
          "output_type": "display_data",
          "data": {
            "image/png": "[encoded data removed]",
            "text/plain": [
              "<Figure size 432x288 with 1 Axes>"
            ]
          },
          "metadata": {
            "tags": []
          }
        }
      ]
    },
    {
      "cell_type": "code",
      "metadata": {
        "id": "X-Ri7K7iiv_P",
        "colab_type": "code",
        "outputId": "c27aa42a-9248-4716-e3b2-bc73318552cc",
        "colab": {
          "base_uri": "https://localhost:8080/",
          "height": 108
        }
      },
      "source": [
        "#normality test\n",
        "stat, p = st.shapiro(iris['sepal_length'])\n",
        "print('Normality Test: Statistics=%.3f, p=%.3f' % (stat, p))\n",
        "\n",
        "# interpret\n",
        "alpha = 0.05\n",
        "if p > alpha:\n",
        "\tprint('Sample looks Gaussian (fail to reject H0)')\n",
        "else:\n",
        "\tprint('Sample does not look Gaussian (reject H0)\\n')\n",
        " \n",
        "#homogeneity\n",
        "setosa = iris[\"sepal_length\"][iris.species=='setosa']\n",
        "versicolor = iris[\"sepal_length\"][iris.species=='versicolor']\n",
        "virginica = iris[\"sepal_length\"][iris.species=='virginica']\n",
        "stat, p = st.bartlett(setosa, versicolor, virginica)\n",
        "print('Homogeneity Test: Statistics=%.3f, p=%.3f' % (stat, p))\n",
        "\n",
        "# interpret\n",
        "alpha = 0.05\n",
        "if p > alpha:\n",
        "\tprint('Sample has the same variances (fail to reject H0)')\n",
        "else:\n",
        "\tprint('Sample does not have the same variances (reject H0)')\n"
      ],
      "execution_count": 30,
      "outputs": [
        {
          "output_type": "stream",
          "text": [
            "Normality Test: Statistics=0.976, p=0.010\n",
            "Sample does not look Gaussian (reject H0)\n",
            "\n",
            "Homogeneity Test: Statistics=16.006, p=0.000\n",
            "Sample does not have the same variances (reject H0)\n"
          ],
          "name": "stdout"
        }
      ]
    },
    {
      "cell_type": "markdown",
      "metadata": {
        "id": "q-jBAAnOleJA",
        "colab_type": "text"
      },
      "source": [
        "From the plots, there is an outlier that deviate from the straight line. Other than that, the residuals are clustered along with the straight line. The shapiro normality test concludes p=0.1, which does not meet assumption at 0.05 significance level. Homogeneity of variance are not met either. We can clean up the data and rerun the test again. Otherwise, we should use non parametric test instead of anova test. We will cover it in another notebook. Our purpose here is to learn how to conduct the anova test in python. \n",
        "\n",
        "Another way to check the assumption is to read the summary statistics directly from the ols summary table. The [Durban-Watson tests](https://www.investopedia.com/terms/d/durbin-watson-statistic.asp) is to detect the presence of autocorrelation, [Jarque-Bera tests](https://www.statisticshowto.datasciencecentral.com/jarque-bera-test/) the assumption of normality, Omnibus tests the assumption of homogeneity of variance, and the Condition Number assess multicollinearity. Condition Number values over 20 are indicative of multicollinearity. The model does not pass the assumption check of homogeneity, normality as tested before. [More details Here](https://www.accelebrate.com/blog/interpreting-results-from-linear-regression-is-the-data-appropriate)."
      ]
    },
    {
      "cell_type": "markdown",
      "metadata": {
        "id": "UQphZ4G5p9O9",
        "colab_type": "text"
      },
      "source": [
        "## Post hoc analysis"
      ]
    },
    {
      "cell_type": "markdown",
      "metadata": {
        "id": "utWE04I4rnL4",
        "colab_type": "text"
      },
      "source": [
        "There are multiple way to do the post hoc analysis. One of it is the bonferroni correction post hoc comparison where the family-wise error rate is less than or equal to the initial overall significance rate. But this method could be overly conservative. Another one is TukeyHSD post hoc test, where the family-wise error rate is similar to the overal significance rate. This test generally has a narrower confidence interval."
      ]
    },
    {
      "cell_type": "code",
      "metadata": {
        "id": "_TJWskJelQhz",
        "colab_type": "code",
        "outputId": "2b684688-cfa0-45a3-c52d-baeeb58a3475",
        "colab": {
          "base_uri": "https://localhost:8080/",
          "height": 163
        }
      },
      "source": [
        "from statsmodels.stats.multicomp import MultiComparison\n",
        "\n",
        "mc = MultiComparison(iris['sepal_length'], iris['species'])\n",
        "mc_results = mc.tukeyhsd()\n",
        "print(mc_results)"
      ],
      "execution_count": 0,
      "outputs": [
        {
          "output_type": "stream",
          "text": [
            "   Multiple Comparison of Means - Tukey HSD, FWER=0.05   \n",
            "=========================================================\n",
            "  group1     group2   meandiff p-adj lower  upper  reject\n",
            "---------------------------------------------------------\n",
            "    setosa versicolor     0.93 0.001 0.6862 1.1738   True\n",
            "    setosa  virginica    1.582 0.001 1.3382 1.8258   True\n",
            "versicolor  virginica    0.652 0.001 0.4082 0.8958   True\n",
            "---------------------------------------------------------\n"
          ],
          "name": "stdout"
        }
      ]
    },
    {
      "cell_type": "markdown",
      "metadata": {
        "id": "XyHxEKjgswHa",
        "colab_type": "text"
      },
      "source": [
        "From the difference, we can see that $\\mu_{versicolor}-\\mu_{setosa}=0.93$ and $\\mu_{setosa} - \\mu_{virginica}=1.582$.\n",
        "The `meandiff` in these two comparisons correspond to the multiple regression coefficients we just did. The species `setosa` is a reference group integrated in intercept in the regression model. More details you can review the course.\n",
        "\n"
      ]
    },
    {
      "cell_type": "markdown",
      "metadata": {
        "id": "x3pLDLyYuY7n",
        "colab_type": "text"
      },
      "source": [
        "## Two way anova"
      ]
    },
    {
      "cell_type": "markdown",
      "metadata": {
        "id": "2fIXQ0ukOCdq",
        "colab_type": "text"
      },
      "source": [
        "A two-way anova is used when you want to compare multiple groups across multiple independent variables. In below example, we used the `tips` dataset from seaborn. We will be using two categorical variables `gender`, `smoker` to see how it affect the `total_bill` amount. We will narrow down to the orders for 2 people only to reduce variances among each example.\n",
        "\n",
        "**Null Hypothesis**\n",
        "*  Avereage total bill is the same across gender\n",
        "*  Average total bill is the same among smoker and non-smoker\n",
        "*  Gender and smoker are independent of each other"
      ]
    },
    {
      "cell_type": "code",
      "metadata": {
        "id": "v7wNjx4grYYb",
        "colab_type": "code",
        "colab": {
          "base_uri": "https://localhost:8080/",
          "height": 198
        },
        "outputId": "9845d482-e546-4e2c-d89c-6de4e1f68caa"
      },
      "source": [
        "tips = sns.load_dataset('tips')\n",
        "tips = tips[tips['size']==2]\n",
        "tips.head()"
      ],
      "execution_count": 2,
      "outputs": [
        {
          "output_type": "execute_result",
          "data": {
            "text/html": [
              "<div>\n",
              "<style scoped>\n",
              "    .dataframe tbody tr th:only-of-type {\n",
              "        vertical-align: middle;\n",
              "    }\n",
              "\n",
              "    .dataframe tbody tr th {\n",
              "        vertical-align: top;\n",
              "    }\n",
              "\n",
              "    .dataframe thead th {\n",
              "        text-align: right;\n",
              "    }\n",
              "</style>\n",
              "<table border=\"1\" class=\"dataframe\">\n",
              "  <thead>\n",
              "    <tr style=\"text-align: right;\">\n",
              "      <th></th>\n",
              "      <th>total_bill</th>\n",
              "      <th>tip</th>\n",
              "      <th>sex</th>\n",
              "      <th>smoker</th>\n",
              "      <th>day</th>\n",
              "      <th>time</th>\n",
              "      <th>size</th>\n",
              "    </tr>\n",
              "  </thead>\n",
              "  <tbody>\n",
              "    <tr>\n",
              "      <th>0</th>\n",
              "      <td>16.99</td>\n",
              "      <td>1.01</td>\n",
              "      <td>Female</td>\n",
              "      <td>No</td>\n",
              "      <td>Sun</td>\n",
              "      <td>Dinner</td>\n",
              "      <td>2</td>\n",
              "    </tr>\n",
              "    <tr>\n",
              "      <th>3</th>\n",
              "      <td>23.68</td>\n",
              "      <td>3.31</td>\n",
              "      <td>Male</td>\n",
              "      <td>No</td>\n",
              "      <td>Sun</td>\n",
              "      <td>Dinner</td>\n",
              "      <td>2</td>\n",
              "    </tr>\n",
              "    <tr>\n",
              "      <th>6</th>\n",
              "      <td>8.77</td>\n",
              "      <td>2.00</td>\n",
              "      <td>Male</td>\n",
              "      <td>No</td>\n",
              "      <td>Sun</td>\n",
              "      <td>Dinner</td>\n",
              "      <td>2</td>\n",
              "    </tr>\n",
              "    <tr>\n",
              "      <th>8</th>\n",
              "      <td>15.04</td>\n",
              "      <td>1.96</td>\n",
              "      <td>Male</td>\n",
              "      <td>No</td>\n",
              "      <td>Sun</td>\n",
              "      <td>Dinner</td>\n",
              "      <td>2</td>\n",
              "    </tr>\n",
              "    <tr>\n",
              "      <th>9</th>\n",
              "      <td>14.78</td>\n",
              "      <td>3.23</td>\n",
              "      <td>Male</td>\n",
              "      <td>No</td>\n",
              "      <td>Sun</td>\n",
              "      <td>Dinner</td>\n",
              "      <td>2</td>\n",
              "    </tr>\n",
              "  </tbody>\n",
              "</table>\n",
              "</div>"
            ],
            "text/plain": [
              "   total_bill   tip     sex smoker  day    time  size\n",
              "0       16.99  1.01  Female     No  Sun  Dinner     2\n",
              "3       23.68  3.31    Male     No  Sun  Dinner     2\n",
              "6        8.77  2.00    Male     No  Sun  Dinner     2\n",
              "8       15.04  1.96    Male     No  Sun  Dinner     2\n",
              "9       14.78  3.23    Male     No  Sun  Dinner     2"
            ]
          },
          "metadata": {
            "tags": []
          },
          "execution_count": 2
        }
      ]
    },
    {
      "cell_type": "code",
      "metadata": {
        "id": "qSH-hz6VQd14",
        "colab_type": "code",
        "colab": {
          "base_uri": "https://localhost:8080/",
          "height": 168
        },
        "outputId": "7edade31-9130-4445-a11b-7e18cacb8375"
      },
      "source": [
        "tips_ols=smf.ols('total_bill ~ C(sex)*C(smoker)', data=tips).fit() #This will also automatically include the main effects for each factor\n",
        "test_result = sm.stats.anova_lm(tips_ols, typ=2)\n",
        "test_result"
      ],
      "execution_count": 17,
      "outputs": [
        {
          "output_type": "execute_result",
          "data": {
            "text/html": [
              "<div>\n",
              "<style scoped>\n",
              "    .dataframe tbody tr th:only-of-type {\n",
              "        vertical-align: middle;\n",
              "    }\n",
              "\n",
              "    .dataframe tbody tr th {\n",
              "        vertical-align: top;\n",
              "    }\n",
              "\n",
              "    .dataframe thead th {\n",
              "        text-align: right;\n",
              "    }\n",
              "</style>\n",
              "<table border=\"1\" class=\"dataframe\">\n",
              "  <thead>\n",
              "    <tr style=\"text-align: right;\">\n",
              "      <th></th>\n",
              "      <th>sum_sq</th>\n",
              "      <th>df</th>\n",
              "      <th>F</th>\n",
              "      <th>PR(&gt;F)</th>\n",
              "    </tr>\n",
              "  </thead>\n",
              "  <tbody>\n",
              "    <tr>\n",
              "      <th>C(sex)</th>\n",
              "      <td>117.769349</td>\n",
              "      <td>1.0</td>\n",
              "      <td>3.463275</td>\n",
              "      <td>0.064678</td>\n",
              "    </tr>\n",
              "    <tr>\n",
              "      <th>C(smoker)</th>\n",
              "      <td>264.379778</td>\n",
              "      <td>1.0</td>\n",
              "      <td>7.774688</td>\n",
              "      <td>0.005976</td>\n",
              "    </tr>\n",
              "    <tr>\n",
              "      <th>C(sex):C(smoker)</th>\n",
              "      <td>115.008218</td>\n",
              "      <td>1.0</td>\n",
              "      <td>3.382078</td>\n",
              "      <td>0.067860</td>\n",
              "    </tr>\n",
              "    <tr>\n",
              "      <th>Residual</th>\n",
              "      <td>5168.789856</td>\n",
              "      <td>152.0</td>\n",
              "      <td>NaN</td>\n",
              "      <td>NaN</td>\n",
              "    </tr>\n",
              "  </tbody>\n",
              "</table>\n",
              "</div>"
            ],
            "text/plain": [
              "                       sum_sq     df         F    PR(>F)\n",
              "C(sex)             117.769349    1.0  3.463275  0.064678\n",
              "C(smoker)          264.379778    1.0  7.774688  0.005976\n",
              "C(sex):C(smoker)   115.008218    1.0  3.382078  0.067860\n",
              "Residual          5168.789856  152.0       NaN       NaN"
            ]
          },
          "metadata": {
            "tags": []
          },
          "execution_count": 17
        }
      ]
    },
    {
      "cell_type": "markdown",
      "metadata": {
        "id": "HxsAqY-zSl0D",
        "colab_type": "text"
      },
      "source": [
        "Assume we use 0.10 significance level, we have p value smaller than significance level for both somker and sex, which means, there is a difference in total bills across gender group and smoker group. \n",
        "\n",
        "The interaction term is significant. This indicates that there is interaction effect between the gender and whether they are smoker. \n",
        "\n",
        "If we have observd the interaction term not significant, it should be removed from the model and it needs to be re-ran so we can look at the main effects of each factor independently, as we did before, but changing the formula to `response~C(facotor1)+C(factor2)`"
      ]
    },
    {
      "cell_type": "code",
      "metadata": {
        "id": "28Y945o2SOro",
        "colab_type": "code",
        "colab": {
          "base_uri": "https://localhost:8080/",
          "height": 508
        },
        "outputId": "4e532d58-2314-43e6-d4c6-0b6149f078a9"
      },
      "source": [
        "print(tips_ols.summary())"
      ],
      "execution_count": 18,
      "outputs": [
        {
          "output_type": "stream",
          "text": [
            "                            OLS Regression Results                            \n",
            "==============================================================================\n",
            "Dep. Variable:             total_bill   R-squared:                       0.087\n",
            "Model:                            OLS   Adj. R-squared:                  0.069\n",
            "Method:                 Least Squares   F-statistic:                     4.831\n",
            "Date:                Sun, 16 Feb 2020   Prob (F-statistic):            0.00306\n",
            "Time:                        16:38:22   Log-Likelihood:                -494.40\n",
            "No. Observations:                 156   AIC:                             996.8\n",
            "Df Residuals:                     152   BIC:                             1009.\n",
            "Df Model:                           3                                         \n",
            "Covariance Type:            nonrobust                                         \n",
            "====================================================================================================\n",
            "                                       coef    std err          t      P>|t|      [0.025      0.975]\n",
            "----------------------------------------------------------------------------------------------------\n",
            "Intercept                           19.4176      0.911     21.321      0.000      17.618      21.217\n",
            "C(sex)[T.Female]                    -3.8592      1.480     -2.608      0.010      -6.783      -0.936\n",
            "C(smoker)[T.No]                     -3.9776      1.194     -3.331      0.001      -6.337      -1.618\n",
            "C(sex)[T.Female]:C(smoker)[T.No]     3.5928      1.954      1.839      0.068      -0.267       7.453\n",
            "==============================================================================\n",
            "Omnibus:                       14.822   Durbin-Watson:                   1.681\n",
            "Prob(Omnibus):                  0.001   Jarque-Bera (JB):               16.055\n",
            "Skew:                           0.735   Prob(JB):                     0.000326\n",
            "Kurtosis:                       3.559   Cond. No.                         6.88\n",
            "==============================================================================\n",
            "\n",
            "Warnings:\n",
            "[1] Standard Errors assume that the covariance matrix of the errors is correctly specified.\n"
          ],
          "name": "stdout"
        }
      ]
    },
    {
      "cell_type": "markdown",
      "metadata": {
        "id": "CnLU2tzp3Yd9",
        "colab_type": "text"
      },
      "source": [
        "There test of assumptions from the anova table proves the model passes the assumption check, which is excellent. Moreover, the overall model p value is 0.003, smaller than significance level. The model is significant.\n"
      ]
    },
    {
      "cell_type": "markdown",
      "metadata": {
        "id": "N0XUz7jPCNVt",
        "colab_type": "text"
      },
      "source": [
        "## Post hoc testing"
      ]
    },
    {
      "cell_type": "code",
      "metadata": {
        "id": "6C5XsiRmGliF",
        "colab_type": "code",
        "colab": {}
      },
      "source": [
        "sns.distplot(tips['total_bill'], "
      ],
      "execution_count": 0,
      "outputs": []
    },
    {
      "cell_type": "code",
      "metadata": {
        "id": "f_YkkJ2qSVE_",
        "colab_type": "code",
        "colab": {
          "base_uri": "https://localhost:8080/",
          "height": 126
        },
        "outputId": "34981a26-8183-4ae4-9f07-def08ffe0c33"
      },
      "source": [
        "from statsmodels.stats.multicomp import MultiComparison\n",
        "\n",
        "mc = MultiComparison(tips['total_bill'], tips['sex'])\n",
        "mc_results = mc.tukeyhsd()\n",
        "print(mc_results)"
      ],
      "execution_count": 22,
      "outputs": [
        {
          "output_type": "stream",
          "text": [
            "Multiple Comparison of Means - Tukey HSD, FWER=0.05\n",
            "==================================================\n",
            "group1 group2 meandiff p-adj   lower  upper reject\n",
            "--------------------------------------------------\n",
            "Female   Male   1.7646 0.0779 -0.1998 3.729  False\n",
            "--------------------------------------------------\n"
          ],
          "name": "stdout"
        }
      ]
    },
    {
      "cell_type": "markdown",
      "metadata": {
        "id": "GaPsu1zNFjs5",
        "colab_type": "text"
      },
      "source": [
        "There is not a statistically significant difference in the mean total bill spent between male or female."
      ]
    },
    {
      "cell_type": "code",
      "metadata": {
        "id": "poRjVBjoFG8w",
        "colab_type": "code",
        "colab": {
          "base_uri": "https://localhost:8080/",
          "height": 126
        },
        "outputId": "5766f87c-8d2a-4838-f557-dced93d2a864"
      },
      "source": [
        "from statsmodels.stats.multicomp import MultiComparison\n",
        "\n",
        "mc = MultiComparison(tips['total_bill'], tips['smoker'])\n",
        "mc_results = mc.tukeyhsd()\n",
        "print(mc_results)"
      ],
      "execution_count": 23,
      "outputs": [
        {
          "output_type": "stream",
          "text": [
            "Multiple Comparison of Means - Tukey HSD, FWER=0.05\n",
            "==================================================\n",
            "group1 group2 meandiff p-adj  lower  upper  reject\n",
            "--------------------------------------------------\n",
            "    No    Yes   2.6134 0.0072 0.7174 4.5094   True\n",
            "--------------------------------------------------\n"
          ],
          "name": "stdout"
        }
      ]
    },
    {
      "cell_type": "markdown",
      "metadata": {
        "id": "milBjXScFtZc",
        "colab_type": "text"
      },
      "source": [
        "There is a statistically significant different between the smoker and non smoker total bills; smoker spends a significantly higher bills than non smoker."
      ]
    }
  ]
}