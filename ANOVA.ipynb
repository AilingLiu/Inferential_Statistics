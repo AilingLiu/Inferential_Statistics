{
  "nbformat": 4,
  "nbformat_minor": 0,
  "metadata": {
    "colab": {
      "name": "ANOVA.ipynb",
      "provenance": [],
      "collapsed_sections": [
        "gy10psmuN3Nk",
        "UQphZ4G5p9O9"
      ],
      "authorship_tag": "ABX9TyNKpnAPn7UsG9ga6q+vB2Et",
      "include_colab_link": true
    },
    "kernelspec": {
      "name": "python3",
      "display_name": "Python 3"
    }
  },
  "cells": [
    {
      "cell_type": "markdown",
      "metadata": {
        "id": "view-in-github",
        "colab_type": "text"
      },
      "source": [
        "<a href=\"https://colab.research.google.com/github/AilingLiu/Inferential_Statistics/blob/master/ANOVA.ipynb\" target=\"_parent\"><img src=\"https://colab.research.google.com/assets/colab-badge.svg\" alt=\"Open In Colab\"/></a>"
      ]
    },
    {
      "cell_type": "code",
      "metadata": {
        "id": "PfotWhBJGTn7",
        "colab_type": "code",
        "colab": {}
      },
      "source": [
        "import numpy as np\n",
        "import pandas as pd\n",
        "import seaborn as sns\n",
        "import scipy.stats as st\n",
        "import statsmodels.api as sm\n",
        "import statsmodels.formula.api as smf"
      ],
      "execution_count": 0,
      "outputs": []
    },
    {
      "cell_type": "markdown",
      "metadata": {
        "id": "MOrPonAdsmzt",
        "colab_type": "text"
      },
      "source": [
        "# Quantitative associations: ANOVA"
      ]
    },
    {
      "cell_type": "markdown",
      "metadata": {
        "id": "gy10psmuN3Nk",
        "colab_type": "text"
      },
      "source": [
        "## One way anova"
      ]
    },
    {
      "cell_type": "markdown",
      "metadata": {
        "id": "Q0gb5L6VMcY5",
        "colab_type": "text"
      },
      "source": [
        "An analysis of variance or ANOVA allows the comparison of several means of several groups. An ANOVA is often used when you deal with more than 2 groups. It uses F statistic to evaluate the variability between groups relative to the variability within groups.\n",
        "\n",
        "> Example\n",
        "<br>We are interested in the sepal length in different species in `iris` dataset. \n",
        "\n",
        "> Null Hypothesis\n",
        "<br>$H_o$: the average sepal length is the same among different species"
      ]
    },
    {
      "cell_type": "code",
      "metadata": {
        "id": "McprBeKRQRT-",
        "colab_type": "code",
        "outputId": "920bbd11-24cd-4b7a-e825-75a224ad6352",
        "colab": {
          "base_uri": "https://localhost:8080/",
          "height": 198
        }
      },
      "source": [
        "import seaborn as sns\n",
        "iris = sns.load_dataset('iris')\n",
        "iris.head()"
      ],
      "execution_count": 2,
      "outputs": [
        {
          "output_type": "execute_result",
          "data": {
            "text/html": [
              "<div>\n",
              "<style scoped>\n",
              "    .dataframe tbody tr th:only-of-type {\n",
              "        vertical-align: middle;\n",
              "    }\n",
              "\n",
              "    .dataframe tbody tr th {\n",
              "        vertical-align: top;\n",
              "    }\n",
              "\n",
              "    .dataframe thead th {\n",
              "        text-align: right;\n",
              "    }\n",
              "</style>\n",
              "<table border=\"1\" class=\"dataframe\">\n",
              "  <thead>\n",
              "    <tr style=\"text-align: right;\">\n",
              "      <th></th>\n",
              "      <th>sepal_length</th>\n",
              "      <th>sepal_width</th>\n",
              "      <th>petal_length</th>\n",
              "      <th>petal_width</th>\n",
              "      <th>species</th>\n",
              "    </tr>\n",
              "  </thead>\n",
              "  <tbody>\n",
              "    <tr>\n",
              "      <th>0</th>\n",
              "      <td>5.1</td>\n",
              "      <td>3.5</td>\n",
              "      <td>1.4</td>\n",
              "      <td>0.2</td>\n",
              "      <td>setosa</td>\n",
              "    </tr>\n",
              "    <tr>\n",
              "      <th>1</th>\n",
              "      <td>4.9</td>\n",
              "      <td>3.0</td>\n",
              "      <td>1.4</td>\n",
              "      <td>0.2</td>\n",
              "      <td>setosa</td>\n",
              "    </tr>\n",
              "    <tr>\n",
              "      <th>2</th>\n",
              "      <td>4.7</td>\n",
              "      <td>3.2</td>\n",
              "      <td>1.3</td>\n",
              "      <td>0.2</td>\n",
              "      <td>setosa</td>\n",
              "    </tr>\n",
              "    <tr>\n",
              "      <th>3</th>\n",
              "      <td>4.6</td>\n",
              "      <td>3.1</td>\n",
              "      <td>1.5</td>\n",
              "      <td>0.2</td>\n",
              "      <td>setosa</td>\n",
              "    </tr>\n",
              "    <tr>\n",
              "      <th>4</th>\n",
              "      <td>5.0</td>\n",
              "      <td>3.6</td>\n",
              "      <td>1.4</td>\n",
              "      <td>0.2</td>\n",
              "      <td>setosa</td>\n",
              "    </tr>\n",
              "  </tbody>\n",
              "</table>\n",
              "</div>"
            ],
            "text/plain": [
              "   sepal_length  sepal_width  petal_length  petal_width species\n",
              "0           5.1          3.5           1.4          0.2  setosa\n",
              "1           4.9          3.0           1.4          0.2  setosa\n",
              "2           4.7          3.2           1.3          0.2  setosa\n",
              "3           4.6          3.1           1.5          0.2  setosa\n",
              "4           5.0          3.6           1.4          0.2  setosa"
            ]
          },
          "metadata": {
            "tags": []
          },
          "execution_count": 2
        }
      ]
    },
    {
      "cell_type": "code",
      "metadata": {
        "id": "bhw1-QXXQUR3",
        "colab_type": "code",
        "outputId": "0add9935-b329-4907-9170-d3701ff1b3b7",
        "colab": {
          "base_uri": "https://localhost:8080/",
          "height": 640
        }
      },
      "source": [
        "import matplotlib.pyplot as plt\n",
        "\n",
        "f, axes = plt.subplots(2, 2, figsize=(10, 10), sharex=True)\n",
        "sns.distplot(iris[\"sepal_length\"] , color=\"teal\", bins=np.linspace(4,8,9), ax=axes[0, 0])\n",
        "axes[0, 0].set(title='iris sepal length')\n",
        "sns.distplot(iris[\"sepal_length\"][iris.species=='setosa'] , color=\"skyblue\", ax=axes[0, 1])\n",
        "axes[0, 1].set(title='setosa sepal length')\n",
        "sns.distplot(iris[\"sepal_length\"][iris.species=='versicolor'] , color=\"olive\", ax=axes[1, 0])\n",
        "axes[1, 0].set(title='versicolor sepal length')\n",
        "sns.distplot(iris[\"sepal_length\"][iris.species=='virginica'] , color=\"gold\", ax=axes[1, 1])\n",
        "axes[1, 1].set(title='virginica sepal length')"
      ],
      "execution_count": 0,
      "outputs": [
        {
          "output_type": "execute_result",
          "data": {
            "text/plain": [
              "[Text(0.5, 1.0, 'virginica sepal length')]"
            ]
          },
          "metadata": {
            "tags": []
          },
          "execution_count": 26
        },
        {
          "output_type": "display_data",
          "data": {
            "image/png": "[encoded data removed]",
            "text/plain": [
              "<Figure size 720x720 with 4 Axes>"
            ]
          },
          "metadata": {
            "tags": []
          }
        }
      ]
    },
    {
      "cell_type": "code",
      "metadata": {
        "id": "CVxN79y4QfeE",
        "colab_type": "code",
        "outputId": "10418da7-c524-4939-f5b2-7085f2cb1b90",
        "colab": {
          "base_uri": "https://localhost:8080/",
          "height": 168
        }
      },
      "source": [
        "#check the summary of each species\n",
        "gb = iris.groupby(['species'])['sepal_length'].describe()\n",
        "gb"
      ],
      "execution_count": 0,
      "outputs": [
        {
          "output_type": "execute_result",
          "data": {
            "text/html": [
              "<div>\n",
              "<style scoped>\n",
              "    .dataframe tbody tr th:only-of-type {\n",
              "        vertical-align: middle;\n",
              "    }\n",
              "\n",
              "    .dataframe tbody tr th {\n",
              "        vertical-align: top;\n",
              "    }\n",
              "\n",
              "    .dataframe thead th {\n",
              "        text-align: right;\n",
              "    }\n",
              "</style>\n",
              "<table border=\"1\" class=\"dataframe\">\n",
              "  <thead>\n",
              "    <tr style=\"text-align: right;\">\n",
              "      <th></th>\n",
              "      <th>count</th>\n",
              "      <th>mean</th>\n",
              "      <th>std</th>\n",
              "      <th>min</th>\n",
              "      <th>25%</th>\n",
              "      <th>50%</th>\n",
              "      <th>75%</th>\n",
              "      <th>max</th>\n",
              "    </tr>\n",
              "    <tr>\n",
              "      <th>species</th>\n",
              "      <th></th>\n",
              "      <th></th>\n",
              "      <th></th>\n",
              "      <th></th>\n",
              "      <th></th>\n",
              "      <th></th>\n",
              "      <th></th>\n",
              "      <th></th>\n",
              "    </tr>\n",
              "  </thead>\n",
              "  <tbody>\n",
              "    <tr>\n",
              "      <th>setosa</th>\n",
              "      <td>50.0</td>\n",
              "      <td>5.006</td>\n",
              "      <td>0.352490</td>\n",
              "      <td>4.3</td>\n",
              "      <td>4.800</td>\n",
              "      <td>5.0</td>\n",
              "      <td>5.2</td>\n",
              "      <td>5.8</td>\n",
              "    </tr>\n",
              "    <tr>\n",
              "      <th>versicolor</th>\n",
              "      <td>50.0</td>\n",
              "      <td>5.936</td>\n",
              "      <td>0.516171</td>\n",
              "      <td>4.9</td>\n",
              "      <td>5.600</td>\n",
              "      <td>5.9</td>\n",
              "      <td>6.3</td>\n",
              "      <td>7.0</td>\n",
              "    </tr>\n",
              "    <tr>\n",
              "      <th>virginica</th>\n",
              "      <td>50.0</td>\n",
              "      <td>6.588</td>\n",
              "      <td>0.635880</td>\n",
              "      <td>4.9</td>\n",
              "      <td>6.225</td>\n",
              "      <td>6.5</td>\n",
              "      <td>6.9</td>\n",
              "      <td>7.9</td>\n",
              "    </tr>\n",
              "  </tbody>\n",
              "</table>\n",
              "</div>"
            ],
            "text/plain": [
              "            count   mean       std  min    25%  50%  75%  max\n",
              "species                                                      \n",
              "setosa       50.0  5.006  0.352490  4.3  4.800  5.0  5.2  5.8\n",
              "versicolor   50.0  5.936  0.516171  4.9  5.600  5.9  6.3  7.0\n",
              "virginica    50.0  6.588  0.635880  4.9  6.225  6.5  6.9  7.9"
            ]
          },
          "metadata": {
            "tags": []
          },
          "execution_count": 20
        }
      ]
    },
    {
      "cell_type": "markdown",
      "metadata": {
        "id": "Q7kRPFdWXw29",
        "colab_type": "text"
      },
      "source": [
        "From the summary table, each species have different average sepal length. The gives first impression that the our null hypothesis is not right. We will check the significance to validate our assumption.\n",
        "\n",
        "We also need to check if the group size is equal in each species to determine the formulas of calculating within gorup variances. Here the group size is equal."
      ]
    },
    {
      "cell_type": "code",
      "metadata": {
        "id": "SSWYXETtXhHM",
        "colab_type": "code",
        "outputId": "9f31d3b7-7a4a-499c-b354-268ba8136f34",
        "colab": {
          "base_uri": "https://localhost:8080/",
          "height": 35
        }
      },
      "source": [
        "g = 3 #number of group\n",
        "n = 50 #number of size of individual group\n",
        "grandmean = iris.sepal_length.mean()\n",
        "\n",
        "mswithin = sum(gb['std']**2)/g\n",
        "msbetween = sum(n*(gb['mean']-grandmean)**2)/(g-1)\n",
        "Fstat=msbetween/mswithin\n",
        "pval = 1-st.f.cdf(Fstat, (g-1), (n*g-g))\n",
        "\n",
        "print(f'The F statistics is {Fstat:.4f} and P value is {pval:.4f}')"
      ],
      "execution_count": 0,
      "outputs": [
        {
          "output_type": "stream",
          "text": [
            "The F statistics is 119.2645 and P value is 0.0000\n"
          ],
          "name": "stdout"
        }
      ]
    },
    {
      "cell_type": "markdown",
      "metadata": {
        "id": "37P4yegpdilr",
        "colab_type": "text"
      },
      "source": [
        "Here our p value is close to 0. The chances that we will obtain this data under null hypothesis is extremely low. This means that there is a difference in sepal length for the different species. However, we don't know yet which species differ significantly.\n",
        "\n",
        "In statsmodels, we can conduct anova test using [anova_lm](https://www.statsmodels.org/stable/generated/statsmodels.stats.anova.anova_lm.html) function. Before that, we will need to build a multiple regression model using ols function. In fact, multiple regression and analysis of variance are technically the same. In the anoval_lm function, you need to specify the type of anova. You can check details [here](https://stackoverflow.com/questions/55175274/uses-of-typ-in-anova-lm). After the test, we can use the summary function from ols object to evaluate each parameter's significance and the model significance."
      ]
    },
    {
      "cell_type": "code",
      "metadata": {
        "id": "e6Qq9STbcTI6",
        "colab_type": "code",
        "outputId": "461d531d-11c9-41bf-9d0c-0aa16a26d181",
        "colab": {
          "base_uri": "https://localhost:8080/",
          "height": 108
        }
      },
      "source": [
        "iris_ols=smf.ols('sepal_length ~ C(species)', data=iris).fit() #Specify C for Categorical\n",
        "test_result = sm.stats.anova_lm(iris_ols, typ=2)\n",
        "test_result"
      ],
      "execution_count": 0,
      "outputs": [
        {
          "output_type": "execute_result",
          "data": {
            "text/html": [
              "<div>\n",
              "<style scoped>\n",
              "    .dataframe tbody tr th:only-of-type {\n",
              "        vertical-align: middle;\n",
              "    }\n",
              "\n",
              "    .dataframe tbody tr th {\n",
              "        vertical-align: top;\n",
              "    }\n",
              "\n",
              "    .dataframe thead th {\n",
              "        text-align: right;\n",
              "    }\n",
              "</style>\n",
              "<table border=\"1\" class=\"dataframe\">\n",
              "  <thead>\n",
              "    <tr style=\"text-align: right;\">\n",
              "      <th></th>\n",
              "      <th>sum_sq</th>\n",
              "      <th>df</th>\n",
              "      <th>F</th>\n",
              "      <th>PR(&gt;F)</th>\n",
              "    </tr>\n",
              "  </thead>\n",
              "  <tbody>\n",
              "    <tr>\n",
              "      <th>C(species)</th>\n",
              "      <td>63.212133</td>\n",
              "      <td>2.0</td>\n",
              "      <td>119.264502</td>\n",
              "      <td>1.669669e-31</td>\n",
              "    </tr>\n",
              "    <tr>\n",
              "      <th>Residual</th>\n",
              "      <td>38.956200</td>\n",
              "      <td>147.0</td>\n",
              "      <td>NaN</td>\n",
              "      <td>NaN</td>\n",
              "    </tr>\n",
              "  </tbody>\n",
              "</table>\n",
              "</div>"
            ],
            "text/plain": [
              "               sum_sq     df           F        PR(>F)\n",
              "C(species)  63.212133    2.0  119.264502  1.669669e-31\n",
              "Residual    38.956200  147.0         NaN           NaN"
            ]
          },
          "metadata": {
            "tags": []
          },
          "execution_count": 25
        }
      ]
    },
    {
      "cell_type": "code",
      "metadata": {
        "id": "nbeP6PSFj1Ly",
        "colab_type": "code",
        "outputId": "af356eb3-ca3c-4d9a-d402-8ea8b49ebcb3",
        "colab": {
          "base_uri": "https://localhost:8080/",
          "height": 490
        }
      },
      "source": [
        "print(iris_ols.summary())"
      ],
      "execution_count": 0,
      "outputs": [
        {
          "output_type": "stream",
          "text": [
            "                            OLS Regression Results                            \n",
            "==============================================================================\n",
            "Dep. Variable:           sepal_length   R-squared:                       0.619\n",
            "Model:                            OLS   Adj. R-squared:                  0.614\n",
            "Method:                 Least Squares   F-statistic:                     119.3\n",
            "Date:                Fri, 14 Feb 2020   Prob (F-statistic):           1.67e-31\n",
            "Time:                        16:37:02   Log-Likelihood:                -111.73\n",
            "No. Observations:                 150   AIC:                             229.5\n",
            "Df Residuals:                     147   BIC:                             238.5\n",
            "Df Model:                           2                                         \n",
            "Covariance Type:            nonrobust                                         \n",
            "============================================================================================\n",
            "                               coef    std err          t      P>|t|      [0.025      0.975]\n",
            "--------------------------------------------------------------------------------------------\n",
            "Intercept                    5.0060      0.073     68.762      0.000       4.862       5.150\n",
            "C(species)[T.versicolor]     0.9300      0.103      9.033      0.000       0.727       1.133\n",
            "C(species)[T.virginica]      1.5820      0.103     15.366      0.000       1.379       1.785\n",
            "==============================================================================\n",
            "Omnibus:                        1.188   Durbin-Watson:                   2.043\n",
            "Prob(Omnibus):                  0.552   Jarque-Bera (JB):                0.785\n",
            "Skew:                           0.119   Prob(JB):                        0.675\n",
            "Kurtosis:                       3.263   Cond. No.                         3.73\n",
            "==============================================================================\n",
            "\n",
            "Warnings:\n",
            "[1] Standard Errors assume that the covariance matrix of the errors is correctly specified.\n"
          ],
          "name": "stdout"
        }
      ]
    },
    {
      "cell_type": "markdown",
      "metadata": {
        "id": "KhqbL4DkjRdA",
        "colab_type": "text"
      },
      "source": [
        "## Assumptions checking anova\n",
        "\n",
        "1.  The population distribution for the dependent variable for each of the g groups need to be approximately normal. We can use [Shapiro Walk Test](https://en.wikipedia.org/wiki/Shapiro%E2%80%93Wilk_test) in python [shapiro](https://docs.scipy.org/doc/scipy/reference/generated/scipy.stats.shapiro.html) function.\n",
        "2.  Those distributions for each of the groups have the same standard deviation (homogeneity of variances). We can use [Barlett's Test](https://en.wikipedia.org/wiki/Bartlett%27s_test) in python [barlett](https://docs.scipy.org/doc/scipy-0.14.0/reference/generated/scipy.stats.bartlett.html) function.\n",
        "3. No correlation between the residual (error) terms. (aka. no autocorrelation)\n",
        "4. The data resulted from randomization"
      ]
    },
    {
      "cell_type": "code",
      "metadata": {
        "id": "2CJXTWbWHVfI",
        "colab_type": "code",
        "outputId": "7ecdc9d9-235a-4101-d2f1-e907f2c37b8b",
        "colab": {
          "base_uri": "https://localhost:8080/",
          "height": 297
        }
      },
      "source": [
        "import matplotlib.pyplot as plt\n",
        "res = iris_ols.resid \n",
        "fig =plt.figure(figsize=(5,4))\n",
        "ax = sm.qqplot(res, line='s')\n",
        "plt.show()"
      ],
      "execution_count": 0,
      "outputs": [
        {
          "output_type": "display_data",
          "data": {
            "text/plain": [
              "<Figure size 360x288 with 0 Axes>"
            ]
          },
          "metadata": {
            "tags": []
          }
        },
        {
          "output_type": "display_data",
          "data": {
            "image/png": "[encoded data removed]",
            "text/plain": [
              "<Figure size 432x288 with 1 Axes>"
            ]
          },
          "metadata": {
            "tags": []
          }
        }
      ]
    },
    {
      "cell_type": "code",
      "metadata": {
        "id": "X-Ri7K7iiv_P",
        "colab_type": "code",
        "outputId": "c27aa42a-9248-4716-e3b2-bc73318552cc",
        "colab": {
          "base_uri": "https://localhost:8080/",
          "height": 108
        }
      },
      "source": [
        "#normality test\n",
        "stat, p = st.shapiro(iris['sepal_length'])\n",
        "print('Normality Test: Statistics=%.3f, p=%.3f' % (stat, p))\n",
        "\n",
        "# interpret\n",
        "alpha = 0.05\n",
        "if p > alpha:\n",
        "\tprint('Sample looks Gaussian (fail to reject H0)')\n",
        "else:\n",
        "\tprint('Sample does not look Gaussian (reject H0)\\n')\n",
        " \n",
        "#homogeneity\n",
        "setosa = iris[\"sepal_length\"][iris.species=='setosa']\n",
        "versicolor = iris[\"sepal_length\"][iris.species=='versicolor']\n",
        "virginica = iris[\"sepal_length\"][iris.species=='virginica']\n",
        "stat, p = st.bartlett(setosa, versicolor, virginica)\n",
        "print('Homogeneity Test: Statistics=%.3f, p=%.3f' % (stat, p))\n",
        "\n",
        "# interpret\n",
        "alpha = 0.05\n",
        "if p > alpha:\n",
        "\tprint('Sample has the same variances (fail to reject H0)')\n",
        "else:\n",
        "\tprint('Sample does not have the same variances (reject H0)')\n"
      ],
      "execution_count": 0,
      "outputs": [
        {
          "output_type": "stream",
          "text": [
            "Normality Test: Statistics=0.976, p=0.010\n",
            "Sample does not look Gaussian (reject H0)\n",
            "\n",
            "Homogeneity Test: Statistics=16.006, p=0.000\n",
            "Sample does not have the same variances (reject H0)\n"
          ],
          "name": "stdout"
        }
      ]
    },
    {
      "cell_type": "markdown",
      "metadata": {
        "id": "q-jBAAnOleJA",
        "colab_type": "text"
      },
      "source": [
        "From the plots, there is an outlier that deviate from the straight line. Other than that, the residuals are clustered along with the straight line. The shapiro normality test concludes p=0.1, which does not meet assumption at 0.05 significance level. Homogeneity of variance are not met either. We can clean up the data and rerun the test again. Otherwise, we should use non parametric test instead of anova test. We will cover it in another notebook. Our purpose here is to learn how to conduct the anova test in python. \n",
        "\n",
        "Another way to check the assumption is to read the summary statistics directly from the ols summary table. The [Durban-Watson tests](https://www.investopedia.com/terms/d/durbin-watson-statistic.asp) is to detect the presence of autocorrelation, [Jarque-Bera tests](https://www.statisticshowto.datasciencecentral.com/jarque-bera-test/) the assumption of normality, Omnibus tests the assumption of homogeneity of variance, and the Condition Number assess multicollinearity. Condition Number values over 20 are indicative of multicollinearity. The model does not pass the assumption check of homogeneity, normality as tested before. [More details Here](https://www.geeksforgeeks.org/interpreting-the-results-of-linear-regression-using-ols-summary/)."
      ]
    },
    {
      "cell_type": "markdown",
      "metadata": {
        "id": "UQphZ4G5p9O9",
        "colab_type": "text"
      },
      "source": [
        "## Post hoc analysis"
      ]
    },
    {
      "cell_type": "markdown",
      "metadata": {
        "id": "utWE04I4rnL4",
        "colab_type": "text"
      },
      "source": [
        "There are multiple way to do the post hoc analysis. One of it is the bonferroni correction post hoc comparison where the family-wise error rate is less than or equal to the initial overall significance rate. But this method could be overly conservative. Another one is TukeyHSD post hoc test, where the family-wise error rate is similar to the overal significance rate. This test generally has a narrower confidence interval."
      ]
    },
    {
      "cell_type": "code",
      "metadata": {
        "id": "_TJWskJelQhz",
        "colab_type": "code",
        "outputId": "2b684688-cfa0-45a3-c52d-baeeb58a3475",
        "colab": {
          "base_uri": "https://localhost:8080/",
          "height": 163
        }
      },
      "source": [
        "from statsmodels.stats.multicomp import MultiComparison\n",
        "\n",
        "mc = MultiComparison(iris['sepal_length'], iris['species'])\n",
        "mc_results = mc.tukeyhsd()\n",
        "print(mc_results)"
      ],
      "execution_count": 0,
      "outputs": [
        {
          "output_type": "stream",
          "text": [
            "   Multiple Comparison of Means - Tukey HSD, FWER=0.05   \n",
            "=========================================================\n",
            "  group1     group2   meandiff p-adj lower  upper  reject\n",
            "---------------------------------------------------------\n",
            "    setosa versicolor     0.93 0.001 0.6862 1.1738   True\n",
            "    setosa  virginica    1.582 0.001 1.3382 1.8258   True\n",
            "versicolor  virginica    0.652 0.001 0.4082 0.8958   True\n",
            "---------------------------------------------------------\n"
          ],
          "name": "stdout"
        }
      ]
    },
    {
      "cell_type": "markdown",
      "metadata": {
        "id": "XyHxEKjgswHa",
        "colab_type": "text"
      },
      "source": [
        "From the difference, we can see that $\\mu_{versicolor}-\\mu_{setosa}=0.93$ and $\\mu_{setosa} - \\mu_{virginica}=1.582$.\n",
        "The `meandiff` in these two comparisons correspond to the multiple regression coefficients we just did. The species `setosa` is a reference group integrated in intercept in the regression model. More details you can review the course.\n",
        "\n"
      ]
    },
    {
      "cell_type": "markdown",
      "metadata": {
        "id": "x3pLDLyYuY7n",
        "colab_type": "text"
      },
      "source": [
        "## Two way anova"
      ]
    },
    {
      "cell_type": "markdown",
      "metadata": {
        "id": "2fIXQ0ukOCdq",
        "colab_type": "text"
      },
      "source": [
        "A two-way anova is used when you want to compare multiple groups across multiple independent variables. In below example, we cut the `sepal_width` to 1 to 4 categories. We will use this together with species as independent variables to check its differences in `sepal_length`.\n",
        "\n",
        "\n",
        "**Null Hypothesis**\n",
        "*  Avereage sepal length is the same across sepal width categories\n",
        "*  Average sepal length is the same across species\n",
        "*  sepal width and species are independent of each other"
      ]
    },
    {
      "cell_type": "code",
      "metadata": {
        "id": "plIIk-_L5Vzv",
        "colab_type": "code",
        "colab": {
          "base_uri": "https://localhost:8080/",
          "height": 198
        },
        "outputId": "0aa0f446-0699-4ba8-b114-afa97c18f578"
      },
      "source": [
        "import seaborn as sns\n",
        "iris = sns.load_dataset('iris')\n",
        "iris.head()"
      ],
      "execution_count": 3,
      "outputs": [
        {
          "output_type": "execute_result",
          "data": {
            "text/html": [
              "<div>\n",
              "<style scoped>\n",
              "    .dataframe tbody tr th:only-of-type {\n",
              "        vertical-align: middle;\n",
              "    }\n",
              "\n",
              "    .dataframe tbody tr th {\n",
              "        vertical-align: top;\n",
              "    }\n",
              "\n",
              "    .dataframe thead th {\n",
              "        text-align: right;\n",
              "    }\n",
              "</style>\n",
              "<table border=\"1\" class=\"dataframe\">\n",
              "  <thead>\n",
              "    <tr style=\"text-align: right;\">\n",
              "      <th></th>\n",
              "      <th>sepal_length</th>\n",
              "      <th>sepal_width</th>\n",
              "      <th>petal_length</th>\n",
              "      <th>petal_width</th>\n",
              "      <th>species</th>\n",
              "    </tr>\n",
              "  </thead>\n",
              "  <tbody>\n",
              "    <tr>\n",
              "      <th>0</th>\n",
              "      <td>5.1</td>\n",
              "      <td>3.5</td>\n",
              "      <td>1.4</td>\n",
              "      <td>0.2</td>\n",
              "      <td>setosa</td>\n",
              "    </tr>\n",
              "    <tr>\n",
              "      <th>1</th>\n",
              "      <td>4.9</td>\n",
              "      <td>3.0</td>\n",
              "      <td>1.4</td>\n",
              "      <td>0.2</td>\n",
              "      <td>setosa</td>\n",
              "    </tr>\n",
              "    <tr>\n",
              "      <th>2</th>\n",
              "      <td>4.7</td>\n",
              "      <td>3.2</td>\n",
              "      <td>1.3</td>\n",
              "      <td>0.2</td>\n",
              "      <td>setosa</td>\n",
              "    </tr>\n",
              "    <tr>\n",
              "      <th>3</th>\n",
              "      <td>4.6</td>\n",
              "      <td>3.1</td>\n",
              "      <td>1.5</td>\n",
              "      <td>0.2</td>\n",
              "      <td>setosa</td>\n",
              "    </tr>\n",
              "    <tr>\n",
              "      <th>4</th>\n",
              "      <td>5.0</td>\n",
              "      <td>3.6</td>\n",
              "      <td>1.4</td>\n",
              "      <td>0.2</td>\n",
              "      <td>setosa</td>\n",
              "    </tr>\n",
              "  </tbody>\n",
              "</table>\n",
              "</div>"
            ],
            "text/plain": [
              "   sepal_length  sepal_width  petal_length  petal_width species\n",
              "0           5.1          3.5           1.4          0.2  setosa\n",
              "1           4.9          3.0           1.4          0.2  setosa\n",
              "2           4.7          3.2           1.3          0.2  setosa\n",
              "3           4.6          3.1           1.5          0.2  setosa\n",
              "4           5.0          3.6           1.4          0.2  setosa"
            ]
          },
          "metadata": {
            "tags": []
          },
          "execution_count": 3
        }
      ]
    },
    {
      "cell_type": "code",
      "metadata": {
        "id": "jfKpVHMt5aYM",
        "colab_type": "code",
        "colab": {
          "base_uri": "https://localhost:8080/",
          "height": 198
        },
        "outputId": "7425b334-afc8-4cca-91a4-55a803642279"
      },
      "source": [
        "iris['sepal_width_cat']=pd.qcut(iris['sepal_width'], q=4, labels=[1,2,3,4])\n",
        "iris.head()"
      ],
      "execution_count": 12,
      "outputs": [
        {
          "output_type": "execute_result",
          "data": {
            "text/html": [
              "<div>\n",
              "<style scoped>\n",
              "    .dataframe tbody tr th:only-of-type {\n",
              "        vertical-align: middle;\n",
              "    }\n",
              "\n",
              "    .dataframe tbody tr th {\n",
              "        vertical-align: top;\n",
              "    }\n",
              "\n",
              "    .dataframe thead th {\n",
              "        text-align: right;\n",
              "    }\n",
              "</style>\n",
              "<table border=\"1\" class=\"dataframe\">\n",
              "  <thead>\n",
              "    <tr style=\"text-align: right;\">\n",
              "      <th></th>\n",
              "      <th>sepal_length</th>\n",
              "      <th>sepal_width</th>\n",
              "      <th>petal_length</th>\n",
              "      <th>petal_width</th>\n",
              "      <th>species</th>\n",
              "      <th>sepal_width_cat</th>\n",
              "    </tr>\n",
              "  </thead>\n",
              "  <tbody>\n",
              "    <tr>\n",
              "      <th>0</th>\n",
              "      <td>5.1</td>\n",
              "      <td>3.5</td>\n",
              "      <td>1.4</td>\n",
              "      <td>0.2</td>\n",
              "      <td>setosa</td>\n",
              "      <td>4</td>\n",
              "    </tr>\n",
              "    <tr>\n",
              "      <th>1</th>\n",
              "      <td>4.9</td>\n",
              "      <td>3.0</td>\n",
              "      <td>1.4</td>\n",
              "      <td>0.2</td>\n",
              "      <td>setosa</td>\n",
              "      <td>2</td>\n",
              "    </tr>\n",
              "    <tr>\n",
              "      <th>2</th>\n",
              "      <td>4.7</td>\n",
              "      <td>3.2</td>\n",
              "      <td>1.3</td>\n",
              "      <td>0.2</td>\n",
              "      <td>setosa</td>\n",
              "      <td>3</td>\n",
              "    </tr>\n",
              "    <tr>\n",
              "      <th>3</th>\n",
              "      <td>4.6</td>\n",
              "      <td>3.1</td>\n",
              "      <td>1.5</td>\n",
              "      <td>0.2</td>\n",
              "      <td>setosa</td>\n",
              "      <td>3</td>\n",
              "    </tr>\n",
              "    <tr>\n",
              "      <th>4</th>\n",
              "      <td>5.0</td>\n",
              "      <td>3.6</td>\n",
              "      <td>1.4</td>\n",
              "      <td>0.2</td>\n",
              "      <td>setosa</td>\n",
              "      <td>4</td>\n",
              "    </tr>\n",
              "  </tbody>\n",
              "</table>\n",
              "</div>"
            ],
            "text/plain": [
              "   sepal_length  sepal_width  petal_length  petal_width species sepal_width_cat\n",
              "0           5.1          3.5           1.4          0.2  setosa               4\n",
              "1           4.9          3.0           1.4          0.2  setosa               2\n",
              "2           4.7          3.2           1.3          0.2  setosa               3\n",
              "3           4.6          3.1           1.5          0.2  setosa               3\n",
              "4           5.0          3.6           1.4          0.2  setosa               4"
            ]
          },
          "metadata": {
            "tags": []
          },
          "execution_count": 12
        }
      ]
    },
    {
      "cell_type": "code",
      "metadata": {
        "id": "qSH-hz6VQd14",
        "colab_type": "code",
        "outputId": "71a481f1-a1dd-4190-b6e8-fb3e6a8564ca",
        "colab": {
          "base_uri": "https://localhost:8080/",
          "height": 168
        }
      },
      "source": [
        "iris_ols=smf.ols('sepal_length ~ C(sepal_width_cat)*C(species)', data=iris).fit() #This will also automatically include the main effects for each factor\n",
        "test_result = sm.stats.anova_lm(iris_ols, typ=2)\n",
        "test_result"
      ],
      "execution_count": 13,
      "outputs": [
        {
          "output_type": "execute_result",
          "data": {
            "text/html": [
              "<div>\n",
              "<style scoped>\n",
              "    .dataframe tbody tr th:only-of-type {\n",
              "        vertical-align: middle;\n",
              "    }\n",
              "\n",
              "    .dataframe tbody tr th {\n",
              "        vertical-align: top;\n",
              "    }\n",
              "\n",
              "    .dataframe thead th {\n",
              "        text-align: right;\n",
              "    }\n",
              "</style>\n",
              "<table border=\"1\" class=\"dataframe\">\n",
              "  <thead>\n",
              "    <tr style=\"text-align: right;\">\n",
              "      <th></th>\n",
              "      <th>sum_sq</th>\n",
              "      <th>df</th>\n",
              "      <th>F</th>\n",
              "      <th>PR(&gt;F)</th>\n",
              "    </tr>\n",
              "  </thead>\n",
              "  <tbody>\n",
              "    <tr>\n",
              "      <th>C(sepal_width_cat)</th>\n",
              "      <td>8.326110</td>\n",
              "      <td>3.0</td>\n",
              "      <td>13.094203</td>\n",
              "      <td>1.416468e-07</td>\n",
              "    </tr>\n",
              "    <tr>\n",
              "      <th>C(species)</th>\n",
              "      <td>63.898989</td>\n",
              "      <td>2.0</td>\n",
              "      <td>150.737797</td>\n",
              "      <td>1.946070e-35</td>\n",
              "    </tr>\n",
              "    <tr>\n",
              "      <th>C(sepal_width_cat):C(species)</th>\n",
              "      <td>1.380424</td>\n",
              "      <td>6.0</td>\n",
              "      <td>1.085474</td>\n",
              "      <td>3.741667e-01</td>\n",
              "    </tr>\n",
              "    <tr>\n",
              "      <th>Residual</th>\n",
              "      <td>29.249666</td>\n",
              "      <td>138.0</td>\n",
              "      <td>NaN</td>\n",
              "      <td>NaN</td>\n",
              "    </tr>\n",
              "  </tbody>\n",
              "</table>\n",
              "</div>"
            ],
            "text/plain": [
              "                                  sum_sq     df           F        PR(>F)\n",
              "C(sepal_width_cat)              8.326110    3.0   13.094203  1.416468e-07\n",
              "C(species)                     63.898989    2.0  150.737797  1.946070e-35\n",
              "C(sepal_width_cat):C(species)   1.380424    6.0    1.085474  3.741667e-01\n",
              "Residual                       29.249666  138.0         NaN           NaN"
            ]
          },
          "metadata": {
            "tags": []
          },
          "execution_count": 13
        }
      ]
    },
    {
      "cell_type": "markdown",
      "metadata": {
        "id": "HxsAqY-zSl0D",
        "colab_type": "text"
      },
      "source": [
        "Assume we use 0.05 significance level, we have p value smaller than significance level for both sepal width and species, which means, there is a difference in sepal length across sepal width group and species group. \n",
        "\n",
        "The interaction term is significant. This indicates that there is interaction effect between the sepal width and their species kind. \n",
        "\n",
        "If we have observd the interaction term not significant, it should be removed from the model and it needs to be re-ran so we can look at the main effects of each factor independently, as we did before, but changing the formula to `response~C(facotor1)+C(factor2)`"
      ]
    },
    {
      "cell_type": "code",
      "metadata": {
        "id": "28Y945o2SOro",
        "colab_type": "code",
        "outputId": "aaa43196-64f3-431d-c44c-021092cd614b",
        "colab": {
          "base_uri": "https://localhost:8080/",
          "height": 654
        }
      },
      "source": [
        "print(iris_ols.summary())"
      ],
      "execution_count": 14,
      "outputs": [
        {
          "output_type": "stream",
          "text": [
            "                            OLS Regression Results                            \n",
            "==============================================================================\n",
            "Dep. Variable:           sepal_length   R-squared:                       0.714\n",
            "Model:                            OLS   Adj. R-squared:                  0.691\n",
            "Method:                 Least Squares   F-statistic:                     31.28\n",
            "Date:                Tue, 18 Feb 2020   Prob (F-statistic):           3.19e-32\n",
            "Time:                        10:53:49   Log-Likelihood:                -90.233\n",
            "No. Observations:                 150   AIC:                             204.5\n",
            "Df Residuals:                     138   BIC:                             240.6\n",
            "Df Model:                          11                                         \n",
            "Covariance Type:            nonrobust                                         \n",
            "====================================================================================================================\n",
            "                                                       coef    std err          t      P>|t|      [0.025      0.975]\n",
            "--------------------------------------------------------------------------------------------------------------------\n",
            "Intercept                                            4.5000      0.460      9.774      0.000       3.590       5.410\n",
            "C(sepal_width_cat)[T.2]                              0.1571      0.492      0.319      0.750      -0.816       1.130\n",
            "C(sepal_width_cat)[T.3]                              0.2909      0.481      0.605      0.546      -0.660       1.242\n",
            "C(sepal_width_cat)[T.4]                              0.6774      0.468      1.448      0.150      -0.247       1.602\n",
            "C(species)[T.versicolor]                             1.2296      0.469      2.623      0.010       0.303       2.157\n",
            "C(species)[T.virginica]                              1.7895      0.472      3.788      0.000       0.856       2.723\n",
            "C(sepal_width_cat)[T.2]:C(species)[T.versicolor]     0.1266      0.514      0.246      0.806      -0.890       1.143\n",
            "C(sepal_width_cat)[T.3]:C(species)[T.versicolor]     0.5366      0.519      1.034      0.303      -0.490       1.563\n",
            "C(sepal_width_cat)[T.4]:C(species)[T.versicolor]    -0.4070      0.662     -0.615      0.540      -1.717       0.902\n",
            "C(sepal_width_cat)[T.2]:C(species)[T.virginica]      0.2820      0.518      0.544      0.587      -0.743       1.307\n",
            "C(sepal_width_cat)[T.3]:C(species)[T.virginica]      0.1196      0.510      0.235      0.815      -0.889       1.128\n",
            "C(sepal_width_cat)[T.4]:C(species)[T.virginica]      0.0931      0.522      0.178      0.859      -0.939       1.125\n",
            "==============================================================================\n",
            "Omnibus:                        7.892   Durbin-Watson:                   1.958\n",
            "Prob(Omnibus):                  0.019   Jarque-Bera (JB):                9.526\n",
            "Skew:                           0.351   Prob(JB):                      0.00854\n",
            "Kurtosis:                       4.016   Cond. No.                         51.8\n",
            "==============================================================================\n",
            "\n",
            "Warnings:\n",
            "[1] Standard Errors assume that the covariance matrix of the errors is correctly specified.\n"
          ],
          "name": "stdout"
        }
      ]
    },
    {
      "cell_type": "markdown",
      "metadata": {
        "id": "CnLU2tzp3Yd9",
        "colab_type": "text"
      },
      "source": [
        "The overall model p value is 3.19e-32, so the model is significant. The R-squaredis 0.714, showing our model explained 71.4% of the variances in the data.\n",
        "There test of assumptions from the anova table did not pass the multicollinearity test being Cond.No over 51.8. We should do a chi-square test to check the two categorical independent variables association. Here, we will continue to do the post hoc testing to see which level shows different sepal length.\n"
      ]
    },
    {
      "cell_type": "markdown",
      "metadata": {
        "id": "N0XUz7jPCNVt",
        "colab_type": "text"
      },
      "source": [
        "## Post hoc testing"
      ]
    },
    {
      "cell_type": "markdown",
      "metadata": {
        "id": "rEEN1h8yAMFO",
        "colab_type": "text"
      },
      "source": [
        ""
      ]
    },
    {
      "cell_type": "code",
      "metadata": {
        "id": "2TyHyGwJAMfk",
        "colab_type": "code",
        "colab": {
          "base_uri": "https://localhost:8080/",
          "height": 640
        },
        "outputId": "3955d38a-5c89-43a2-f62f-4863dccff6e1"
      },
      "source": [
        "import matplotlib.pyplot as plt\n",
        "\n",
        "f, axes = plt.subplots(2, 2, figsize=(10, 10), sharex=True)\n",
        "sns.distplot(iris[\"sepal_length\"][iris['sepal_width_cat']==1] , color=\"skyblue\", ax=axes[0, 0])\n",
        "axes[0, 0].set(title='sepal width 1 sepal length')\n",
        "sns.distplot(iris[\"sepal_length\"][iris['sepal_width_cat']==2] , color=\"olive\", ax=axes[0, 1])\n",
        "axes[0, 1].set(title='sepal width 2 sepal length')\n",
        "sns.distplot(iris[\"sepal_length\"][iris['sepal_width_cat']==3] , color=\"gold\", ax=axes[1, 0])\n",
        "axes[1, 0].set(title='sepal width 3 sepal length')\n",
        "sns.distplot(iris[\"sepal_length\"][iris['sepal_width_cat']==4] , color=\"teal\", ax=axes[1, 1])\n",
        "axes[1, 1].set(title='sepal width 4 sepal length')\n"
      ],
      "execution_count": 25,
      "outputs": [
        {
          "output_type": "execute_result",
          "data": {
            "text/plain": [
              "[Text(0.5, 1.0, 'sepal width 4 sepal length')]"
            ]
          },
          "metadata": {
            "tags": []
          },
          "execution_count": 25
        },
        {
          "output_type": "display_data",
          "data": {
            "image/png": "[encoded data removed]",
            "text/plain": [
              "<Figure size 720x720 with 4 Axes>"
            ]
          },
          "metadata": {
            "tags": []
          }
        }
      ]
    },
    {
      "cell_type": "code",
      "metadata": {
        "id": "f_YkkJ2qSVE_",
        "colab_type": "code",
        "outputId": "8599e02f-cd6e-4ae8-e6fc-5ff149e18b15",
        "colab": {
          "base_uri": "https://localhost:8080/",
          "height": 163
        }
      },
      "source": [
        "from statsmodels.stats.multicomp import MultiComparison\n",
        "\n",
        "mc = MultiComparison(iris['sepal_length'], iris['species'])\n",
        "mc_results = mc.tukeyhsd()\n",
        "print(mc_results)"
      ],
      "execution_count": 18,
      "outputs": [
        {
          "output_type": "stream",
          "text": [
            "   Multiple Comparison of Means - Tukey HSD, FWER=0.05   \n",
            "=========================================================\n",
            "  group1     group2   meandiff p-adj lower  upper  reject\n",
            "---------------------------------------------------------\n",
            "    setosa versicolor     0.93 0.001 0.6862 1.1738   True\n",
            "    setosa  virginica    1.582 0.001 1.3382 1.8258   True\n",
            "versicolor  virginica    0.652 0.001 0.4082 0.8958   True\n",
            "---------------------------------------------------------\n"
          ],
          "name": "stdout"
        }
      ]
    },
    {
      "cell_type": "markdown",
      "metadata": {
        "id": "GaPsu1zNFjs5",
        "colab_type": "text"
      },
      "source": [
        "There is a statistically significant difference in the mean sepal length between speies. The sepal length in versicolor is 0.93 more than setosa, while virginica species has 1.582 average more than setosa, and 0.652 more than versicolor."
      ]
    },
    {
      "cell_type": "code",
      "metadata": {
        "id": "poRjVBjoFG8w",
        "colab_type": "code",
        "outputId": "3662c52d-a2a6-46d8-cd23-5fa51fb41e25",
        "colab": {
          "base_uri": "https://localhost:8080/",
          "height": 217
        }
      },
      "source": [
        "from statsmodels.stats.multicomp import MultiComparison\n",
        "\n",
        "mc = MultiComparison(iris['sepal_length'], iris['sepal_width_cat'])\n",
        "mc_results = mc.tukeyhsd()\n",
        "print(mc_results)\n"
      ],
      "execution_count": 19,
      "outputs": [
        {
          "output_type": "stream",
          "text": [
            "Multiple Comparison of Means - Tukey HSD, FWER=0.05 \n",
            "====================================================\n",
            "group1 group2 meandiff p-adj   lower   upper  reject\n",
            "----------------------------------------------------\n",
            "     1      2    0.098    0.9 -0.3652  0.5612  False\n",
            "     1      3   0.0369    0.9 -0.4518  0.5256  False\n",
            "     1      4  -0.4757 0.0395 -0.9354 -0.0161   True\n",
            "     2      3  -0.0611    0.9 -0.5781  0.4559  False\n",
            "     2      4  -0.5737 0.0145 -1.0633 -0.0841   True\n",
            "     3      4  -0.5126 0.0508 -1.0264  0.0012  False\n",
            "----------------------------------------------------\n"
          ],
          "name": "stdout"
        }
      ]
    },
    {
      "cell_type": "markdown",
      "metadata": {
        "id": "milBjXScFtZc",
        "colab_type": "text"
      },
      "source": [
        "Sepal width group 1 and 4 are statistically different in sepal length, group 1 is 0.4757 longer in sepal length than group 4; similarly, sepal width group 2 and 4 are statistically different in sepal length, group 2 is 0.5737 longer in sepal length than group 4."
      ]
    }
  ]
}
