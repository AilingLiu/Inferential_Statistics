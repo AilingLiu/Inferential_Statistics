{
  "nbformat": 4,
  "nbformat_minor": 0,
  "metadata": {
    "colab": {
      "name": "Inferential_Statistics.ipynb",
      "provenance": [],
      "collapsed_sections": [
        "aj-PMwiGcXt0",
        "jxJRP4FybcCX",
        "DMMTVNLlv29p",
        "2hmbdO1w9tWE",
        "I1ZOoNtJve07",
        "7AwBkp2M0I0a",
        "HCKEvc-N4FP0",
        "bpBS-7c9KKLB",
        "BW4Xrou-boA3",
        "9OY5ph6lbd6K",
        "SEGbbBP_hdc3"
      ],
      "authorship_tag": "ABX9TyOtperMHn6hdASNSZpAVr15",
      "include_colab_link": true
    },
    "kernelspec": {
      "name": "python3",
      "display_name": "Python 3"
    }
  },
  "cells": [
    {
      "cell_type": "markdown",
      "metadata": {
        "id": "view-in-github",
        "colab_type": "text"
      },
      "source": [
        "<a href=\"https://colab.research.google.com/github/AilingLiu/Inferential_Statistics/blob/master/Inferential_Statistics.ipynb\" target=\"_parent\"><img src=\"https://colab.research.google.com/assets/colab-badge.svg\" alt=\"Open In Colab\"/></a>"
      ]
    },
    {
      "cell_type": "markdown",
      "metadata": {
        "id": "cM1gu2PdkFEo",
        "colab_type": "text"
      },
      "source": [
        "This notebook summarizes the testing methods from <b>Inferential Statitistics </b> course taught by <u>University of Amsterdam</u> on [Coursera](https://www.coursera.org/learn/inferential-statistics). The course had taught how to conduct statistical test usng R. Here, I am using Python to do the test. All the formulas used in this document can be found [here](https://github.com/AilingLiu/Inferential_Statistics/blob/master/FormulasTables.pdf)."
      ]
    },
    {
      "cell_type": "code",
      "metadata": {
        "id": "bAjFEUYoqgZ5",
        "colab_type": "code",
        "colab": {}
      },
      "source": [
        "import numpy as np\n",
        "import pandas as pd\n",
        "import scipy.stats as st\n",
        "import statsmodels.api as sm"
      ],
      "execution_count": 0,
      "outputs": []
    },
    {
      "cell_type": "markdown",
      "metadata": {
        "id": "_5c7FaPekoFx",
        "colab_type": "text"
      },
      "source": [
        "# Compare Two Groups"
      ]
    },
    {
      "cell_type": "markdown",
      "metadata": {
        "id": "tRdF7oOMk0Xm",
        "colab_type": "text"
      },
      "source": [
        "<b>Construct Hypotheses</b>\n",
        "\n",
        "When we are testing between two competing hypotheses, a null hypothesis $H_0$ and an alternative hypothesis $H_1$, we generally assume that the null hypothesis is true unless the data shows a strong indication that this is not the case. \n",
        "\n",
        "By doing hypotheses testing, we <u>test the probability of finding a sample statistic given that the null hypothesis is true</u>. If the null hypothesis is true, the difference between a sample statistics and the population parameter is <b>due to sampling error</b>, that is, fluctuations in the sample from the population. However, **if the probability of finding a sample statistic as extreme as ours under the null hypothesis is very small, we generally reject the null hypothesis**.\n",
        "\n",
        "> Test your understanding:\n",
        "\n",
        "\n",
        "1.   Imagine we have found a p value of 0.30 called p1 and another p value of 0.02 called p2, do these p values indicate strong evidence or weak evidence in favour of the null hypothesis? \n",
        ">> Answer: p1 indicates strong evidence in favour of the null hypothesis; p2 indicates weak evidence in favour of the null hypothesis.\n",
        "2.   What does a p value of 0.20 mean?\n",
        ">> Answer: A p value of 0.20 means that there's a probability of 20% of obtaining a similar result or more extreme given that the null hypothesis is true\n",
        "\n"
      ]
    },
    {
      "cell_type": "markdown",
      "metadata": {
        "id": "aj-PMwiGcXt0",
        "colab_type": "text"
      },
      "source": [
        "## Z test to compare two proportions from independent samples\n"
      ]
    },
    {
      "cell_type": "markdown",
      "metadata": {
        "id": "Jfi18O7wceAy",
        "colab_type": "text"
      },
      "source": [
        "We usually calculate two things:\n",
        "\n",
        "1.   The difference between two sample proportions\n",
        "2.   The standard error\n",
        "\n",
        "> Example\n",
        "<br>In this exercise we have a sample of 100 males with a proportion of left wing voters of 0.6 and a sample of 150 females with a proportion of left-wing voters of 0.42. "
      ]
    },
    {
      "cell_type": "code",
      "metadata": {
        "id": "FUxA6ostknT3",
        "colab_type": "code",
        "outputId": "2bb2ad45-499f-426b-8da6-3690fdbc8aa5",
        "colab": {
          "base_uri": "https://localhost:8080/",
          "height": 72
        }
      },
      "source": [
        "nmale=100\n",
        "nfemale=150\n",
        "malep=0.6\n",
        "femalep=0.42\n",
        "\n",
        "#pooled proportion\n",
        "poolp=(nmale*malep+nfemale*femalep)/(nmale+nfemale)\n",
        "\n",
        "#standard error under the null hypothesis\n",
        "se=np.sqrt(poolp*(1-poolp)*(1/nmale + 1/nfemale))\n",
        "\n",
        "#z calculated value\n",
        "z_val = (malep - femalep)/se\n",
        "\n",
        "#corresponding p value\n",
        "p_val = (1-st.norm.cdf(z_val))*2\n",
        "\n",
        "sig = 0.05\n",
        "if p_val <=sig:\n",
        "  conclusion='Rejected'\n",
        "else:\n",
        "  conclusion='Not enough evidence to reject'\n",
        "\n",
        "print(f'Calculated Z value: {z_val:.4f}\\nPvalue is: {p_val:.4f} \\nConclusion on Null Hypothesis given {sig} significance level: {conclusion}')"
      ],
      "execution_count": 0,
      "outputs": [
        {
          "output_type": "stream",
          "text": [
            "Calculated Z value: 2.7889\n",
            "Pvalue is: 0.0053 \n",
            "Conclusion on Null Hypothesis given 0.05 significance level: Rejected\n"
          ],
          "name": "stdout"
        }
      ]
    },
    {
      "cell_type": "markdown",
      "metadata": {
        "id": "pUyGJfsxzr0D",
        "colab_type": "text"
      },
      "source": [
        "Another way to conduct the test is to get the confidence interval of the difference from the two proportions. If 0 (null hypothesis) falls inside the interval, we will reject null hypotheseis. We need two parameters to conduct this test:\n",
        "\n",
        "1.   The z score corresponding to the selected confidence level: $(1-conf)/2$.\n",
        "2.   The standarad error for the difference between two proportions"
      ]
    },
    {
      "cell_type": "code",
      "metadata": {
        "id": "a1933ZnezrGl",
        "colab_type": "code",
        "outputId": "3f5478b7-d818-4032-f8b6-ec359c069a29",
        "colab": {
          "base_uri": "https://localhost:8080/",
          "height": 54
        }
      },
      "source": [
        "#z score under given confidence level\n",
        "sig=0.01\n",
        "z_score = np.abs(st.norm.ppf(sig/2))\n",
        "\n",
        "# standard error for the difference\n",
        "sep=np.sqrt(malep*(1-malep)/nmale + femalep*(1-femalep)/nfemale)\n",
        "\n",
        "#lower bound of confidence interval\n",
        "lb = (malep-femalep) - z_score*sep\n",
        "#upper bound of confidence interval\n",
        "ub = (malep-femalep) + z_score*sep\n",
        "\n",
        "print(f'{(1-sig)*100} percent confidence interval:\\n[{lb:.4f}, {ub:.4f}]')"
      ],
      "execution_count": 0,
      "outputs": [
        {
          "output_type": "stream",
          "text": [
            "99.0 percent confidence interval:\n",
            "[0.0166, 0.3434]\n"
          ],
          "name": "stdout"
        }
      ]
    },
    {
      "cell_type": "markdown",
      "metadata": {
        "id": "HYy3x9-f1fiV",
        "colab_type": "text"
      },
      "source": [
        "There are differences and these differences are significant because the 99% confidence interval does not contain 0."
      ]
    },
    {
      "cell_type": "markdown",
      "metadata": {
        "id": "TB-CBR5TvbMc",
        "colab_type": "text"
      },
      "source": [
        "The equivalent z test for two independent proportions is [proportions_ztest](https://www.statsmodels.org/stable/generated/statsmodels.stats.proportion.proportions_ztest.html)."
      ]
    },
    {
      "cell_type": "code",
      "metadata": {
        "id": "gS8sgKhXshbq",
        "colab_type": "code",
        "outputId": "bdc72e50-9f98-42fc-fa2c-5e903a4fbf6f",
        "colab": {
          "base_uri": "https://localhost:8080/",
          "height": 199
        }
      },
      "source": [
        "#equivalent in python\n",
        "\n",
        "from statsmodels.stats.proportion import proportions_ztest\n",
        "x_success = np.array([nmale*malep, nfemale*femalep])\n",
        "n_total = np.array([nmale, nfemale])\n",
        "z_val, p_val = proportions_ztest(count=x_success, nobs=n_total, alternative='two-sided')\n",
        "\n",
        "#make a function to give conclusion directly based on pvalue and significance level\n",
        "def testeval(sig, pval):\n",
        "  \n",
        "  \"\"\"\n",
        "  Conclusion of rejection status on null hypothesis given significance level\n",
        "  and the pvalue corresponding to calculated test statistic.\n",
        "\n",
        "  Parameters\n",
        "  ----------\n",
        "  sig: float\n",
        "    Significance level. Governs the chance of a false positive.\n",
        "      A significance level of 0.05 means that there is a 5% chance of\n",
        "      a false positive.\n",
        "  \n",
        "  pval: float\n",
        "    Calculated p value. The probability of obtaining a similar results\n",
        "    or more extreme given null hypothesis is true.\n",
        "  \n",
        "  Returns:\n",
        "  --------\n",
        "  result: string\n",
        "    Conclusion of rejection status on null hypothesis.\n",
        "  \"\"\"\n",
        "\n",
        "  if pval <=sig:\n",
        "    result = 'Rejected'\n",
        "  else:\n",
        "    result = 'Not enough evidence to reject'\n",
        "  return result\n",
        "\n",
        "siglevel = 0.05\n",
        "conclusion = testeval(siglevel, p_val)\n",
        "print(f'Calculated Z value: {z_val:.4f}\\nPvalue is: {p_val:.4f} \\nConclusion on Null Hypothesis given {siglevel} significance level: {conclusion}\\n')\n",
        "\n",
        "siglevel = 0.01\n",
        "conclusion = testeval(siglevel, p_val)\n",
        "print(f'Calculated Z value: {z_val:.4f}\\nPvalue is: {p_val:.4f} \\nConclusion on Null Hypothesis given {siglevel} significance level: {conclusion}\\n')\n",
        "\n",
        "def prop_confint_2ind(count, nobs, alpha=0.05):\n",
        "  \n",
        "  \"\"\"\n",
        "  A/B test for two proportions;\n",
        "  given a success a trial size of group A and B compute\n",
        "  its confidence interval;\n",
        "  resulting confidence interval matches R's prop.test function\n",
        "\n",
        "  Parameters\n",
        "  ----------\n",
        "  count: array\n",
        "      Number of successes in each group\n",
        "\n",
        "  nobs: array\n",
        "      Size, or number of observations in each group\n",
        "\n",
        "  alpha : float, default 0.05\n",
        "      Significance level. Governs the chance of a false positive.\n",
        "      A significance level of 0.05 means that there is a 5% chance of\n",
        "      a false positive. In other words, our confidence level is\n",
        "      1 - 0.05 = 0.95\n",
        "\n",
        "  Returns\n",
        "  -------\n",
        "  prop_diff : float\n",
        "      Difference between the two proportion\n",
        "\n",
        "  confint : 1d ndarray\n",
        "      Confidence interval of the two proportion test\n",
        "  \"\"\"  \n",
        "\n",
        "  a_success, b_success = count[0], count[1]\n",
        "  a_size, b_size = nobs[0], nobs[1]\n",
        "  a_prop, b_prop = a_success/a_size, b_success/b_size\n",
        "  prop_diff = a_prop-b_prop\n",
        "\n",
        "  #z score under given confidence level\n",
        "  z_score = np.abs(st.norm.ppf(alpha/2))\n",
        "\n",
        "  # standard error for the difference\n",
        "  sep=np.sqrt(a_prop*(1-a_prop)/a_size + b_prop*(1-b_prop)/b_size)\n",
        "\n",
        "  #lower bound of confidence interval\n",
        "  lb = prop_diff - z_score*sep\n",
        "  #upper bound of confidence interval\n",
        "  ub = prop_diff + z_score*sep\n",
        "  return prop_diff, [lb, ub]\n",
        "\n",
        "sig=0.01\n",
        "diff, [lowerb, upperb] = prop_confint_2ind(count=x_success, nobs=n_total, alpha=sig)\n",
        "print(f'{(1-sig)*100} percent confidence interval:\\n[{lowerb:.4f}, {upperb:.4f}]')"
      ],
      "execution_count": 0,
      "outputs": [
        {
          "output_type": "stream",
          "text": [
            "Calculated Z value: 2.7889\n",
            "Pvalue is: 0.0053 \n",
            "Conclusion on Null Hypothesis given 0.05 significance level: Rejected\n",
            "\n",
            "Calculated Z value: 2.7889\n",
            "Pvalue is: 0.0053 \n",
            "Conclusion on Null Hypothesis given 0.01 significance level: Rejected\n",
            "\n",
            "99.0 percent confidence interval:\n",
            "[0.0166, 0.3434]\n"
          ],
          "name": "stdout"
        }
      ]
    },
    {
      "cell_type": "markdown",
      "metadata": {
        "id": "jxJRP4FybcCX",
        "colab_type": "text"
      },
      "source": [
        "## T test to compare compare two means from independent samples"
      ]
    },
    {
      "cell_type": "markdown",
      "metadata": {
        "id": "L1PxAS6qcyF2",
        "colab_type": "text"
      },
      "source": [
        "we usually calculate 2 other things first\n",
        "\n",
        "1.   The difference between two independent sample means\n",
        "2.   The standard error of the difference between two independent sample means\n",
        "\n",
        "> Example\n",
        "<br>In this exercise we have a sample of 100 males that do sports on average 4.2 hours per week and a sample of 150 females that do sports on average 5.8 hours per week. \n",
        "*  Case a: the population variances are unequal in two groups\n",
        "*  Case b: the populatin variances are equal in two groups"
      ]
    },
    {
      "cell_type": "code",
      "metadata": {
        "id": "ZkcYbMG-vXNH",
        "colab_type": "code",
        "outputId": "07baaf26-6eb0-45f8-d8b1-56548ab67cdc",
        "colab": {
          "base_uri": "https://localhost:8080/",
          "height": 126
        }
      },
      "source": [
        "#Case a: the population variances are unequal\n",
        "nmale=100\n",
        "malemean=4.2\n",
        "stdmale=2.3\n",
        "nfemale=150\n",
        "femalemean=5.8\n",
        "stdfemale=3.1\n",
        "\n",
        "#standard eror for the difference between two means\n",
        "se=np.sqrt(stdmale**2/nmale+stdfemale**2/nfemale)\n",
        "\n",
        "#mean difference\n",
        "diff=malemean-femalemean\n",
        "\n",
        "#t value\n",
        "t_val=diff/se\n",
        "\n",
        "#degree of freedom\n",
        "df=se**2/((1/(nmale-1)*(stdmale**2/nmale)**2)+(1/(nfemale-1)*(stdfemale**2/nfemale)**2))\n",
        "\n",
        "#calculate the p value\n",
        "pval=(1-st.t.cdf(np.abs(t_val), df))*2\n",
        "siglevel=0.01\n",
        "conclusion=testeval(siglevel, pval)\n",
        "print(f'Calculated T value: {t_val:.4f}\\nPvalue is: {pval:.4f} \\nConclusion on Null Hypothesis given {siglevel} significance level: {conclusion}\\n')\n",
        "\n",
        "# calculate the 99% confidence interval\n",
        "t_score=np.abs(st.t.ppf(siglevel/2, df))\n",
        "lb = diff-t_score*(se)\n",
        "ub = diff+t_score*(se)\n",
        "print(f'{(1-siglevel)*100} percent confidence interval:\\n[{lb:.4f}, {ub:.4f}]')\n"
      ],
      "execution_count": 0,
      "outputs": [
        {
          "output_type": "stream",
          "text": [
            "Calculated T value: -4.6783\n",
            "Pvalue is: 0.0000 \n",
            "Conclusion on Null Hypothesis given 0.01 significance level: Rejected\n",
            "\n",
            "99.0 percent confidence interval:\n",
            "[-2.4817, -0.7183]\n"
          ],
          "name": "stdout"
        }
      ]
    },
    {
      "cell_type": "code",
      "metadata": {
        "id": "sbIdtfYngJX3",
        "colab_type": "code",
        "outputId": "c2986199-01c5-454f-e3ab-43b46e48cdbb",
        "colab": {
          "base_uri": "https://localhost:8080/",
          "height": 126
        }
      },
      "source": [
        "#Case b: the population variances are equal\n",
        "nmale=100\n",
        "malemean=4.2\n",
        "nfemale=150\n",
        "femalemean=5.8\n",
        "std=2.8\n",
        "\n",
        "#mean difference\n",
        "diff=malemean-femalemean\n",
        "\n",
        "#pooled standard deviation\n",
        "s=np.sqrt(((nmale-1)*std**2 + (nfemale-1)*std**2)/(nmale-1+nfemale-1))\n",
        "\n",
        "#standard eror for the difference between two means\n",
        "se=s*np.sqrt(1/nmale+1/nfemale)\n",
        "\n",
        "#t value\n",
        "t_val=diff/se\n",
        "\n",
        "#degree of freedom\n",
        "df=nmale+nfemale-2\n",
        "\n",
        "#calculate the p value\n",
        "pval=(1-st.t.cdf(np.abs(t_val), df))*2\n",
        "siglevel=0.01\n",
        "conclusion=testeval(siglevel, pval)\n",
        "print(f'Calculated T value: {t_val:.4f}\\nPvalue is: {pval:.4f} \\nConclusion on Null Hypothesis given {siglevel} significance level: {conclusion}\\n')\n",
        "\n",
        "# calculate the 99% confidence interval\n",
        "t_score=np.abs(st.t.ppf(siglevel/2, df))\n",
        "lb = diff-t_score*(se)\n",
        "ub = diff+t_score*(se)\n",
        "print(f'{(1-siglevel)*100} percent confidence interval:\\n[{lb:.4f}, {ub:.4f}]')\n"
      ],
      "execution_count": 0,
      "outputs": [
        {
          "output_type": "stream",
          "text": [
            "Calculated T value: -4.4263\n",
            "Pvalue is: 0.0000 \n",
            "Conclusion on Null Hypothesis given 0.01 significance level: Rejected\n",
            "\n",
            "99.0 percent confidence interval:\n",
            "[-2.5383, -0.6617]\n"
          ],
          "name": "stdout"
        }
      ]
    },
    {
      "cell_type": "markdown",
      "metadata": {
        "id": "wCL0fklymi0a",
        "colab_type": "text"
      },
      "source": [
        "Equivalent t test for two independent is [ttest_ind](https://docs.scipy.org/doc/scipy-0.15.1/reference/generated/scipy.stats.ttest_ind.html) from scipy or [ttest_ind](https://www.statsmodels.org/stable/generated/statsmodels.stats.weightstats.ttest_ind.html) from statsmodels. Both methods take data points as array directly, without specifically giving mean, standard deviation, or size."
      ]
    },
    {
      "cell_type": "code",
      "metadata": {
        "id": "2QimHYslkxRP",
        "colab_type": "code",
        "outputId": "61ea642e-38f3-4877-accc-16045cdef0a9",
        "colab": {
          "base_uri": "https://localhost:8080/",
          "height": 90
        }
      },
      "source": [
        "from statsmodels.stats.weightstats import ttest_ind\n",
        "\n",
        "#generate random data with mean, std, size as above sample.\n",
        "## equal variance\n",
        "rvmale=np.random.normal(loc=malemean, scale=std, size=nmale)\n",
        "rvmale_fix = (rvmale - np.mean(rvmale)) * (std / np.std(rvmale)) + malemean #fix mean problem\n",
        "rvfemale=np.random.normal(loc=femalemean, scale=std, size=nfemale)\n",
        "rvfemale_fix = (rvfemale - np.mean(rvfemale)) * (std / np.std(rvfemale)) + femalemean #fix mean problem\n",
        "\n",
        "t_val, pval, df=ttest_ind(rvmale_fix, rvfemale_fix, alternative='two-sided', usevar='pooled', value=0)\n",
        "conclusion=testeval(0.01, pval)\n",
        "print(f'Calculated T value: {t_val:.4f}\\nPvalue is: {pval:.4f} \\nConclusion on Null Hypothesis given {0.01} significance level: {conclusion}\\n')"
      ],
      "execution_count": 0,
      "outputs": [
        {
          "output_type": "stream",
          "text": [
            "Calculated T value: -4.4085\n",
            "Pvalue is: 0.0000 \n",
            "Conclusion on Null Hypothesis given 0.01 significance level: Rejected\n",
            "\n"
          ],
          "name": "stdout"
        }
      ]
    },
    {
      "cell_type": "code",
      "metadata": {
        "id": "6boQjYn2ruZ6",
        "colab_type": "code",
        "outputId": "ea6c8968-59b3-44c8-8fcc-59b6dd4a2819",
        "colab": {
          "base_uri": "https://localhost:8080/",
          "height": 90
        }
      },
      "source": [
        "## unequal variance\n",
        "rvmale=np.random.normal(loc=malemean, scale=stdmale, size=nmale)\n",
        "rvmale_fix = (rvmale - np.mean(rvmale)) * (stdmale / np.std(rvmale)) + malemean #fix mean problem\n",
        "rvfemale=np.random.normal(loc=femalemean, scale=stdfemale, size=nfemale)\n",
        "rvfemale_fix = (rvfemale - np.mean(rvfemale)) * (stdfemale / np.std(rvfemale)) + femalemean #fix mean problem\n",
        "\n",
        "t_val, pval, df=ttest_ind(rvmale_fix, rvfemale_fix, alternative='two-sided', usevar='unequal', value=0)\n",
        "conclusion=testeval(0.01, pval)\n",
        "print(f'Calculated T value: {t_val:.4f}\\nPvalue is: {pval:.4f} \\nConclusion on Null Hypothesis given {0.01} significance level: {conclusion}\\n')"
      ],
      "execution_count": 0,
      "outputs": [
        {
          "output_type": "stream",
          "text": [
            "Calculated T value: -4.6591\n",
            "Pvalue is: 0.0000 \n",
            "Conclusion on Null Hypothesis given 0.01 significance level: Rejected\n",
            "\n"
          ],
          "name": "stdout"
        }
      ]
    },
    {
      "cell_type": "markdown",
      "metadata": {
        "id": "fxYt1RnZu2QF",
        "colab_type": "text"
      },
      "source": [
        "How to interpret the result?\n",
        "\n",
        "Given that the null hypothesis is true, there is a probability of 0.000005 (5.21345e-06) of obtaining a result equally or more extreme. We are 99% confident that the population difference in hours of sport per week between males and females is between -2.4817 and -0.7183 hours per week."
      ]
    },
    {
      "cell_type": "markdown",
      "metadata": {
        "id": "DMMTVNLlv29p",
        "colab_type": "text"
      },
      "source": [
        "## Comparing two proportions for paired sample - McNemar's Test"
      ]
    },
    {
      "cell_type": "markdown",
      "metadata": {
        "id": "kActllXBwTK1",
        "colab_type": "text"
      },
      "source": [
        "Working with dependent data, such as twins, couples, same subject from different time, we will need to use different methods from above.\n",
        "\n",
        "> Example\n",
        "<br> Our research question here is whether there is a difference between the proportion of surveyed individuals that approve of the European union and the proportion of their partners that approve of the European union. What would be a good pair of hypotheses?\n",
        "<br>Answer\n",
        "<br>$H_0$: The proportion of EU approval is not different in surveyed individuals and their partners. $H_1$: The proportion of EU approval is different in surveyed individuals and their partners"
      ]
    },
    {
      "cell_type": "code",
      "metadata": {
        "id": "W7rKbgGnwitc",
        "colab_type": "code",
        "outputId": "e2f4723c-3163-4857-dd6a-7fac3ccc19b4",
        "colab": {
          "base_uri": "https://localhost:8080/",
          "height": 168
        }
      },
      "source": [
        "import pandas as pd\n",
        "\n",
        "col_index=pd.MultiIndex.from_tuples([('Partner Approves of the EU', 'Yes'), ('Partner Approves of the EU', 'No')])\n",
        "row_index=pd.MultiIndex.from_tuples([('Survey Individuals that approve of the EU', 'Yes'),('Survey Individuals that approve of the EU', 'No')])\n",
        "survey = pd.DataFrame(np.array([[150, 50], [35, 100]]), index=row_index, columns=col_index)\n",
        "survey['row_totals'] = survey.sum(axis=1)\n",
        "s=survey.sum(axis=0)\n",
        "s.name='column_totals'\n",
        "survey = survey.append(s)\n",
        "display(survey)"
      ],
      "execution_count": 0,
      "outputs": [
        {
          "output_type": "display_data",
          "data": {
            "text/html": [
              "<div>\n",
              "<style scoped>\n",
              "    .dataframe tbody tr th:only-of-type {\n",
              "        vertical-align: middle;\n",
              "    }\n",
              "\n",
              "    .dataframe tbody tr th {\n",
              "        vertical-align: top;\n",
              "    }\n",
              "\n",
              "    .dataframe thead tr th {\n",
              "        text-align: left;\n",
              "    }\n",
              "</style>\n",
              "<table border=\"1\" class=\"dataframe\">\n",
              "  <thead>\n",
              "    <tr>\n",
              "      <th></th>\n",
              "      <th colspan=\"2\" halign=\"left\">Partner Approves of the EU</th>\n",
              "      <th>row_totals</th>\n",
              "    </tr>\n",
              "    <tr>\n",
              "      <th></th>\n",
              "      <th>Yes</th>\n",
              "      <th>No</th>\n",
              "      <th></th>\n",
              "    </tr>\n",
              "  </thead>\n",
              "  <tbody>\n",
              "    <tr>\n",
              "      <th>(Survey Individuals that approve of the EU, Yes)</th>\n",
              "      <td>150</td>\n",
              "      <td>50</td>\n",
              "      <td>200</td>\n",
              "    </tr>\n",
              "    <tr>\n",
              "      <th>(Survey Individuals that approve of the EU, No)</th>\n",
              "      <td>35</td>\n",
              "      <td>100</td>\n",
              "      <td>135</td>\n",
              "    </tr>\n",
              "    <tr>\n",
              "      <th>column_totals</th>\n",
              "      <td>185</td>\n",
              "      <td>150</td>\n",
              "      <td>335</td>\n",
              "    </tr>\n",
              "  </tbody>\n",
              "</table>\n",
              "</div>"
            ],
            "text/plain": [
              "                                                 Partner Approves of the EU  ... row_totals\n",
              "                                                                        Yes  ...           \n",
              "(Survey Individuals that approve of the EU, Yes)                        150  ...        200\n",
              "(Survey Individuals that approve of the EU, No)                          35  ...        135\n",
              "column_totals                                                           185  ...        335\n",
              "\n",
              "[3 rows x 3 columns]"
            ]
          },
          "metadata": {
            "tags": []
          }
        }
      ]
    },
    {
      "cell_type": "code",
      "metadata": {
        "id": "JSSpckQ2z9cr",
        "colab_type": "code",
        "outputId": "5e36de59-0915-4b87-c3f8-ead90297ff62",
        "colab": {
          "base_uri": "https://localhost:8080/",
          "height": 90
        }
      },
      "source": [
        "#calculate z value\n",
        "z_val=(50-35)/np.sqrt(50+35)\n",
        "\n",
        "#get pvalue\n",
        "pval=(1-st.norm.cdf(np.abs(z_val)))*2\n",
        "siglevel=0.05\n",
        "conclusion=testeval(siglevel, pval)\n",
        "print(f'Calculated Z value: {z_val:.4f}\\nPvalue is: {pval:.4f} \\nConclusion on Null Hypothesis given {siglevel} significance level: {conclusion}\\n')"
      ],
      "execution_count": 0,
      "outputs": [
        {
          "output_type": "stream",
          "text": [
            "Calculated Z value: 1.6270\n",
            "Pvalue is: 0.1037 \n",
            "Conclusion on Null Hypothesis given 0.05 significance level: Not enough evidence to reject\n",
            "\n"
          ],
          "name": "stdout"
        }
      ]
    },
    {
      "cell_type": "markdown",
      "metadata": {
        "id": "NmSns86h4c3l",
        "colab_type": "text"
      },
      "source": [
        "The equivalent [mcnemar's test](http://www.statsmodels.org/dev/generated/statsmodels.stats.contingency_tables.mcnemar.html) in statsmodelss."
      ]
    },
    {
      "cell_type": "code",
      "metadata": {
        "id": "oi9KErQf28lk",
        "colab_type": "code",
        "outputId": "10eba6a2-c061-432c-b9c0-d35ce0511bc6",
        "colab": {
          "base_uri": "https://localhost:8080/",
          "height": 54
        }
      },
      "source": [
        "from statsmodels.stats.contingency_tables import mcnemar\n",
        "result = mcnemar(survey.iloc[:2, :2].to_numpy(), exact=False, correction=False)\n",
        "print(result)"
      ],
      "execution_count": 0,
      "outputs": [
        {
          "output_type": "stream",
          "text": [
            "pvalue      0.1037416782365415\n",
            "statistic   2.6470588235294117\n"
          ],
          "name": "stdout"
        }
      ]
    },
    {
      "cell_type": "markdown",
      "metadata": {
        "id": "2hmbdO1w9tWE",
        "colab_type": "text"
      },
      "source": [
        "## Compare two means for paired samples\n",
        "\n",
        "> Example\n",
        "<br>An example when we would do this is if we would want to know the effectiveness of a diet on people's weight. Our research question here is whether the diet that we have invented leads to a reduction in weight. As such our research question is directional. What would be a good set of hypotheses?\n",
        "<br>Answer: \n",
        "<br>$H_0$: There is no difference in people's weight before and after the diet. $H_1$: There is a reduction in weight after taking the diet."
      ]
    },
    {
      "cell_type": "code",
      "metadata": {
        "id": "AkaA6SeN6ibh",
        "colab_type": "code",
        "outputId": "c557c377-2ce0-4f38-e2a6-7b7981e22584",
        "colab": {
          "base_uri": "https://localhost:8080/",
          "height": 90
        }
      },
      "source": [
        "#generate data\n",
        "pre_weight=np.random.normal(loc=81.53587, scale=8.113578, size=100)\n",
        "pre_weight_fix=(pre_weight-np.mean(pre_weight))*(8.113578/np.std(pre_weight))+81.5358\n",
        "\n",
        "post_weight=np.random.normal(loc=78.20945, scale=9.223542, size=100)\n",
        "post_weight_fix=(post_weight-np.mean(post_weight))*(9.223542/np.std(pre_weight))+78.20945\n",
        "\n",
        "# get the difference of the two means\n",
        "diff = pre_weight_fix.mean()-post_weight_fix.mean()\n",
        "\n",
        "#standard deviation of the differences\n",
        "stddiff = np.std(pre_weight_fix-post_weight_fix)\n",
        "\n",
        "#standard error of the difference\n",
        "se=stddiff/np.sqrt(100)\n",
        "\n",
        "tval=diff/se \n",
        "pval=(1-st.t.cdf(np.abs(tval), 100-1))*2\n",
        "siglevel=0.05\n",
        "conclusion=testeval(siglevel, pval)\n",
        "print(f'Calculated t value: {tval:.4f}\\nPvalue is: {pval:.4f} \\nConclusion on Null Hypothesis given {siglevel} significance level: {conclusion}\\n')"
      ],
      "execution_count": 0,
      "outputs": [
        {
          "output_type": "stream",
          "text": [
            "Calculated t value: 2.3788\n",
            "Pvalue is: 0.0193 \n",
            "Conclusion on Null Hypothesis given 0.05 significance level: Rejected\n",
            "\n"
          ],
          "name": "stdout"
        }
      ]
    },
    {
      "cell_type": "markdown",
      "metadata": {
        "id": "FCTNnyPWuxaf",
        "colab_type": "text"
      },
      "source": [
        "# Categorical Association"
      ]
    },
    {
      "cell_type": "markdown",
      "metadata": {
        "id": "I1ZOoNtJve07",
        "colab_type": "text"
      },
      "source": [
        "## Chi-square"
      ]
    },
    {
      "cell_type": "markdown",
      "metadata": {
        "id": "tngpfiREv-lH",
        "colab_type": "text"
      },
      "source": [
        "We would like to find the association between two categorical varianbes. In below example, we are an advertisement company that have collected data coming from three different groups: Student, Parent, and Corporate. We are interested to know which ad type interests which group, so we can invest corresponding ads in those groups. Below data shows votes from different audience groups on their favorite ads: Party, Child, Office. \n",
        "\n",
        "To be specific, we need to find out two things:\n",
        "1.   Is the ad type has any association with audience group?\n",
        "2.   If there's association, which audience is in favor of which ad type?"
      ]
    },
    {
      "cell_type": "code",
      "metadata": {
        "id": "AbZJi392BMVZ",
        "colab_type": "code",
        "outputId": "7da3fe09-ccd3-4e61-e40f-0a8d9c6accd7",
        "colab": {
          "base_uri": "https://localhost:8080/",
          "height": 138
        }
      },
      "source": [
        "data = pd.DataFrame(np.array([[12, 5, 6],[7, 15, 7],[5, 5, 14]]), columns=['Party', 'Child', 'Office'], index=['Student', 'Parent', 'Corporate'])\n",
        "display(data)"
      ],
      "execution_count": 0,
      "outputs": [
        {
          "output_type": "display_data",
          "data": {
            "text/html": [
              "<div>\n",
              "<style scoped>\n",
              "    .dataframe tbody tr th:only-of-type {\n",
              "        vertical-align: middle;\n",
              "    }\n",
              "\n",
              "    .dataframe tbody tr th {\n",
              "        vertical-align: top;\n",
              "    }\n",
              "\n",
              "    .dataframe thead th {\n",
              "        text-align: right;\n",
              "    }\n",
              "</style>\n",
              "<table border=\"1\" class=\"dataframe\">\n",
              "  <thead>\n",
              "    <tr style=\"text-align: right;\">\n",
              "      <th></th>\n",
              "      <th>Party</th>\n",
              "      <th>Child</th>\n",
              "      <th>Office</th>\n",
              "    </tr>\n",
              "  </thead>\n",
              "  <tbody>\n",
              "    <tr>\n",
              "      <th>Student</th>\n",
              "      <td>12</td>\n",
              "      <td>5</td>\n",
              "      <td>6</td>\n",
              "    </tr>\n",
              "    <tr>\n",
              "      <th>Parent</th>\n",
              "      <td>7</td>\n",
              "      <td>15</td>\n",
              "      <td>7</td>\n",
              "    </tr>\n",
              "    <tr>\n",
              "      <th>Corporate</th>\n",
              "      <td>5</td>\n",
              "      <td>5</td>\n",
              "      <td>14</td>\n",
              "    </tr>\n",
              "  </tbody>\n",
              "</table>\n",
              "</div>"
            ],
            "text/plain": [
              "           Party  Child  Office\n",
              "Student       12      5       6\n",
              "Parent         7     15       7\n",
              "Corporate      5      5      14"
            ]
          },
          "metadata": {
            "tags": []
          }
        }
      ]
    },
    {
      "cell_type": "markdown",
      "metadata": {
        "id": "XK7MbKp_xuLw",
        "colab_type": "text"
      },
      "source": [
        "We can conduct chi-square test to test the association between two categorical variables using scipy modules."
      ]
    },
    {
      "cell_type": "code",
      "metadata": {
        "id": "Zk4GbCMsv834",
        "colab_type": "code",
        "outputId": "c248b5c0-6144-4bb5-880f-77ab93fccfa3",
        "colab": {
          "base_uri": "https://localhost:8080/",
          "height": 108
        }
      },
      "source": [
        "from scipy.stats import chi2_contingency\n",
        "\n",
        "c_stat, pval, df, expected_val = chi2_contingency(data)\n",
        "expected_val = expected_val.round(1)\n",
        "\n",
        "print('Expected Value if these two categorical varianbles are not related:')\n",
        "display(expected_val)\n",
        "\n",
        "print('Calculated P value: {}'.format(pval))"
      ],
      "execution_count": 0,
      "outputs": [
        {
          "output_type": "stream",
          "text": [
            "Expected Value if these two categorical varianbles are not related:\n"
          ],
          "name": "stdout"
        },
        {
          "output_type": "display_data",
          "data": {
            "text/plain": [
              "array([[ 7.3,  7.6,  8.2],\n",
              "       [ 9.2,  9.5, 10.3],\n",
              "       [ 7.6,  7.9,  8.5]])"
            ]
          },
          "metadata": {
            "tags": []
          }
        },
        {
          "output_type": "stream",
          "text": [
            "Calculated P value: 0.005408290803578588\n"
          ],
          "name": "stdout"
        }
      ]
    },
    {
      "cell_type": "markdown",
      "metadata": {
        "id": "p9k9MdN3yS4Z",
        "colab_type": "text"
      },
      "source": [
        "Here we can see that the expected values are far off from the observed data. Moreover, there are only 0.5% chance to observe such data if audience group has nothing to do with advertisement type. Hene, we rejected the null hypothesis in favor of the alternative hypothesis, i.e. the audience group has preference on their ad type. \n",
        "\n",
        "But how strong is this association? We can use Cramer's V to check its strength, where 0 means no association, and 1 is perfect. "
      ]
    },
    {
      "cell_type": "code",
      "metadata": {
        "id": "OniHoPVSyJfb",
        "colab_type": "code",
        "outputId": "e6cdcfac-7968-4114-832b-9d3e936d59a8",
        "colab": {
          "base_uri": "https://localhost:8080/",
          "height": 35
        }
      },
      "source": [
        "n=data.sum().sum() #the total number of observation\n",
        "m=min(data.shape)-1 #either the number of rows or columns whichever the smallest - 1\n",
        "cramerV=np.sqrt(c_stat/(n*m))\n",
        "print(cramerV)"
      ],
      "execution_count": 0,
      "outputs": [
        {
          "output_type": "stream",
          "text": [
            "0.3107928316933293\n"
          ],
          "name": "stdout"
        }
      ]
    },
    {
      "cell_type": "markdown",
      "metadata": {
        "id": "FkSjU7sp2PPU",
        "colab_type": "text"
      },
      "source": [
        "Cramers V is about 0.31, which is pretty modest.\n",
        "\n",
        "But which ads is preferred or least preferred by each audience group? We can use standard residusals to see where there is the most deviation from the expected values.\n",
        "\n",
        "To standardise our residuals we need to divide each residual value by its standard error. We can directly get this value by using statsmodel api."
      ]
    },
    {
      "cell_type": "code",
      "metadata": {
        "id": "N1oDjes5zFdT",
        "colab_type": "code",
        "outputId": "6884a9a5-0e9f-4e93-9458-8d9b5427de64",
        "colab": {
          "base_uri": "https://localhost:8080/",
          "height": 138
        }
      },
      "source": [
        "import statsmodels.api as sm\n",
        "# need to make a contingency table format\n",
        "table = sm.stats.Table(data)\n",
        "\n",
        "#standardized residuals\n",
        "table.standardized_resids"
      ],
      "execution_count": 0,
      "outputs": [
        {
          "output_type": "execute_result",
          "data": {
            "text/html": [
              "<div>\n",
              "<style scoped>\n",
              "    .dataframe tbody tr th:only-of-type {\n",
              "        vertical-align: middle;\n",
              "    }\n",
              "\n",
              "    .dataframe tbody tr th {\n",
              "        vertical-align: top;\n",
              "    }\n",
              "\n",
              "    .dataframe thead th {\n",
              "        text-align: right;\n",
              "    }\n",
              "</style>\n",
              "<table border=\"1\" class=\"dataframe\">\n",
              "  <thead>\n",
              "    <tr style=\"text-align: right;\">\n",
              "      <th></th>\n",
              "      <th>Party</th>\n",
              "      <th>Child</th>\n",
              "      <th>Office</th>\n",
              "    </tr>\n",
              "  </thead>\n",
              "  <tbody>\n",
              "    <tr>\n",
              "      <th>Student</th>\n",
              "      <td>2.544487</td>\n",
              "      <td>-1.363592</td>\n",
              "      <td>-1.132685</td>\n",
              "    </tr>\n",
              "    <tr>\n",
              "      <th>Parent</th>\n",
              "      <td>-1.096214</td>\n",
              "      <td>2.744428</td>\n",
              "      <td>-1.629494</td>\n",
              "    </tr>\n",
              "    <tr>\n",
              "      <th>Corporate</th>\n",
              "      <td>-1.369141</td>\n",
              "      <td>-1.520432</td>\n",
              "      <td>2.822363</td>\n",
              "    </tr>\n",
              "  </tbody>\n",
              "</table>\n",
              "</div>"
            ],
            "text/plain": [
              "              Party     Child    Office\n",
              "Student    2.544487 -1.363592 -1.132685\n",
              "Parent    -1.096214  2.744428 -1.629494\n",
              "Corporate -1.369141 -1.520432  2.822363"
            ]
          },
          "metadata": {
            "tags": []
          },
          "execution_count": 7
        }
      ]
    },
    {
      "cell_type": "markdown",
      "metadata": {
        "id": "boDl3J583zLO",
        "colab_type": "text"
      },
      "source": [
        "From this you can see that the biggest values are for the student + party cell, parent + child cell and the corporate + office cell."
      ]
    },
    {
      "cell_type": "markdown",
      "metadata": {
        "id": "7AwBkp2M0I0a",
        "colab_type": "text"
      },
      "source": [
        "## Chi-square goodness of fit"
      ]
    },
    {
      "cell_type": "markdown",
      "metadata": {
        "id": "LqcsKxlO0L7A",
        "colab_type": "text"
      },
      "source": [
        "Your null hypothesis is that 60% of college students go to parties regularly, 30% go occaisionally and 10% never go. You want to test if your observed data matched this proportions. The solution of this question will be very similar to the above question. The difference will be you will need to calculate the expected counts based on the expected proportions listed in null hypothesis."
      ]
    },
    {
      "cell_type": "code",
      "metadata": {
        "id": "U4tuxsB41UIY",
        "colab_type": "code",
        "outputId": "6d8db75e-cc84-4d97-9d62-f76cde45f947",
        "colab": {
          "base_uri": "https://localhost:8080/",
          "height": 108
        }
      },
      "source": [
        "exp_p=np.array([0.6, 0.3, 0.1]) #expected proportions\n",
        "exp_count=data.loc['Student'].sum()*exp_p\n",
        "display(pd.DataFrame([exp_count, data.loc['Student']], index=['expected', 'observed'], columns=data.columns))\n"
      ],
      "execution_count": 0,
      "outputs": [
        {
          "output_type": "display_data",
          "data": {
            "text/html": [
              "<div>\n",
              "<style scoped>\n",
              "    .dataframe tbody tr th:only-of-type {\n",
              "        vertical-align: middle;\n",
              "    }\n",
              "\n",
              "    .dataframe tbody tr th {\n",
              "        vertical-align: top;\n",
              "    }\n",
              "\n",
              "    .dataframe thead th {\n",
              "        text-align: right;\n",
              "    }\n",
              "</style>\n",
              "<table border=\"1\" class=\"dataframe\">\n",
              "  <thead>\n",
              "    <tr style=\"text-align: right;\">\n",
              "      <th></th>\n",
              "      <th>Party</th>\n",
              "      <th>Child</th>\n",
              "      <th>Office</th>\n",
              "    </tr>\n",
              "  </thead>\n",
              "  <tbody>\n",
              "    <tr>\n",
              "      <th>expected</th>\n",
              "      <td>13.8</td>\n",
              "      <td>6.9</td>\n",
              "      <td>2.3</td>\n",
              "    </tr>\n",
              "    <tr>\n",
              "      <th>observed</th>\n",
              "      <td>12.0</td>\n",
              "      <td>5.0</td>\n",
              "      <td>6.0</td>\n",
              "    </tr>\n",
              "  </tbody>\n",
              "</table>\n",
              "</div>"
            ],
            "text/plain": [
              "          Party  Child  Office\n",
              "expected   13.8    6.9     2.3\n",
              "observed   12.0    5.0     6.0"
            ]
          },
          "metadata": {
            "tags": []
          }
        }
      ]
    },
    {
      "cell_type": "markdown",
      "metadata": {
        "id": "9YcezOua1ZpX",
        "colab_type": "text"
      },
      "source": [
        "We can see that `Office` group deviates the most from expected values. We will be using [chisqure](https://docs.scipy.org/doc/scipy/reference/generated/scipy.stats.chisquare.html) to get test statistic and p value."
      ]
    },
    {
      "cell_type": "code",
      "metadata": {
        "id": "8ErVW0vT0_G1",
        "colab_type": "code",
        "outputId": "81be48e5-6ae9-4828-e262-9ad2fdb934d5",
        "colab": {
          "base_uri": "https://localhost:8080/",
          "height": 54
        }
      },
      "source": [
        "from scipy.stats import chisquare\n",
        "c_stat, pval = chisquare(data.loc['Student'], f_exp=exp_count)\n",
        "print(f'chi square: {c_stat:.4f}\\n p value: {pval:.4f}')"
      ],
      "execution_count": 0,
      "outputs": [
        {
          "output_type": "stream",
          "text": [
            "chi square: 6.7101\n",
            " p value: 0.0349\n"
          ],
          "name": "stdout"
        }
      ]
    },
    {
      "cell_type": "markdown",
      "metadata": {
        "id": "0QYEmycp3Qhx",
        "colab_type": "text"
      },
      "source": [
        "As the calculated p value is smaller than 0.05 significance level, we rejected the null hypothesis. It means college students in our sample differed from the expected distribution."
      ]
    },
    {
      "cell_type": "markdown",
      "metadata": {
        "id": "HCKEvc-N4FP0",
        "colab_type": "text"
      },
      "source": [
        "## Fisher's Exact Test"
      ]
    },
    {
      "cell_type": "markdown",
      "metadata": {
        "id": "CUGpufao6Sh4",
        "colab_type": "text"
      },
      "source": [
        "One of the assumption for chi-squre test is the minimum count in each cell is 5. When this assumption is not met, we can use Fisher's Exact Test to check two categorical variables' association.\n",
        "\n",
        "Fisher's exact test compares the observed values to a probability distribution. We find this comparison distribution by examining all possible rearrangements of our table. The restrictions are that the marginal frequencies must be the same.\n",
        "\n",
        "> Example\n",
        "<br>You had expected that parents would like the ad with a child in it because you thought that people with children like children more.\n",
        "To investigate this further, you took a sample of 15 adults, asked them whether or not they have children, and whether or not they like children. The results are saved in your console as a 2x2 table named child.\n",
        "\n",
        "We can perform Fisher's exact test using the function [fisher_exact](https://docs.scipy.org/doc/scipy/reference/generated/scipy.stats.fisher_exact.html).\n",
        "\n",
        "> Null Hpothesis:\n",
        "<br> $H_0$: The two variables are independent."
      ]
    },
    {
      "cell_type": "code",
      "metadata": {
        "id": "vFBZOXH11oTN",
        "colab_type": "code",
        "outputId": "d995666d-cd5c-4bd7-e8de-86cda2a5079d",
        "colab": {
          "base_uri": "https://localhost:8080/",
          "height": 108
        }
      },
      "source": [
        "child = pd.DataFrame(np.array([[7, 10], [1, 9]]), columns=['like', 'dislike'], index=['children', 'nochildren'])\n",
        "display(child)"
      ],
      "execution_count": 0,
      "outputs": [
        {
          "output_type": "display_data",
          "data": {
            "text/html": [
              "<div>\n",
              "<style scoped>\n",
              "    .dataframe tbody tr th:only-of-type {\n",
              "        vertical-align: middle;\n",
              "    }\n",
              "\n",
              "    .dataframe tbody tr th {\n",
              "        vertical-align: top;\n",
              "    }\n",
              "\n",
              "    .dataframe thead th {\n",
              "        text-align: right;\n",
              "    }\n",
              "</style>\n",
              "<table border=\"1\" class=\"dataframe\">\n",
              "  <thead>\n",
              "    <tr style=\"text-align: right;\">\n",
              "      <th></th>\n",
              "      <th>like</th>\n",
              "      <th>dislike</th>\n",
              "    </tr>\n",
              "  </thead>\n",
              "  <tbody>\n",
              "    <tr>\n",
              "      <th>children</th>\n",
              "      <td>7</td>\n",
              "      <td>10</td>\n",
              "    </tr>\n",
              "    <tr>\n",
              "      <th>nochildren</th>\n",
              "      <td>1</td>\n",
              "      <td>9</td>\n",
              "    </tr>\n",
              "  </tbody>\n",
              "</table>\n",
              "</div>"
            ],
            "text/plain": [
              "            like  dislike\n",
              "children       7       10\n",
              "nochildren     1        9"
            ]
          },
          "metadata": {
            "tags": []
          }
        }
      ]
    },
    {
      "cell_type": "code",
      "metadata": {
        "id": "z8SyvEPI60PG",
        "colab_type": "code",
        "outputId": "bd6918b6-121c-4cd1-86c7-79ea177d52e8",
        "colab": {
          "base_uri": "https://localhost:8080/",
          "height": 54
        }
      },
      "source": [
        "from scipy.stats import fisher_exact\n",
        "odds_ratio, pval = fisher_exact(child, alternative='two-sided')\n",
        "print(f'Odds ratio: {odds_ratio:.4f}\\n p value: {pval:.4f}')"
      ],
      "execution_count": 0,
      "outputs": [
        {
          "output_type": "stream",
          "text": [
            "Odds ratio: 6.3000\n",
            " p value: 0.1895\n"
          ],
          "name": "stdout"
        }
      ]
    },
    {
      "cell_type": "markdown",
      "metadata": {
        "id": "qepx_BCm9D6H",
        "colab_type": "text"
      },
      "source": [
        "The probability that we would observe this or an even more imbalanced ratio by chance is about 18.95%. Using significance level at 5%, we cannot conclude that our observed imbalance is statistically significant; \n",
        "there is probably not an association between having children and liking them."
      ]
    },
    {
      "cell_type": "markdown",
      "metadata": {
        "id": "LKEtCtem-Ou4",
        "colab_type": "text"
      },
      "source": [
        "# Regression"
      ]
    },
    {
      "cell_type": "markdown",
      "metadata": {
        "id": "bpBS-7c9KKLB",
        "colab_type": "text"
      },
      "source": [
        "## Simple Regression"
      ]
    },
    {
      "cell_type": "markdown",
      "metadata": {
        "id": "8P5aAi8H-4Kc",
        "colab_type": "text"
      },
      "source": [
        "For simple linear regresion, we focus on two parameters: intercept, and slope. The intercept is the value of the response variable when the predictor is 0. If we do not have any predictors(i.e. no other clues), the average of response variable is a common choise for estimation.\n",
        "\n",
        "There are many ways to get these two parameters in Python. You can check this [blog](https://www.freecodecamp.org/news/data-science-with-python-8-ways-to-do-linear-regression-and-measure-their-speed-b5577d75f8b/) to choose your favorite. Here I will use [linregress](https://docs.scipy.org/doc/scipy-0.14.0/reference/generated/scipy.stats.linregress.html) function from scipy, and [OLS](https://www.statsmodels.org/dev/generated/statsmodels.regression.linear_model.OLS.html) function from statsmodel.\n",
        "\n",
        "> Example:\n",
        "Does people like you because you give them money?"
      ]
    },
    {
      "cell_type": "code",
      "metadata": {
        "id": "yvDI7KmR7_xg",
        "colab_type": "code",
        "outputId": "0544f9e0-aded-4aed-e6fe-6b607808db93",
        "colab": {
          "base_uri": "https://localhost:8080/",
          "height": 228
        }
      },
      "source": [
        "#from scipy\n",
        "money  = np.array([1, 2, 3, 4, 5, 6, 7, 8, 9, 10]) #predictor\n",
        "liking = np.array([2.2, 2.8, 4.5, 3.1, 8.7, 5.0, 4.5, 8.8, 9.0, 9.2]) #response\n",
        "\n",
        "slope, intercept, correlation, pval, stderror=st.linregress(money, liking)\n",
        "rsquared = correlation**2\n",
        "\n",
        "result = pd.DataFrame([slope, intercept, correlation, pval, stderror, rsquared], index='slope, intercept, correlation, pval, stderror, rsquared'.split(', '), columns=['values']).round(4)\n",
        "display(result)"
      ],
      "execution_count": 20,
      "outputs": [
        {
          "output_type": "display_data",
          "data": {
            "text/html": [
              "<div>\n",
              "<style scoped>\n",
              "    .dataframe tbody tr th:only-of-type {\n",
              "        vertical-align: middle;\n",
              "    }\n",
              "\n",
              "    .dataframe tbody tr th {\n",
              "        vertical-align: top;\n",
              "    }\n",
              "\n",
              "    .dataframe thead th {\n",
              "        text-align: right;\n",
              "    }\n",
              "</style>\n",
              "<table border=\"1\" class=\"dataframe\">\n",
              "  <thead>\n",
              "    <tr style=\"text-align: right;\">\n",
              "      <th></th>\n",
              "      <th>values</th>\n",
              "    </tr>\n",
              "  </thead>\n",
              "  <tbody>\n",
              "    <tr>\n",
              "      <th>slope</th>\n",
              "      <td>0.7782</td>\n",
              "    </tr>\n",
              "    <tr>\n",
              "      <th>intercept</th>\n",
              "      <td>1.5000</td>\n",
              "    </tr>\n",
              "    <tr>\n",
              "      <th>correlation</th>\n",
              "      <td>0.8303</td>\n",
              "    </tr>\n",
              "    <tr>\n",
              "      <th>pval</th>\n",
              "      <td>0.0029</td>\n",
              "    </tr>\n",
              "    <tr>\n",
              "      <th>stderror</th>\n",
              "      <td>0.1847</td>\n",
              "    </tr>\n",
              "    <tr>\n",
              "      <th>rsquared</th>\n",
              "      <td>0.6893</td>\n",
              "    </tr>\n",
              "  </tbody>\n",
              "</table>\n",
              "</div>"
            ],
            "text/plain": [
              "             values\n",
              "slope        0.7782\n",
              "intercept    1.5000\n",
              "correlation  0.8303\n",
              "pval         0.0029\n",
              "stderror     0.1847\n",
              "rsquared     0.6893"
            ]
          },
          "metadata": {
            "tags": []
          }
        }
      ]
    },
    {
      "cell_type": "markdown",
      "metadata": {
        "id": "n71lwIGMByv3",
        "colab_type": "text"
      },
      "source": [
        "From correlation of 0.8303, there is a strong positive correlation: the more money you give someone, the more they like you. But even if we do not give them any money, i.e. predictor =0, people like you an amount of 1.50 any way. Furthermore, the r-squared explains how well the predictor describes the response variable. And the p value of 0.0029 shows this model is significant."
      ]
    },
    {
      "cell_type": "code",
      "metadata": {
        "id": "kGOoxPmMEzbs",
        "colab_type": "code",
        "outputId": "4b6c18a5-2037-4c34-c015-faeaa0436cbb",
        "colab": {
          "base_uri": "https://localhost:8080/",
          "height": 508
        }
      },
      "source": [
        "#from statsmodel\n",
        "import statsmodels.api as sm\n",
        "money = sm.add_constant(money)\n",
        "results = sm.OLS(liking, money).fit()\n",
        "money = money[:, 1]\n",
        "print(results.summary())"
      ],
      "execution_count": 21,
      "outputs": [
        {
          "output_type": "stream",
          "text": [
            "                            OLS Regression Results                            \n",
            "==============================================================================\n",
            "Dep. Variable:                      y   R-squared:                       0.689\n",
            "Model:                            OLS   Adj. R-squared:                  0.650\n",
            "Method:                 Least Squares   F-statistic:                     17.75\n",
            "Date:                Thu, 13 Feb 2020   Prob (F-statistic):            0.00294\n",
            "Time:                        15:09:29   Log-Likelihood:                -18.248\n",
            "No. Observations:                  10   AIC:                             40.50\n",
            "Df Residuals:                       8   BIC:                             41.10\n",
            "Df Model:                           1                                         \n",
            "Covariance Type:            nonrobust                                         \n",
            "==============================================================================\n",
            "                 coef    std err          t      P>|t|      [0.025      0.975]\n",
            "------------------------------------------------------------------------------\n",
            "const          1.5000      1.146      1.309      0.227      -1.143       4.143\n",
            "x1             0.7782      0.185      4.213      0.003       0.352       1.204\n",
            "==============================================================================\n",
            "Omnibus:                        2.154   Durbin-Watson:                   2.826\n",
            "Prob(Omnibus):                  0.341   Jarque-Bera (JB):                0.506\n",
            "Skew:                           0.537   Prob(JB):                        0.776\n",
            "Kurtosis:                       3.244   Cond. No.                         13.7\n",
            "==============================================================================\n",
            "\n",
            "Warnings:\n",
            "[1] Standard Errors assume that the covariance matrix of the errors is correctly specified.\n"
          ],
          "name": "stdout"
        },
        {
          "output_type": "stream",
          "text": [
            "/usr/local/lib/python3.6/dist-packages/scipy/stats/stats.py:1535: UserWarning: kurtosistest only valid for n>=20 ... continuing anyway, n=10\n",
            "  \"anyway, n=%i\" % int(n))\n"
          ],
          "name": "stderr"
        }
      ]
    },
    {
      "cell_type": "markdown",
      "metadata": {
        "id": "2ehkpog1Go9t",
        "colab_type": "text"
      },
      "source": [
        "From statsmodel, Statsmodel has a comprehensive summary that is useful for analysis. `R-squared:` tells us how much of the variance in the response variable (liking) is explained by the predictor variable (money); `Prob (F-statistic)` gives the probability of observations given all regression coefficients equal zero is true,i.e. there will be no relationship between money and liking. Under 0.05 significance level, we will reject the null hypothesis and conclude this model is significant. The parameters are returned with P value indicating their significance as well(ho: each parameter is zero). If we have more predictors, this table will be useful for variable selection.\n",
        "\n"
      ]
    },
    {
      "cell_type": "markdown",
      "metadata": {
        "id": "rRyTHFGtJzJX",
        "colab_type": "text"
      },
      "source": [
        "## Testing Assumptions"
      ]
    },
    {
      "cell_type": "markdown",
      "metadata": {
        "id": "HVZv-JXFDOP7",
        "colab_type": "text"
      },
      "source": [
        "1.  The relationship between the predictor and response variable is linear. \n",
        "2.  Homocedasticity. To check this we should make sure the variation in residuals is roughly even at all levels of the predictor and response variables.\n",
        "3.  Residuals are normally distributed. This means that the most common values are around zero, with fewer values as we move higher and lower than zero.\n",
        "4.  Residuals cannot be related to each other."
      ]
    },
    {
      "cell_type": "code",
      "metadata": {
        "id": "lPOhJpTrA92Z",
        "colab_type": "code",
        "colab": {
          "base_uri": "https://localhost:8080/",
          "height": 442
        },
        "outputId": "dfb7ce9a-d3a3-4d23-a6f6-d41ed695d2c8"
      },
      "source": [
        "import matplotlib.pyplot as plt\n",
        "\n",
        "residuals = results.resid\n",
        "fig, axes=plt.subplots(nrows=2, ncols=2, figsize=(10, 7))\n",
        "axes[0, 0].scatter(money, liking)\n",
        "axes[0, 0].plot(money, money*slope+intercept, 'k-')\n",
        "axes[0, 0].set(xlabel='money', ylabel='liking')\n",
        "axes[0, 0].grid()\n",
        "axes[0, 1].scatter(money, residuals)\n",
        "axes[0, 1].set(xlabel='money', ylabel='Residuals')\n",
        "axes[1, 0].scatter(liking, residuals)\n",
        "axes[1, 0].set(xlabel='liking', ylabel='Residuals')\n",
        "axes[1, 1].hist(residuals, align='mid', bins=[-3,-2,-1,0,1,2,3,4])\n",
        "axes[1, 1].set(xlabel='residuals', ylabel='counts')\n",
        "axes[1, 1].grid()\n",
        "\n",
        "plt.show()"
      ],
      "execution_count": 48,
      "outputs": [
        {
          "output_type": "display_data",
          "data": {
            "image/png": "[encoded data removed]",
            "text/plain": [
              "<Figure size 720x504 with 4 Axes>"
            ]
          },
          "metadata": {
            "tags": []
          }
        }
      ]
    },
    {
      "cell_type": "markdown",
      "metadata": {
        "id": "Igc3N4SDIdOu",
        "colab_type": "text"
      },
      "source": [
        "You can see from the plots that while the residuals seem fairly even on the 'money' plot, there is a slight pattern in the 'liking' plot, such that residuals seem to be larger at higher levels of liking, and lower at lower levels of liking. This pattern suggests that our data might not entirely meet the assumption of linearity or homoscedasticity.\n",
        "\n",
        "In the histogram, the residuals take a kind of a pyramid shape, with most of the values around zero, and fewer values as you move away from zero. This means they're normally distributed, except for the one outlier between 3 and 4."
      ]
    },
    {
      "cell_type": "markdown",
      "metadata": {
        "id": "-6EmpNktOH8_",
        "colab_type": "text"
      },
      "source": [
        "## Making Predictions"
      ]
    },
    {
      "cell_type": "markdown",
      "metadata": {
        "id": "bivMclnHOOYo",
        "colab_type": "text"
      },
      "source": [
        "If all the assumptions are met and the model is significant, we will be able to make prediction on two levels of intervals:\n",
        "1.  Prediction Intervals\n",
        "2.  Confidence Intervals"
      ]
    },
    {
      "cell_type": "code",
      "metadata": {
        "id": "StvNaRTHBMrZ",
        "colab_type": "code",
        "colab": {
          "base_uri": "https://localhost:8080/",
          "height": 78
        },
        "outputId": "6f245978-03f5-42ed-9d04-fedd0f4adf0c"
      },
      "source": [
        "newdata=[1, 3] #money=3, add the constant=1 manually\n",
        "results.get_prediction(newdata).summary_frame(alpha = 0.05)"
      ],
      "execution_count": 52,
      "outputs": [
        {
          "output_type": "execute_result",
          "data": {
            "text/html": [
              "<div>\n",
              "<style scoped>\n",
              "    .dataframe tbody tr th:only-of-type {\n",
              "        vertical-align: middle;\n",
              "    }\n",
              "\n",
              "    .dataframe tbody tr th {\n",
              "        vertical-align: top;\n",
              "    }\n",
              "\n",
              "    .dataframe thead th {\n",
              "        text-align: right;\n",
              "    }\n",
              "</style>\n",
              "<table border=\"1\" class=\"dataframe\">\n",
              "  <thead>\n",
              "    <tr style=\"text-align: right;\">\n",
              "      <th></th>\n",
              "      <th>mean</th>\n",
              "      <th>mean_se</th>\n",
              "      <th>mean_ci_lower</th>\n",
              "      <th>mean_ci_upper</th>\n",
              "      <th>obs_ci_lower</th>\n",
              "      <th>obs_ci_upper</th>\n",
              "    </tr>\n",
              "  </thead>\n",
              "  <tbody>\n",
              "    <tr>\n",
              "      <th>0</th>\n",
              "      <td>3.834545</td>\n",
              "      <td>0.703339</td>\n",
              "      <td>2.212643</td>\n",
              "      <td>5.456448</td>\n",
              "      <td>-0.360403</td>\n",
              "      <td>8.029494</td>\n",
              "    </tr>\n",
              "  </tbody>\n",
              "</table>\n",
              "</div>"
            ],
            "text/plain": [
              "       mean   mean_se  mean_ci_lower  mean_ci_upper  obs_ci_lower  obs_ci_upper\n",
              "0  3.834545  0.703339       2.212643       5.456448     -0.360403      8.029494"
            ]
          },
          "metadata": {
            "tags": []
          },
          "execution_count": 52
        }
      ]
    },
    {
      "cell_type": "markdown",
      "metadata": {
        "id": "FIEpcyNuPBEZ",
        "colab_type": "text"
      },
      "source": [
        "The the last cells `obs_ci_lower` and `obs_ci_upper` are the range where true 'liking' score that someone from our **sample** is likingly to give, at 95% of confidence interval.\n",
        "This means we are 95% sure that if we gave someone from our sample 3 units of money, they would like us somewhere between -0.36 and 8.03. That's quite a wide range.\n",
        "\n",
        "The middle two cells `mean_ci_lower` and `mean_ci_upper` are the range of scores which our **population** are likely to give.\n",
        "We're 95% sure that the mean amount that someone would like us if we gave them 3 units of money in the population falls between 2.12 and 5.46. This is quite a bit narrower than the prediction interval."
      ]
    },
    {
      "cell_type": "markdown",
      "metadata": {
        "id": "mgGOwD2QQaOw",
        "colab_type": "text"
      },
      "source": [
        "# Multiple Regression"
      ]
    },
    {
      "cell_type": "markdown",
      "metadata": {
        "id": "BW4Xrou-boA3",
        "colab_type": "text"
      },
      "source": [
        "## Calculation"
      ]
    },
    {
      "cell_type": "markdown",
      "metadata": {
        "id": "I23FHGQuTLC9",
        "colab_type": "text"
      },
      "source": [
        "We add one more predictor `smile` to our above sample to make the multiple regression. Then, we can use [ols](https://www.statsmodels.org/dev/generated/statsmodels.regression.linear_model.OLS.html) function again to get the statistics summary."
      ]
    },
    {
      "cell_type": "code",
      "metadata": {
        "id": "nhkV4jZ6VBS-",
        "colab_type": "code",
        "colab": {
          "base_uri": "https://localhost:8080/",
          "height": 563
        },
        "outputId": "25b91a3a-e0b9-4e8d-f2bc-66a78114fef5"
      },
      "source": [
        "smile = np.array([0.6, 0.7, 1.0, 0.1, 0.3, 0.1, 0.4, 0.8, 0.9, 0.2]) #predictor\n",
        "money  = np.array([1, 2, 3, 4, 5, 6, 7, 8, 9, 10]) #predictor\n",
        "liking = np.array([2.2, 2.8, 4.5, 3.1, 8.7, 5.0, 4.5, 8.8, 9.0, 9.2]) #response\n",
        "df = pd.DataFrame({'smile':smile, 'money': money, 'liking':liking})\n",
        "#using statsmodel ols function\n",
        "X=sm.add_constant(df[['smile', 'money']])\n",
        "model=sm.OLS(df['liking'], X).fit()\n",
        "print(model.summary())"
      ],
      "execution_count": 64,
      "outputs": [
        {
          "output_type": "stream",
          "text": [
            "                            OLS Regression Results                            \n",
            "==============================================================================\n",
            "Dep. Variable:                 liking   R-squared:                       0.720\n",
            "Model:                            OLS   Adj. R-squared:                  0.640\n",
            "Method:                 Least Squares   F-statistic:                     8.984\n",
            "Date:                Thu, 13 Feb 2020   Prob (F-statistic):             0.0117\n",
            "Time:                        16:18:42   Log-Likelihood:                -17.735\n",
            "No. Observations:                  10   AIC:                             41.47\n",
            "Df Residuals:                       7   BIC:                             42.38\n",
            "Df Model:                           2                                         \n",
            "Covariance Type:            nonrobust                                         \n",
            "==============================================================================\n",
            "                 coef    std err          t      P>|t|      [0.025      0.975]\n",
            "------------------------------------------------------------------------------\n",
            "const          0.6162      1.545      0.399      0.702      -3.037       4.269\n",
            "smile          1.4895      1.712      0.870      0.413      -2.559       5.539\n",
            "money          0.8008      0.189      4.229      0.004       0.353       1.249\n",
            "==============================================================================\n",
            "Omnibus:                        9.658   Durbin-Watson:                   2.521\n",
            "Prob(Omnibus):                  0.008   Jarque-Bera (JB):                3.971\n",
            "Skew:                           1.201   Prob(JB):                        0.137\n",
            "Kurtosis:                       4.939   Cond. No.                         24.5\n",
            "==============================================================================\n",
            "\n",
            "Warnings:\n",
            "[1] Standard Errors assume that the covariance matrix of the errors is correctly specified.\n"
          ],
          "name": "stdout"
        },
        {
          "output_type": "stream",
          "text": [
            "/usr/local/lib/python3.6/dist-packages/numpy/core/fromnumeric.py:2495: FutureWarning: Method .ptp is deprecated and will be removed in a future version. Use numpy.ptp instead.\n",
            "  return ptp(axis=axis, out=out, **kwargs)\n",
            "/usr/local/lib/python3.6/dist-packages/scipy/stats/stats.py:1535: UserWarning: kurtosistest only valid for n>=20 ... continuing anyway, n=10\n",
            "  \"anyway, n=%i\" % int(n))\n"
          ],
          "name": "stderr"
        }
      ]
    },
    {
      "cell_type": "markdown",
      "metadata": {
        "id": "tQbwoA9wWS69",
        "colab_type": "text"
      },
      "source": [
        "R squared for our model is 0.72 - this means that our model including money and smiling is about 72% better than just using the mean to predict how much someone will like us.\n",
        "\n",
        "F-statistic is 8.984, where p = 0.0117. Based on this, if all of our assumptions are met, smiling and/or money significantly predict liking. Next, we can check the individual parameters in the model. When controling for smiling, liking is related to money. For every unit increase in money, liking increases by 0.8008. The lower limit at 2.5% is 0.3353, and upper limit at 97.5% is 1.249. If we want to change the confidence level 90%, we can calculate the interval directly."
      ]
    },
    {
      "cell_type": "code",
      "metadata": {
        "id": "rOUbObazUZjS",
        "colab_type": "code",
        "colab": {
          "base_uri": "https://localhost:8080/",
          "height": 54
        },
        "outputId": "de76e703-dac7-46b5-84ab-5c8f9624dd43"
      },
      "source": [
        "lb = 0.8008 - st.t.ppf(0.95, 7) * 0.189 #0.95 the upper tail, two sided, degree of freedom: n-k where k is the number of parameters in the model including intercept.\n",
        "ub = 0.8008 + st.t.ppf(0.95, 7) * 0.189\n",
        "print(f'lower bound {lb}\\n upper bound {ub} at 90% of confidence level.')"
      ],
      "execution_count": 73,
      "outputs": [
        {
          "output_type": "stream",
          "text": [
            "lower bound 0.4427246436434133\n",
            " upper bound 1.1588753563565866 at 90% of confidence level.\n"
          ],
          "name": "stdout"
        }
      ]
    },
    {
      "cell_type": "markdown",
      "metadata": {
        "id": "9OY5ph6lbd6K",
        "colab_type": "text"
      },
      "source": [
        "## checking assumptions"
      ]
    },
    {
      "cell_type": "markdown",
      "metadata": {
        "id": "K84pSMPIbrVW",
        "colab_type": "text"
      },
      "source": [
        "1.   **Linearity**. The assumption of linearity says that the predictors should be linearly related to the response variable. As we cannot really do this when we have more than one predictor, we are going to look at the residuals against the response variable. We would hope to see the residuals move in a straight line.\n",
        "2.   **Homoscedasticity**. To check this we should make sure the variation in residuals is roughly even at all levels of the predictor.\n",
        "3.   **Independent errors**\n",
        "4.   **Sufficient observations**\n",
        "5.   **Absence of outliers**. Can use the standardized residuals to check. Standardized residuals greater than 3 or less than -3 are likely outliers.\n",
        "6.   **Residuals normality**"
      ]
    },
    {
      "cell_type": "code",
      "metadata": {
        "id": "q5YGJx8VZhkW",
        "colab_type": "code",
        "colab": {
          "base_uri": "https://localhost:8080/",
          "height": 501
        },
        "outputId": "591b3a3d-8a88-4924-f884-f7129175cbbb"
      },
      "source": [
        "import matplotlib.pyplot as plt\n",
        "\n",
        "residulas = model.resid\n",
        "stdresid = residuals/np.std(residuals)\n",
        "fig, axes=plt.subplots(nrows=2, ncols=2, figsize=(10, 8))\n",
        "axes[0, 0].scatter(df['money'], residuals)\n",
        "axes[0, 0].set(xlabel='money', ylabel='reiduals')\n",
        "axes[0, 0].grid()\n",
        "axes[0, 1].scatter(df['smile'], residuals)\n",
        "axes[0, 1].set(xlabel='smile', ylabel='reiduals')\n",
        "axes[0, 1].grid()\n",
        "axes[1, 0].hist(stdresid, bins=[-4, -3, -2, -1, 0, 1, 2, 3, 4])\n",
        "axes[1, 0].set(title='Histogram of Std Resid')\n",
        "axes[1, 1].hist(residuals, bins=[-3, -2, -1, 0, 1, 2, 3, 4], align='mid')\n",
        "axes[1, 1].set(title='Histogram of Resid')\n",
        "fig.subplots_adjust(wspace=0.2, hspace=0.5)\n",
        "plt.plot()"
      ],
      "execution_count": 94,
      "outputs": [
        {
          "output_type": "execute_result",
          "data": {
            "text/plain": [
              "[]"
            ]
          },
          "metadata": {
            "tags": []
          },
          "execution_count": 94
        },
        {
          "output_type": "display_data",
          "data": {
            "image/png": "[encoded data removed]",
            "text/plain": [
              "<Figure size 720x576 with 4 Axes>"
            ]
          },
          "metadata": {
            "tags": []
          }
        }
      ]
    },
    {
      "cell_type": "markdown",
      "metadata": {
        "id": "sLQT1xq9eC72",
        "colab_type": "text"
      },
      "source": [
        "We see some values fan out in the middle. That means the assumption of homoscedasticity is violated. The linearity is somewhat problematic because of these outliers. From the standardize residuals histogram, it looks like it has one residual over 2, but nothing over or under 3. From the Residuals histogram, we can tell the residuals follow a fairly normal pattern, however the sneaky outliers from before show up at either tail!"
      ]
    },
    {
      "cell_type": "markdown",
      "metadata": {
        "id": "SEGbbBP_hdc3",
        "colab_type": "text"
      },
      "source": [
        "## Categorical predictors"
      ]
    },
    {
      "cell_type": "markdown",
      "metadata": {
        "id": "hucjJYVJhjCJ",
        "colab_type": "text"
      },
      "source": [
        "Let's include a variable called talk. We either said something neutral (\"Nice weather today\"), rude (\"You smell\"), or polite (\"You are great\"). We coded these responses as 1, 2, and 3, respectively. As OLS function does not help us to dummify the categorical variable directly, we are using its R style [formula.api](https://www.statsmodels.org/dev/example_formulas.html) to do it, with ols function. You can also use pandas [get_dummies](https://pandas.pydata.org/pandas-docs/stable/reference/api/pandas.get_dummies.html) function to generate such dummies, dropping one of its level from each categorical variable, and put it back to OLS function."
      ]
    },
    {
      "cell_type": "code",
      "metadata": {
        "id": "wn9Hj0dDe4jg",
        "colab_type": "code",
        "colab": {
          "base_uri": "https://localhost:8080/",
          "height": 599
        },
        "outputId": "90166cff-6fc3-42a7-a6b3-fde5429b31aa"
      },
      "source": [
        "import statsmodels.formula.api as smf\n",
        "\n",
        "talk = np.array([1, 2, 3, 2, 3, 1, 2, 1, 3, 1])\n",
        "df['talk']=talk\n",
        "df['talk']=df['talk'].astype('category')\n",
        "model2 = smf.ols(formula='liking~smile+money+C(talk)', data=df).fit()\n",
        "print(model2.summary())\n"
      ],
      "execution_count": 114,
      "outputs": [
        {
          "output_type": "stream",
          "text": [
            "                            OLS Regression Results                            \n",
            "==============================================================================\n",
            "Dep. Variable:                 liking   R-squared:                       0.869\n",
            "Model:                            OLS   Adj. R-squared:                  0.764\n",
            "Method:                 Least Squares   F-statistic:                     8.286\n",
            "Date:                Thu, 13 Feb 2020   Prob (F-statistic):             0.0197\n",
            "Time:                        17:21:58   Log-Likelihood:                -13.933\n",
            "No. Observations:                  10   AIC:                             37.87\n",
            "Df Residuals:                       5   BIC:                             39.38\n",
            "Df Model:                           4                                         \n",
            "Covariance Type:            nonrobust                                         \n",
            "================================================================================\n",
            "                   coef    std err          t      P>|t|      [0.025      0.975]\n",
            "--------------------------------------------------------------------------------\n",
            "Intercept        1.9694      1.482      1.329      0.241      -1.839       5.778\n",
            "C(talk)[T.2]    -1.4892      1.100     -1.354      0.234      -4.317       1.338\n",
            "C(talk)[T.3]     1.5572      1.156      1.347      0.236      -1.414       4.528\n",
            "smile           -0.1523      1.576     -0.097      0.927      -4.204       3.899\n",
            "money            0.7033      0.161      4.367      0.007       0.289       1.117\n",
            "==============================================================================\n",
            "Omnibus:                        1.715   Durbin-Watson:                   2.982\n",
            "Prob(Omnibus):                  0.424   Jarque-Bera (JB):                1.041\n",
            "Skew:                           0.512   Prob(JB):                        0.594\n",
            "Kurtosis:                       1.797   Cond. No.                         28.6\n",
            "==============================================================================\n",
            "\n",
            "Warnings:\n",
            "[1] Standard Errors assume that the covariance matrix of the errors is correctly specified.\n"
          ],
          "name": "stdout"
        },
        {
          "output_type": "stream",
          "text": [
            "/usr/local/lib/python3.6/dist-packages/numpy/core/fromnumeric.py:2495: FutureWarning: Method .ptp is deprecated and will be removed in a future version. Use numpy.ptp instead.\n",
            "  return ptp(axis=axis, out=out, **kwargs)\n",
            "/usr/local/lib/python3.6/dist-packages/scipy/stats/stats.py:1535: UserWarning: kurtosistest only valid for n>=20 ... continuing anyway, n=10\n",
            "  \"anyway, n=%i\" % int(n))\n"
          ],
          "name": "stderr"
        }
      ]
    },
    {
      "cell_type": "markdown",
      "metadata": {
        "id": "IdMRRqAUoTPU",
        "colab_type": "text"
      },
      "source": [
        "From the coefficient of talk variable, a rude statement(value 2) was negatively related to how much someone liked us, while a polite statement(value 3) was positively related to how much someone liked us."
      ]
    },
    {
      "cell_type": "markdown",
      "metadata": {
        "id": "k6tiJkgDpVeq",
        "colab_type": "text"
      },
      "source": [
        "## Categorical Response (Logistic Regression)"
      ]
    },
    {
      "cell_type": "markdown",
      "metadata": {
        "id": "sLsCfr_MpeWK",
        "colab_type": "text"
      },
      "source": [
        "Let's say instead of a continuous measure of liking, we have a binary measure - either someone likes us (1), or they don't (0).\n",
        "\n",
        "We can see whether we can predict whether someone likes us or not using logistic regression."
      ]
    },
    {
      "cell_type": "code",
      "metadata": {
        "id": "ReYBVo8UhrWL",
        "colab_type": "code",
        "colab": {
          "base_uri": "https://localhost:8080/",
          "height": 399
        },
        "outputId": "79f080f5-aca9-4402-aa46-72f9410282a2"
      },
      "source": [
        "df['liking'] = np.array([0, 0, 0, 0, 1, 1, 0, 1, 1, 1])\n",
        "X = sm.add_constant(df[['smile', 'money']])\n",
        "model3 = sm.Logit(df['liking'], X).fit()\n",
        "print(model3.summary())"
      ],
      "execution_count": 116,
      "outputs": [
        {
          "output_type": "stream",
          "text": [
            "Optimization terminated successfully.\n",
            "         Current function value: 0.347148\n",
            "         Iterations 8\n",
            "                           Logit Regression Results                           \n",
            "==============================================================================\n",
            "Dep. Variable:                 liking   No. Observations:                   10\n",
            "Model:                          Logit   Df Residuals:                        7\n",
            "Method:                           MLE   Df Model:                            2\n",
            "Date:                Thu, 13 Feb 2020   Pseudo R-squ.:                  0.4992\n",
            "Time:                        17:47:11   Log-Likelihood:                -3.4715\n",
            "converged:                       True   LL-Null:                       -6.9315\n",
            "Covariance Type:            nonrobust   LLR p-value:                   0.03143\n",
            "==============================================================================\n",
            "                 coef    std err          z      P>|z|      [0.025      0.975]\n",
            "------------------------------------------------------------------------------\n",
            "const         -4.5794      3.276     -1.398      0.162     -11.001       1.842\n",
            "smile         -1.4755      3.621     -0.407      0.684      -8.573       5.622\n",
            "money          0.9312      0.593      1.569      0.117      -0.232       2.094\n",
            "==============================================================================\n"
          ],
          "name": "stdout"
        },
        {
          "output_type": "stream",
          "text": [
            "/usr/local/lib/python3.6/dist-packages/numpy/core/fromnumeric.py:2495: FutureWarning: Method .ptp is deprecated and will be removed in a future version. Use numpy.ptp instead.\n",
            "  return ptp(axis=axis, out=out, **kwargs)\n"
          ],
          "name": "stderr"
        }
      ]
    },
    {
      "cell_type": "markdown",
      "metadata": {
        "id": "wGPGvS5Vqs0-",
        "colab_type": "text"
      },
      "source": [
        "We can tell from the coefficient of money that when you give a person one unit of money, the log odds of them liking you increases by 0.9312. If we take the expopential of log odd, we will get the odd as 2.5, and probability that people like you will be 0.72, which means the increase of 1 unit of money will increase 75% of chance they like you more."
      ]
    },
    {
      "cell_type": "code",
      "metadata": {
        "id": "Ut0Ep5GpplSK",
        "colab_type": "code",
        "colab": {
          "base_uri": "https://localhost:8080/",
          "height": 35
        },
        "outputId": "81ca96da-5b95-4fd4-ea3b-ae785c81216e"
      },
      "source": [
        "odds = np.exp(0.9312)\n",
        "py = odds/(1+odds)\n",
        "py"
      ],
      "execution_count": 119,
      "outputs": [
        {
          "output_type": "execute_result",
          "data": {
            "text/plain": [
              "0.7173186760473905"
            ]
          },
          "metadata": {
            "tags": []
          },
          "execution_count": 119
        }
      ]
    },
    {
      "cell_type": "markdown",
      "metadata": {
        "id": "MOrPonAdsmzt",
        "colab_type": "text"
      },
      "source": [
        "# Quantitative associations: ANOVA"
      ]
    },
    {
      "cell_type": "code",
      "metadata": {
        "id": "sYFORKzrrWzg",
        "colab_type": "code",
        "colab": {}
      },
      "source": [
        "# ANNOVA"
      ],
      "execution_count": 0,
      "outputs": []
    }
  ]
}