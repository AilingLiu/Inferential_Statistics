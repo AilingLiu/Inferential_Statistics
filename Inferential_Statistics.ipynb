{
  "nbformat": 4,
  "nbformat_minor": 0,
  "metadata": {
    "colab": {
      "name": "Inferential_Statistics.ipynb",
      "provenance": [],
      "collapsed_sections": [
        "aj-PMwiGcXt0",
        "jxJRP4FybcCX",
        "DMMTVNLlv29p",
        "2hmbdO1w9tWE"
      ],
      "authorship_tag": "ABX9TyO/3RujCHOIFCpsh7XJflHg",
      "include_colab_link": true
    },
    "kernelspec": {
      "name": "python3",
      "display_name": "Python 3"
    }
  },
  "cells": [
    {
      "cell_type": "markdown",
      "metadata": {
        "id": "view-in-github",
        "colab_type": "text"
      },
      "source": [
        "<a href=\"https://colab.research.google.com/github/AilingLiu/Inferential_Statistics/blob/master/Inferential_Statistics.ipynb\" target=\"_parent\"><img src=\"https://colab.research.google.com/assets/colab-badge.svg\" alt=\"Open In Colab\"/></a>"
      ]
    },
    {
      "cell_type": "markdown",
      "metadata": {
        "id": "cM1gu2PdkFEo",
        "colab_type": "text"
      },
      "source": [
        "This notebook summarizes the testing methods from <b>Inferential Statitistics </b> course taught by <u>University of Amsterdam</u> on [Coursera](https://www.coursera.org/learn/inferential-statistics). The course had taught how to conduct statistical test usng R. Here, I am using Python to do the test. All the formulas used in this document can be found [here](https://github.com/AilingLiu/Inferential_Statistics/blob/master/FormulasTables.pdf)."
      ]
    },
    {
      "cell_type": "code",
      "metadata": {
        "id": "bAjFEUYoqgZ5",
        "colab_type": "code",
        "colab": {}
      },
      "source": [
        "import numpy as np\n",
        "import pandas as pd\n",
        "import scipy.stats as st"
      ],
      "execution_count": 0,
      "outputs": []
    },
    {
      "cell_type": "markdown",
      "metadata": {
        "id": "_5c7FaPekoFx",
        "colab_type": "text"
      },
      "source": [
        "# Compare Two Groups"
      ]
    },
    {
      "cell_type": "markdown",
      "metadata": {
        "id": "tRdF7oOMk0Xm",
        "colab_type": "text"
      },
      "source": [
        "<b>Construct Hypotheses</b>\n",
        "\n",
        "When we are testing between two competing hypotheses, a null hypothesis $H_0$ and an alternative hypothesis $H_1$, we generally assume that the null hypothesis is true unless the data shows a strong indication that this is not the case. \n",
        "\n",
        "By doing hypotheses testing, we <u>test the probability of finding a sample statistic given that the null hypothesis is true</u>. If the null hypothesis is true, the difference between a sample statistics and the population parameter is <b>due to sampling error</b>, that is, fluctuations in the sample from the population. However, **if the probability of finding a sample statistic as extreme as ours under the null hypothesis is very small, we generally reject the null hypothesis**.\n",
        "\n",
        "> Test your understanding:\n",
        "\n",
        "\n",
        "1.   Imagine we have found a p value of 0.30 called p1 and another p value of 0.02 called p2, do these p values indicate strong evidence or weak evidence in favour of the null hypothesis? \n",
        ">> Answer: p1 indicates strong evidence in favour of the null hypothesis; p2 indicates weak evidence in favour of the null hypothesis.\n",
        "2.   What does a p value of 0.20 mean?\n",
        ">> Answer: A p value of 0.20 means that there's a probability of 20% of obtaining a similar result or more extreme given that the null hypothesis is true\n",
        "\n"
      ]
    },
    {
      "cell_type": "markdown",
      "metadata": {
        "id": "aj-PMwiGcXt0",
        "colab_type": "text"
      },
      "source": [
        "## Z test to compare two proportions from independent samples</b>\n"
      ]
    },
    {
      "cell_type": "markdown",
      "metadata": {
        "id": "Jfi18O7wceAy",
        "colab_type": "text"
      },
      "source": [
        "We usually calculate two things:\n",
        "\n",
        "1.   The difference between two sample proportions\n",
        "2.   The standard error\n",
        "\n",
        "> Example\n",
        "<br>In this exercise we have a sample of 100 males with a proportion of left wing voters of 0.6 and a sample of 150 females with a proportion of left-wing voters of 0.42. "
      ]
    },
    {
      "cell_type": "code",
      "metadata": {
        "id": "FUxA6ostknT3",
        "colab_type": "code",
        "colab": {
          "base_uri": "https://localhost:8080/",
          "height": 72
        },
        "outputId": "2bb2ad45-499f-426b-8da6-3690fdbc8aa5"
      },
      "source": [
        "nmale=100\n",
        "nfemale=150\n",
        "malep=0.6\n",
        "femalep=0.42\n",
        "\n",
        "#pooled proportion\n",
        "poolp=(nmale*malep+nfemale*femalep)/(nmale+nfemale)\n",
        "\n",
        "#standard error under the null hypothesis\n",
        "se=np.sqrt(poolp*(1-poolp)*(1/nmale + 1/nfemale))\n",
        "\n",
        "#z calculated value\n",
        "z_val = (malep - femalep)/se\n",
        "\n",
        "#corresponding p value\n",
        "p_val = (1-st.norm.cdf(z_val))*2\n",
        "\n",
        "sig = 0.05\n",
        "if p_val <=sig:\n",
        "  conclusion='Rejected'\n",
        "else:\n",
        "  conclusion='Not enough evidence to reject'\n",
        "\n",
        "print(f'Calculated Z value: {z_val:.4f}\\nPvalue is: {p_val:.4f} \\nConclusion on Null Hypothesis given {sig} significance level: {conclusion}')"
      ],
      "execution_count": 5,
      "outputs": [
        {
          "output_type": "stream",
          "text": [
            "Calculated Z value: 2.7889\n",
            "Pvalue is: 0.0053 \n",
            "Conclusion on Null Hypothesis given 0.05 significance level: Rejected\n"
          ],
          "name": "stdout"
        }
      ]
    },
    {
      "cell_type": "markdown",
      "metadata": {
        "id": "pUyGJfsxzr0D",
        "colab_type": "text"
      },
      "source": [
        "Another way to conduct the test is to get the confidence interval of the difference from the two proportions. If 0 (null hypothesis) falls inside the interval, we will reject null hypotheseis. We need two parameters to conduct this test:\n",
        "\n",
        "1.   The z score corresponding to the selected confidence level: $(1-conf)/2$.\n",
        "2.   The standarad error for the difference between two proportions"
      ]
    },
    {
      "cell_type": "code",
      "metadata": {
        "id": "a1933ZnezrGl",
        "colab_type": "code",
        "colab": {
          "base_uri": "https://localhost:8080/",
          "height": 54
        },
        "outputId": "3f5478b7-d818-4032-f8b6-ec359c069a29"
      },
      "source": [
        "#z score under given confidence level\n",
        "sig=0.01\n",
        "z_score = np.abs(st.norm.ppf(sig/2))\n",
        "\n",
        "# standard error for the difference\n",
        "sep=np.sqrt(malep*(1-malep)/nmale + femalep*(1-femalep)/nfemale)\n",
        "\n",
        "#lower bound of confidence interval\n",
        "lb = (malep-femalep) - z_score*sep\n",
        "#upper bound of confidence interval\n",
        "ub = (malep-femalep) + z_score*sep\n",
        "\n",
        "print(f'{(1-sig)*100} percent confidence interval:\\n[{lb:.4f}, {ub:.4f}]')"
      ],
      "execution_count": 6,
      "outputs": [
        {
          "output_type": "stream",
          "text": [
            "99.0 percent confidence interval:\n",
            "[0.0166, 0.3434]\n"
          ],
          "name": "stdout"
        }
      ]
    },
    {
      "cell_type": "markdown",
      "metadata": {
        "id": "HYy3x9-f1fiV",
        "colab_type": "text"
      },
      "source": [
        "There are differences and these differences are significant because the 99% confidence interval does not contain 0."
      ]
    },
    {
      "cell_type": "markdown",
      "metadata": {
        "id": "TB-CBR5TvbMc",
        "colab_type": "text"
      },
      "source": [
        "The equivalent z test for two independent proportions is [proportions_ztest](https://www.statsmodels.org/stable/generated/statsmodels.stats.proportion.proportions_ztest.html)."
      ]
    },
    {
      "cell_type": "code",
      "metadata": {
        "id": "gS8sgKhXshbq",
        "colab_type": "code",
        "colab": {
          "base_uri": "https://localhost:8080/",
          "height": 199
        },
        "outputId": "bdc72e50-9f98-42fc-fa2c-5e903a4fbf6f"
      },
      "source": [
        "#equivalent in python\n",
        "\n",
        "from statsmodels.stats.proportion import proportions_ztest\n",
        "x_success = np.array([nmale*malep, nfemale*femalep])\n",
        "n_total = np.array([nmale, nfemale])\n",
        "z_val, p_val = proportions_ztest(count=x_success, nobs=n_total, alternative='two-sided')\n",
        "\n",
        "#make a function to give conclusion directly based on pvalue and significance level\n",
        "def testeval(sig, pval):\n",
        "  \n",
        "  \"\"\"\n",
        "  Conclusion of rejection status on null hypothesis given significance level\n",
        "  and the pvalue corresponding to calculated test statistic.\n",
        "\n",
        "  Parameters\n",
        "  ----------\n",
        "  sig: float\n",
        "    Significance level. Governs the chance of a false positive.\n",
        "      A significance level of 0.05 means that there is a 5% chance of\n",
        "      a false positive.\n",
        "  \n",
        "  pval: float\n",
        "    Calculated p value. The probability of obtaining a similar results\n",
        "    or more extreme given null hypothesis is true.\n",
        "  \n",
        "  Returns:\n",
        "  --------\n",
        "  result: string\n",
        "    Conclusion of rejection status on null hypothesis.\n",
        "  \"\"\"\n",
        "\n",
        "  if pval <=sig:\n",
        "    result = 'Rejected'\n",
        "  else:\n",
        "    result = 'Not enough evidence to reject'\n",
        "  return result\n",
        "\n",
        "siglevel = 0.05\n",
        "conclusion = testeval(siglevel, p_val)\n",
        "print(f'Calculated Z value: {z_val:.4f}\\nPvalue is: {p_val:.4f} \\nConclusion on Null Hypothesis given {siglevel} significance level: {conclusion}\\n')\n",
        "\n",
        "siglevel = 0.01\n",
        "conclusion = testeval(siglevel, p_val)\n",
        "print(f'Calculated Z value: {z_val:.4f}\\nPvalue is: {p_val:.4f} \\nConclusion on Null Hypothesis given {siglevel} significance level: {conclusion}\\n')\n",
        "\n",
        "def prop_confint_2ind(count, nobs, alpha=0.05):\n",
        "  \n",
        "  \"\"\"\n",
        "  A/B test for two proportions;\n",
        "  given a success a trial size of group A and B compute\n",
        "  its confidence interval;\n",
        "  resulting confidence interval matches R's prop.test function\n",
        "\n",
        "  Parameters\n",
        "  ----------\n",
        "  count: array\n",
        "      Number of successes in each group\n",
        "\n",
        "  nobs: array\n",
        "      Size, or number of observations in each group\n",
        "\n",
        "  alpha : float, default 0.05\n",
        "      Significance level. Governs the chance of a false positive.\n",
        "      A significance level of 0.05 means that there is a 5% chance of\n",
        "      a false positive. In other words, our confidence level is\n",
        "      1 - 0.05 = 0.95\n",
        "\n",
        "  Returns\n",
        "  -------\n",
        "  prop_diff : float\n",
        "      Difference between the two proportion\n",
        "\n",
        "  confint : 1d ndarray\n",
        "      Confidence interval of the two proportion test\n",
        "  \"\"\"  \n",
        "\n",
        "  a_success, b_success = count[0], count[1]\n",
        "  a_size, b_size = nobs[0], nobs[1]\n",
        "  a_prop, b_prop = a_success/a_size, b_success/b_size\n",
        "  prop_diff = a_prop-b_prop\n",
        "\n",
        "  #z score under given confidence level\n",
        "  z_score = np.abs(st.norm.ppf(alpha/2))\n",
        "\n",
        "  # standard error for the difference\n",
        "  sep=np.sqrt(a_prop*(1-a_prop)/a_size + b_prop*(1-b_prop)/b_size)\n",
        "\n",
        "  #lower bound of confidence interval\n",
        "  lb = prop_diff - z_score*sep\n",
        "  #upper bound of confidence interval\n",
        "  ub = prop_diff + z_score*sep\n",
        "  return prop_diff, [lb, ub]\n",
        "\n",
        "sig=0.01\n",
        "diff, [lowerb, upperb] = prop_confint_2ind(count=x_success, nobs=n_total, alpha=sig)\n",
        "print(f'{(1-sig)*100} percent confidence interval:\\n[{lowerb:.4f}, {upperb:.4f}]')"
      ],
      "execution_count": 7,
      "outputs": [
        {
          "output_type": "stream",
          "text": [
            "Calculated Z value: 2.7889\n",
            "Pvalue is: 0.0053 \n",
            "Conclusion on Null Hypothesis given 0.05 significance level: Rejected\n",
            "\n",
            "Calculated Z value: 2.7889\n",
            "Pvalue is: 0.0053 \n",
            "Conclusion on Null Hypothesis given 0.01 significance level: Rejected\n",
            "\n",
            "99.0 percent confidence interval:\n",
            "[0.0166, 0.3434]\n"
          ],
          "name": "stdout"
        }
      ]
    },
    {
      "cell_type": "markdown",
      "metadata": {
        "id": "jxJRP4FybcCX",
        "colab_type": "text"
      },
      "source": [
        "## T test to compare compare two means from independent samples"
      ]
    },
    {
      "cell_type": "markdown",
      "metadata": {
        "id": "L1PxAS6qcyF2",
        "colab_type": "text"
      },
      "source": [
        "we usually calculate 2 other things first\n",
        "\n",
        "1.   The difference between two independent sample means\n",
        "2.   The standard error of the difference between two independent sample means\n",
        "\n",
        "> Example\n",
        "<br>In this exercise we have a sample of 100 males that do sports on average 4.2 hours per week and a sample of 150 females that do sports on average 5.8 hours per week. \n",
        "*  Case a: the population variances are unequal in two groups\n",
        "*  Case b: the populatin variances are equal in two groups"
      ]
    },
    {
      "cell_type": "code",
      "metadata": {
        "id": "ZkcYbMG-vXNH",
        "colab_type": "code",
        "colab": {
          "base_uri": "https://localhost:8080/",
          "height": 126
        },
        "outputId": "07baaf26-6eb0-45f8-d8b1-56548ab67cdc"
      },
      "source": [
        "#Case a: the population variances are unequal\n",
        "nmale=100\n",
        "malemean=4.2\n",
        "stdmale=2.3\n",
        "nfemale=150\n",
        "femalemean=5.8\n",
        "stdfemale=3.1\n",
        "\n",
        "#standard eror for the difference between two means\n",
        "se=np.sqrt(stdmale**2/nmale+stdfemale**2/nfemale)\n",
        "\n",
        "#mean difference\n",
        "diff=malemean-femalemean\n",
        "\n",
        "#t value\n",
        "t_val=diff/se\n",
        "\n",
        "#degree of freedom\n",
        "df=se**2/((1/(nmale-1)*(stdmale**2/nmale)**2)+(1/(nfemale-1)*(stdfemale**2/nfemale)**2))\n",
        "\n",
        "#calculate the p value\n",
        "pval=(1-st.t.cdf(np.abs(t_val), df))*2\n",
        "siglevel=0.01\n",
        "conclusion=testeval(siglevel, pval)\n",
        "print(f'Calculated T value: {t_val:.4f}\\nPvalue is: {pval:.4f} \\nConclusion on Null Hypothesis given {siglevel} significance level: {conclusion}\\n')\n",
        "\n",
        "# calculate the 99% confidence interval\n",
        "t_score=np.abs(st.t.ppf(siglevel/2, df))\n",
        "lb = diff-t_score*(se)\n",
        "ub = diff+t_score*(se)\n",
        "print(f'{(1-siglevel)*100} percent confidence interval:\\n[{lb:.4f}, {ub:.4f}]')\n"
      ],
      "execution_count": 15,
      "outputs": [
        {
          "output_type": "stream",
          "text": [
            "Calculated T value: -4.6783\n",
            "Pvalue is: 0.0000 \n",
            "Conclusion on Null Hypothesis given 0.01 significance level: Rejected\n",
            "\n",
            "99.0 percent confidence interval:\n",
            "[-2.4817, -0.7183]\n"
          ],
          "name": "stdout"
        }
      ]
    },
    {
      "cell_type": "code",
      "metadata": {
        "id": "sbIdtfYngJX3",
        "colab_type": "code",
        "colab": {
          "base_uri": "https://localhost:8080/",
          "height": 126
        },
        "outputId": "c2986199-01c5-454f-e3ab-43b46e48cdbb"
      },
      "source": [
        "#Case b: the population variances are equal\n",
        "nmale=100\n",
        "malemean=4.2\n",
        "nfemale=150\n",
        "femalemean=5.8\n",
        "std=2.8\n",
        "\n",
        "#mean difference\n",
        "diff=malemean-femalemean\n",
        "\n",
        "#pooled standard deviation\n",
        "s=np.sqrt(((nmale-1)*std**2 + (nfemale-1)*std**2)/(nmale-1+nfemale-1))\n",
        "\n",
        "#standard eror for the difference between two means\n",
        "se=s*np.sqrt(1/nmale+1/nfemale)\n",
        "\n",
        "#t value\n",
        "t_val=diff/se\n",
        "\n",
        "#degree of freedom\n",
        "df=nmale+nfemale-2\n",
        "\n",
        "#calculate the p value\n",
        "pval=(1-st.t.cdf(np.abs(t_val), df))*2\n",
        "siglevel=0.01\n",
        "conclusion=testeval(siglevel, pval)\n",
        "print(f'Calculated T value: {t_val:.4f}\\nPvalue is: {pval:.4f} \\nConclusion on Null Hypothesis given {siglevel} significance level: {conclusion}\\n')\n",
        "\n",
        "# calculate the 99% confidence interval\n",
        "t_score=np.abs(st.t.ppf(siglevel/2, df))\n",
        "lb = diff-t_score*(se)\n",
        "ub = diff+t_score*(se)\n",
        "print(f'{(1-siglevel)*100} percent confidence interval:\\n[{lb:.4f}, {ub:.4f}]')\n"
      ],
      "execution_count": 13,
      "outputs": [
        {
          "output_type": "stream",
          "text": [
            "Calculated T value: -4.4263\n",
            "Pvalue is: 0.0000 \n",
            "Conclusion on Null Hypothesis given 0.01 significance level: Rejected\n",
            "\n",
            "99.0 percent confidence interval:\n",
            "[-2.5383, -0.6617]\n"
          ],
          "name": "stdout"
        }
      ]
    },
    {
      "cell_type": "markdown",
      "metadata": {
        "id": "wCL0fklymi0a",
        "colab_type": "text"
      },
      "source": [
        "Equivalent t test for two independent is [ttest_ind](https://docs.scipy.org/doc/scipy-0.15.1/reference/generated/scipy.stats.ttest_ind.html) from scipy or [ttest_ind](https://www.statsmodels.org/stable/generated/statsmodels.stats.weightstats.ttest_ind.html) from statsmodels. Both methods take data points as array directly, without specifically giving mean, standard deviation, or size."
      ]
    },
    {
      "cell_type": "code",
      "metadata": {
        "id": "2QimHYslkxRP",
        "colab_type": "code",
        "colab": {
          "base_uri": "https://localhost:8080/",
          "height": 90
        },
        "outputId": "61ea642e-38f3-4877-accc-16045cdef0a9"
      },
      "source": [
        "from statsmodels.stats.weightstats import ttest_ind\n",
        "\n",
        "#generate random data with mean, std, size as above sample.\n",
        "## equal variance\n",
        "rvmale=np.random.normal(loc=malemean, scale=std, size=nmale)\n",
        "rvmale_fix = (rvmale - np.mean(rvmale)) * (std / np.std(rvmale)) + malemean #fix mean problem\n",
        "rvfemale=np.random.normal(loc=femalemean, scale=std, size=nfemale)\n",
        "rvfemale_fix = (rvfemale - np.mean(rvfemale)) * (std / np.std(rvfemale)) + femalemean #fix mean problem\n",
        "\n",
        "t_val, pval, df=ttest_ind(rvmale_fix, rvfemale_fix, alternative='two-sided', usevar='pooled', value=0)\n",
        "conclusion=testeval(0.01, pval)\n",
        "print(f'Calculated T value: {t_val:.4f}\\nPvalue is: {pval:.4f} \\nConclusion on Null Hypothesis given {0.01} significance level: {conclusion}\\n')"
      ],
      "execution_count": 35,
      "outputs": [
        {
          "output_type": "stream",
          "text": [
            "Calculated T value: -4.4085\n",
            "Pvalue is: 0.0000 \n",
            "Conclusion on Null Hypothesis given 0.01 significance level: Rejected\n",
            "\n"
          ],
          "name": "stdout"
        }
      ]
    },
    {
      "cell_type": "code",
      "metadata": {
        "id": "6boQjYn2ruZ6",
        "colab_type": "code",
        "colab": {
          "base_uri": "https://localhost:8080/",
          "height": 90
        },
        "outputId": "ea6c8968-59b3-44c8-8fcc-59b6dd4a2819"
      },
      "source": [
        "## unequal variance\n",
        "rvmale=np.random.normal(loc=malemean, scale=stdmale, size=nmale)\n",
        "rvmale_fix = (rvmale - np.mean(rvmale)) * (stdmale / np.std(rvmale)) + malemean #fix mean problem\n",
        "rvfemale=np.random.normal(loc=femalemean, scale=stdfemale, size=nfemale)\n",
        "rvfemale_fix = (rvfemale - np.mean(rvfemale)) * (stdfemale / np.std(rvfemale)) + femalemean #fix mean problem\n",
        "\n",
        "t_val, pval, df=ttest_ind(rvmale_fix, rvfemale_fix, alternative='two-sided', usevar='unequal', value=0)\n",
        "conclusion=testeval(0.01, pval)\n",
        "print(f'Calculated T value: {t_val:.4f}\\nPvalue is: {pval:.4f} \\nConclusion on Null Hypothesis given {0.01} significance level: {conclusion}\\n')"
      ],
      "execution_count": 41,
      "outputs": [
        {
          "output_type": "stream",
          "text": [
            "Calculated T value: -4.6591\n",
            "Pvalue is: 0.0000 \n",
            "Conclusion on Null Hypothesis given 0.01 significance level: Rejected\n",
            "\n"
          ],
          "name": "stdout"
        }
      ]
    },
    {
      "cell_type": "markdown",
      "metadata": {
        "id": "fxYt1RnZu2QF",
        "colab_type": "text"
      },
      "source": [
        "How to interpret the result?\n",
        "\n",
        "Given that the null hypothesis is true, there is a probability of 0.000005 (5.21345e-06) of obtaining a result equally or more extreme. We are 99% confident that the population difference in hours of sport per week between males and females is between -2.4817 and -0.7183 hours per week."
      ]
    },
    {
      "cell_type": "markdown",
      "metadata": {
        "id": "DMMTVNLlv29p",
        "colab_type": "text"
      },
      "source": [
        "## Comparing two proportions for paired sample - McNemar's Test"
      ]
    },
    {
      "cell_type": "markdown",
      "metadata": {
        "id": "kActllXBwTK1",
        "colab_type": "text"
      },
      "source": [
        "Working with dependent data, such as twins, couples, same subject from different time, we will need to use different methods from above.\n",
        "\n",
        "> Example\n",
        "<br> Our research question here is whether there is a difference between the proportion of surveyed individuals that approve of the European union and the proportion of their partners that approve of the European union. What would be a good pair of hypotheses?\n",
        "<br>Answer\n",
        "<br>$H_0$: The proportion of EU approval is not different in surveyed individuals and their partners. $H_1$: The proportion of EU approval is different in surveyed individuals and their partners"
      ]
    },
    {
      "cell_type": "code",
      "metadata": {
        "id": "W7rKbgGnwitc",
        "colab_type": "code",
        "colab": {
          "base_uri": "https://localhost:8080/",
          "height": 168
        },
        "outputId": "e2f4723c-3163-4857-dd6a-7fac3ccc19b4"
      },
      "source": [
        "import pandas as pd\n",
        "\n",
        "col_index=pd.MultiIndex.from_tuples([('Partner Approves of the EU', 'Yes'), ('Partner Approves of the EU', 'No')])\n",
        "row_index=pd.MultiIndex.from_tuples([('Survey Individuals that approve of the EU', 'Yes'),('Survey Individuals that approve of the EU', 'No')])\n",
        "survey = pd.DataFrame(np.array([[150, 50], [35, 100]]), index=row_index, columns=col_index)\n",
        "survey['row_totals'] = survey.sum(axis=1)\n",
        "s=survey.sum(axis=0)\n",
        "s.name='column_totals'\n",
        "survey = survey.append(s)\n",
        "display(survey)"
      ],
      "execution_count": 65,
      "outputs": [
        {
          "output_type": "display_data",
          "data": {
            "text/html": [
              "<div>\n",
              "<style scoped>\n",
              "    .dataframe tbody tr th:only-of-type {\n",
              "        vertical-align: middle;\n",
              "    }\n",
              "\n",
              "    .dataframe tbody tr th {\n",
              "        vertical-align: top;\n",
              "    }\n",
              "\n",
              "    .dataframe thead tr th {\n",
              "        text-align: left;\n",
              "    }\n",
              "</style>\n",
              "<table border=\"1\" class=\"dataframe\">\n",
              "  <thead>\n",
              "    <tr>\n",
              "      <th></th>\n",
              "      <th colspan=\"2\" halign=\"left\">Partner Approves of the EU</th>\n",
              "      <th>row_totals</th>\n",
              "    </tr>\n",
              "    <tr>\n",
              "      <th></th>\n",
              "      <th>Yes</th>\n",
              "      <th>No</th>\n",
              "      <th></th>\n",
              "    </tr>\n",
              "  </thead>\n",
              "  <tbody>\n",
              "    <tr>\n",
              "      <th>(Survey Individuals that approve of the EU, Yes)</th>\n",
              "      <td>150</td>\n",
              "      <td>50</td>\n",
              "      <td>200</td>\n",
              "    </tr>\n",
              "    <tr>\n",
              "      <th>(Survey Individuals that approve of the EU, No)</th>\n",
              "      <td>35</td>\n",
              "      <td>100</td>\n",
              "      <td>135</td>\n",
              "    </tr>\n",
              "    <tr>\n",
              "      <th>column_totals</th>\n",
              "      <td>185</td>\n",
              "      <td>150</td>\n",
              "      <td>335</td>\n",
              "    </tr>\n",
              "  </tbody>\n",
              "</table>\n",
              "</div>"
            ],
            "text/plain": [
              "                                                 Partner Approves of the EU  ... row_totals\n",
              "                                                                        Yes  ...           \n",
              "(Survey Individuals that approve of the EU, Yes)                        150  ...        200\n",
              "(Survey Individuals that approve of the EU, No)                          35  ...        135\n",
              "column_totals                                                           185  ...        335\n",
              "\n",
              "[3 rows x 3 columns]"
            ]
          },
          "metadata": {
            "tags": []
          }
        }
      ]
    },
    {
      "cell_type": "code",
      "metadata": {
        "id": "JSSpckQ2z9cr",
        "colab_type": "code",
        "colab": {
          "base_uri": "https://localhost:8080/",
          "height": 90
        },
        "outputId": "5e36de59-0915-4b87-c3f8-ead90297ff62"
      },
      "source": [
        "#calculate z value\n",
        "z_val=(50-35)/np.sqrt(50+35)\n",
        "\n",
        "#get pvalue\n",
        "pval=(1-st.norm.cdf(np.abs(z_val)))*2\n",
        "siglevel=0.05\n",
        "conclusion=testeval(siglevel, pval)\n",
        "print(f'Calculated Z value: {z_val:.4f}\\nPvalue is: {pval:.4f} \\nConclusion on Null Hypothesis given {siglevel} significance level: {conclusion}\\n')"
      ],
      "execution_count": 67,
      "outputs": [
        {
          "output_type": "stream",
          "text": [
            "Calculated Z value: 1.6270\n",
            "Pvalue is: 0.1037 \n",
            "Conclusion on Null Hypothesis given 0.05 significance level: Not enough evidence to reject\n",
            "\n"
          ],
          "name": "stdout"
        }
      ]
    },
    {
      "cell_type": "markdown",
      "metadata": {
        "id": "NmSns86h4c3l",
        "colab_type": "text"
      },
      "source": [
        "The equivalent [mcnemar's test](http://www.statsmodels.org/dev/generated/statsmodels.stats.contingency_tables.mcnemar.html) in statsmodelss."
      ]
    },
    {
      "cell_type": "code",
      "metadata": {
        "id": "oi9KErQf28lk",
        "colab_type": "code",
        "colab": {
          "base_uri": "https://localhost:8080/",
          "height": 54
        },
        "outputId": "10eba6a2-c061-432c-b9c0-d35ce0511bc6"
      },
      "source": [
        "from statsmodels.stats.contingency_tables import mcnemar\n",
        "result = mcnemar(survey.iloc[:2, :2].to_numpy(), exact=False, correction=False)\n",
        "print(result)"
      ],
      "execution_count": 85,
      "outputs": [
        {
          "output_type": "stream",
          "text": [
            "pvalue      0.1037416782365415\n",
            "statistic   2.6470588235294117\n"
          ],
          "name": "stdout"
        }
      ]
    },
    {
      "cell_type": "markdown",
      "metadata": {
        "id": "2hmbdO1w9tWE",
        "colab_type": "text"
      },
      "source": [
        "## Compare two means for paired samples\n",
        "\n",
        "> Example\n",
        "<br>An example when we would do this is if we would want to know the effectiveness of a diet on people's weight. Our research question here is whether the diet that we have invented leads to a reduction in weight. As such our research question is directional. What would be a good set of hypotheses?\n",
        "<br>Answer: \n",
        "<br>$H_0$: There is no difference in people's weight before and after the diet. $H_1$: There is a reduction in weight after taking the diet."
      ]
    },
    {
      "cell_type": "code",
      "metadata": {
        "id": "AkaA6SeN6ibh",
        "colab_type": "code",
        "colab": {
          "base_uri": "https://localhost:8080/",
          "height": 90
        },
        "outputId": "c557c377-2ce0-4f38-e2a6-7b7981e22584"
      },
      "source": [
        "#generate data\n",
        "pre_weight=np.random.normal(loc=81.53587, scale=8.113578, size=100)\n",
        "pre_weight_fix=(pre_weight-np.mean(pre_weight))*(8.113578/np.std(pre_weight))+81.5358\n",
        "\n",
        "post_weight=np.random.normal(loc=78.20945, scale=9.223542, size=100)\n",
        "post_weight_fix=(post_weight-np.mean(post_weight))*(9.223542/np.std(pre_weight))+78.20945\n",
        "\n",
        "# get the difference of the two means\n",
        "diff = pre_weight_fix.mean()-post_weight_fix.mean()\n",
        "\n",
        "#standard deviation of the differences\n",
        "stddiff = np.std(pre_weight_fix-post_weight_fix)\n",
        "\n",
        "#standard error of the difference\n",
        "se=stddiff/np.sqrt(100)\n",
        "\n",
        "tval=diff/se \n",
        "pval=(1-st.t.cdf(np.abs(tval), 100-1))*2\n",
        "siglevel=0.05\n",
        "conclusion=testeval(siglevel, pval)\n",
        "print(f'Calculated t value: {tval:.4f}\\nPvalue is: {pval:.4f} \\nConclusion on Null Hypothesis given {siglevel} significance level: {conclusion}\\n')"
      ],
      "execution_count": 91,
      "outputs": [
        {
          "output_type": "stream",
          "text": [
            "Calculated t value: 2.3788\n",
            "Pvalue is: 0.0193 \n",
            "Conclusion on Null Hypothesis given 0.05 significance level: Rejected\n",
            "\n"
          ],
          "name": "stdout"
        }
      ]
    },
    {
      "cell_type": "code",
      "metadata": {
        "id": "AbZJi392BMVZ",
        "colab_type": "code",
        "colab": {}
      },
      "source": [
        ""
      ],
      "execution_count": 0,
      "outputs": []
    }
  ]
}